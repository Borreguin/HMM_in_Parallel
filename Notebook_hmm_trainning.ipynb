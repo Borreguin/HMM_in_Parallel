{
 "cells": [
  {
   "cell_type": "markdown",
   "metadata": {},
   "source": [
    "# Iniciando configuraciones:"
   ]
  },
  {
   "cell_type": "markdown",
   "metadata": {
    "ExecuteTime": {
     "end_time": "2018-05-29T15:55:21.165959Z",
     "start_time": "2018-05-29T15:55:21.134758Z"
    }
   },
   "source": [
    "### <font color='orange'>*AVISO*:</font>"
   ]
  },
  {
   "cell_type": "markdown",
   "metadata": {
    "ExecuteTime": {
     "end_time": "2018-05-29T15:55:21.165959Z",
     "start_time": "2018-05-29T15:55:21.134758Z"
    }
   },
   "source": [
    "#### Para correr este código con normalidad es necesario tener instalado: nodejs y ipywidgets. <br> Para instalar ejecute (una sola vez):"
   ]
  },
  {
   "cell_type": "markdown",
   "metadata": {
    "ExecuteTime": {
     "end_time": "2018-05-29T15:55:21.165959Z",
     "start_time": "2018-05-29T15:55:21.134758Z"
    }
   },
   "source": [
    "> conda install -c conda-forge notebook ipyparallel <br>\n",
    "> ipcluster nbextension enable <br>\n",
    "> jupyter nbextension install --sys-prefix --py ipyparallel <br>\n",
    "> jupyter nbextension enable --sys-prefix --py ipyparallel <br>\n",
    "> jupyter serverextension enable --sys-prefix --py ipyparallel <br>\n",
    "> conda install -c conda-forge nodejs <br>\n",
    "> conda install -c conda-forge ipywidgets <br>\n",
    "> conda install -c conda-forge tqdm <br>\n",
    "> jupyter labextension install @jupyter-widgets/jupyterlab-manager@0.34"
   ]
  },
  {
   "cell_type": "markdown",
   "metadata": {
    "ExecuteTime": {
     "end_time": "2018-05-29T15:55:21.165959Z",
     "start_time": "2018-05-29T15:55:21.134758Z"
    },
    "hide_input": false
   },
   "source": [
    "### <font color='green'>Sección: Import  </font>"
   ]
  },
  {
   "cell_type": "code",
   "execution_count": 17,
   "metadata": {
    "ExecuteTime": {
     "end_time": "2018-06-21T13:32:10.224123Z",
     "start_time": "2018-06-21T13:32:10.192922Z"
    },
    "hide_input": true
   },
   "outputs": [
    {
     "name": "stdout",
     "output_type": "stream",
     "text": [
      "Todo fue importado correctamente\n"
     ]
    }
   ],
   "source": [
    "# revisar el archivo ( si fuera necesario): \n",
    "# C:\\ProgramData\\Anaconda3\\share\\jupyter\\nbextensions\\ipyparallel\\main.js\n",
    "# cambiar : $(\"#tabs\").find('[href=#clusters]').hide()\n",
    "# por esto: $(\"#tabs\").find('[href=\"#clusters\"]').hide()\n",
    "\n",
    "import os\n",
    "import ipyparallel as ipp\n",
    "import time\n",
    "import datetime\n",
    "import pandas as pd\n",
    "from my_lib.hmm import hmm_util as hmm_u\n",
    "from my_lib.hmm import hmm_training as hmm_t\n",
    "import warnings\n",
    "# Interact libraries\n",
    "from __future__ import print_function\n",
    "from ipywidgets import interact, interactive, fixed, interact_manual, Layout\n",
    "import ipywidgets as widgets\n",
    "# Progress bar\n",
    "from tqdm import tqdm\n",
    "cwd = os.getcwd()\n",
    "# print(cwd)\n",
    "print(\"Todo fue importado correctamente\")"
   ]
  },
  {
   "cell_type": "markdown",
   "metadata": {
    "hide_input": false
   },
   "source": [
    "### <font color='green'> Parámetros por defecto: </font>"
   ]
  },
  {
   "cell_type": "code",
   "execution_count": 2,
   "metadata": {
    "ExecuteTime": {
     "end_time": "2018-06-21T12:56:50.568746Z",
     "start_time": "2018-06-21T12:56:50.053939Z"
    },
    "hide_input": false,
    "scrolled": false
   },
   "outputs": [
    {
     "data": {
      "text/markdown": [
       "**Directorios:** <br> <ul> <li>[Datos: ./data/] </li> <li>[Modelos: ./model/] </li> <li>[Logs: ./log/] </li></ul> "
      ],
      "text/plain": [
       "<IPython.core.display.Markdown object>"
      ]
     },
     "metadata": {},
     "output_type": "display_data"
    }
   ],
   "source": [
    "# Default values:\n",
    "DataPath = \"./data/\"\n",
    "ModelPath = \"./model/\"\n",
    "LogPath = \"./log/\"\n",
    "n_col_p = 24    # allow pivot if the number of columns is less than 'n_col_p'\n",
    "\n",
    "# DIRECTORIOS\n",
    "hmm_u.printmd(\"**Directorios:** <br> <ul> <li>[Datos: {0}] </li> <li>[Modelos: {1}] </li> <li>[Logs: {2}] </li></ul> \".format(DataPath, ModelPath, LogPath))\n",
    "data_set_file_names = os.listdir(DataPath)\n",
    "data_set_file_names = [x for x in data_set_file_names if \".pkl\" in x]\n",
    "\n",
    "# default_settings:\n",
    "d_set = hmm_u.open_pickle_file(\"default_settings.pkl\")\n",
    "if d_set is None:\n",
    "    d_set = dict()\n",
    "    d_set[\"n_min\"] = 55\n",
    "    d_set[\"n_max\"] = 110\n",
    "    d_set[\"n_iter\"] = 5\n",
    "    d_set[\"models_to_train\"] = [data_set_file_names[0]]\n",
    "\n",
    "# NÚMERO DE PERFILES DESEADO:\n",
    "n_range = widgets.IntRangeSlider(min=40,max=160, value=[d_set[\"n_min\"], d_set[\"n_max\"]], continuous_update=True)\n",
    "# hmm_u.printmd(\"**Selección del número de perfiles deseado: **\")\n",
    "ui_range = widgets.HBox([n_range])\n",
    "def f(n_range):\n",
    "    d_set[\"n_min\"], d_set[\"n_max\"] = n_range[0], n_range[1] \n",
    "    hmm_u.save_pickle_file(\"default_settings.pkl\", d_set)\n",
    "    print(\"Se encontrará el mejor modelo con K estados en el rango: [{0}, {1}]\".format(n_range[0], n_range[1]))\n",
    "\n",
    "out_range = widgets.interactive_output(f, {'n_range': n_range})\n",
    "# display(ui_range, out_range)\n",
    "\n",
    "# NÚMERO DE ITERACCIONES:\n",
    "n_iter = widgets.IntSlider(min=1, max=10, value=d_set[\"n_iter\"])\n",
    "# hmm_u.printmd(\"<hr/> **Selección del número de iteracciones: **\")\n",
    "ui_iter = widgets.HBox([n_iter])\n",
    "def g(n_iter):\n",
    "    d_set[\"n_iter\"] = n_iter \n",
    "    hmm_u.save_pickle_file(\"default_settings.pkl\", d_set)\n",
    "    print(\"Se realizará {0} iteracciones\".format(n_iter))\n",
    "out_iter = widgets.interactive_output(g, {'n_iter': n_iter})\n",
    "#display(ui_iter, out_iter)\n",
    "\n",
    "# SELECT MODELS TO TRAIN\n",
    "set_file_names = os.listdir(DataPath)\n",
    "set_file_names = [x for x in data_set_file_names if \".pkl\" in x]\n",
    "if  len(set_file_names) > 10 : n_rows_l = 10\n",
    "else: n_rows_l = len(data_set_file_names)\n",
    "\n",
    "# create the select list widget:\n",
    "models_to_train = widgets.SelectMultiple( options=set_file_names, value=d_set[\"models_to_train\"],\n",
    "    rows=n_rows_l, description='Modelos: ', disabled=False)\n",
    "\n",
    "def l(models_to_train):\n",
    "    to_tr = [x for x in models_to_train if x in set_file_names]\n",
    "    d_set[\"models_to_train\"] = to_tr \n",
    "    hmm_u.save_pickle_file(\"default_settings.pkl\", d_set)  \n",
    "    md = pd.DataFrame(to_tr, columns=[\"Modelos seleccionados\"])\n",
    "    md.index.name = \"ID\"\n",
    "    print(md)\n",
    "\n",
    "ui_models = widgets.HBox([models_to_train])\n",
    "out_models = widgets.interactive_output(l, {'models_to_train': models_to_train})\n",
    "# display(ui_models, out_models)\n"
   ]
  },
  {
   "cell_type": "markdown",
   "metadata": {
    "ExecuteTime": {
     "end_time": "2018-05-29T20:25:29.305947Z",
     "start_time": "2018-05-29T20:25:29.227951Z"
    },
    "hide_input": true
   },
   "source": [
    "#### Creando motores para correr el entrenamiento en parallelo"
   ]
  },
  {
   "cell_type": "code",
   "execution_count": 3,
   "metadata": {
    "ExecuteTime": {
     "end_time": "2018-06-21T12:56:50.849550Z",
     "start_time": "2018-06-21T12:56:50.568746Z"
    },
    "hide_input": true
   },
   "outputs": [
    {
     "name": "stdout",
     "output_type": "stream",
     "text": [
      "Engines running for this client: [0, 1, 2, 3]\n"
     ]
    }
   ],
   "source": [
    "n_comp_min = n_range.value[0]\n",
    "n_comp_max = n_range.value[1]\n",
    "n_interaction = n_iter.value\n",
    "\n",
    "rc = hmm_t.get_ipp_client() \n",
    "dview = rc[:]\n",
    "\n",
    "\"\"\" ________________________________________________________\n",
    "Setting engines:  \n",
    "Set CWD space to work\n",
    "Scatter and push variable to work with\n",
    "\"\"\"\n",
    "v = rc.load_balanced_view()\n",
    "v.block = True\n",
    "n_engines = len(v)\n",
    "v.map(os.chdir, [os.getcwd()] * n_engines)\n",
    "\"\"\" os.getcwd(): Get the current CWD, ex: 'C:\\\\Repositorios\\\\parallel_programing' \n",
    "    os.chdir() : Set the current CWD \"\"\"\n",
    "\n",
    "\"\"\"  Scattering the list of nComponents in current engines \"\"\"\n",
    "dview.scatter('var_list_nComp', list(range(n_comp_min, n_comp_max + 1)))\n",
    "\"\"\"  make sure that all process contains a scattered list of nComp \"\"\"\n",
    "make_sure = dview.pull('var_list_nComp').get()  # important"
   ]
  },
  {
   "cell_type": "markdown",
   "metadata": {
    "hide_input": true
   },
   "source": [
    "#### Definiendo la función a correr en parallelo"
   ]
  },
  {
   "cell_type": "code",
   "execution_count": 4,
   "metadata": {
    "ExecuteTime": {
     "end_time": "2018-06-21T12:56:50.865150Z",
     "start_time": "2018-06-21T12:56:50.849550Z"
    },
    "hide_input": true
   },
   "outputs": [
    {
     "name": "stdout",
     "output_type": "stream",
     "text": [
      "Función de entrenamiento lista.\n"
     ]
    }
   ],
   "source": [
    "\"\"\"__________________________________________________________\n",
    "START: Defining the parallel function for training process \n",
    "\"\"\"\n",
    "\n",
    "#@v.parallel(block=True)\n",
    "@v.parallel(block=False)\n",
    "def hmm_model_training(idp):\n",
    "    \"\"\"\n",
    "        :return the best model that was found in the training process using:\n",
    "        idp, identify the interaction that is running (if is needed)\n",
    "        @var_var_dataSet:       is a numpy array of shape (m x n) m features, n samples\n",
    "                                1 samples contains m features\n",
    "        @var_var_list_nComp:    list of components to test and evaluate\n",
    "        @var_index:             list of index that defines the evaluating dataset\n",
    "        Note: To pass values to this function use: push and scatter methods.\n",
    "    \"\"\"\n",
    "    from my_lib.hmm import hmm_util as hmm_u\n",
    "    import numpy as np\n",
    "\n",
    "    # Shared variables:\n",
    "    global var_dataSet  # dview.push({'var_dataSet': dataset})\n",
    "    global var_list_nComp  # dview.scatter('var_list_nComp', list(range(n_comp_min,n_comp_max+1)))\n",
    "    global var_index  # dview.scatter('var_index', list(len(df.index)))\n",
    "\n",
    "    \"\"\" Taking a slide of the hole data set for validating purposes \"\"\"\n",
    "    validating_set = var_dataSet[var_index]\n",
    "    \"\"\" Taking the rest of the dataSet for training purposes \"\"\"\n",
    "    ini, end = var_index[0], var_index[-1]\n",
    "    training_set = np.concatenate((var_dataSet[0:ini], var_dataSet[end:-1]))\n",
    "\n",
    "    \"\"\" Training a list of best models \"\"\"\n",
    "    best_model, log_register = hmm_u.select_best_HMM(training_set, validating_set, var_list_nComp, seed=idp)\n",
    "\n",
    "    \"\"\" Send the best model and a register/log of the training process \"\"\"\n",
    "    return {'model': best_model, \"log_register\": log_register}\n",
    "    # return len(var_dataSet)\n",
    "\n",
    "print(\"Función de entrenamiento lista.\")"
   ]
  },
  {
   "cell_type": "markdown",
   "metadata": {
    "hide_input": true
   },
   "source": [
    "# Entrenando los modelos: "
   ]
  },
  {
   "cell_type": "code",
   "execution_count": 5,
   "metadata": {
    "ExecuteTime": {
     "end_time": "2018-06-21T12:56:50.974351Z",
     "start_time": "2018-06-21T12:56:50.865150Z"
    },
    "hide_input": true
   },
   "outputs": [
    {
     "data": {
      "text/markdown": [
       "**Seleccione los modelos a entrenar:**"
      ],
      "text/plain": [
       "<IPython.core.display.Markdown object>"
      ]
     },
     "metadata": {},
     "output_type": "display_data"
    },
    {
     "data": {
      "text/markdown": [
       "*> Presione (ctrl + shift) para seleccionar más de un item:*"
      ],
      "text/plain": [
       "<IPython.core.display.Markdown object>"
      ]
     },
     "metadata": {},
     "output_type": "display_data"
    },
    {
     "data": {
      "application/vnd.jupyter.widget-view+json": {
       "model_id": "784dd591b01d4d3591f81e3b6f9ff370",
       "version_major": 2,
       "version_minor": 0
      },
      "text/plain": [
       "HBox(children=(SelectMultiple(description='Modelos: ', index=(0,), options=('Bornes_P_Total.pkl', 'EE. Quito.p…"
      ]
     },
     "metadata": {},
     "output_type": "display_data"
    },
    {
     "data": {
      "application/vnd.jupyter.widget-view+json": {
       "model_id": "f00e57364e8c4a05ba79b1b5c732be5d",
       "version_major": 2,
       "version_minor": 0
      },
      "text/plain": [
       "Output()"
      ]
     },
     "metadata": {},
     "output_type": "display_data"
    },
    {
     "data": {
      "text/markdown": [
       "**Selección del número de perfiles deseado**"
      ],
      "text/plain": [
       "<IPython.core.display.Markdown object>"
      ]
     },
     "metadata": {},
     "output_type": "display_data"
    },
    {
     "data": {
      "application/vnd.jupyter.widget-view+json": {
       "model_id": "157d94de1d55487e9bf6ff6fd75b2b6a",
       "version_major": 2,
       "version_minor": 0
      },
      "text/plain": [
       "HBox(children=(IntRangeSlider(value=(116, 160), max=160, min=40),))"
      ]
     },
     "metadata": {},
     "output_type": "display_data"
    },
    {
     "data": {
      "application/vnd.jupyter.widget-view+json": {
       "model_id": "f3a3831ad8654933b36592d9715dfa6a",
       "version_major": 2,
       "version_minor": 0
      },
      "text/plain": [
       "Output()"
      ]
     },
     "metadata": {},
     "output_type": "display_data"
    },
    {
     "data": {
      "text/markdown": [
       "**Selección del número de iteracciones**"
      ],
      "text/plain": [
       "<IPython.core.display.Markdown object>"
      ]
     },
     "metadata": {},
     "output_type": "display_data"
    },
    {
     "data": {
      "application/vnd.jupyter.widget-view+json": {
       "model_id": "a44175c4236a45db9e6094885fcb4544",
       "version_major": 2,
       "version_minor": 0
      },
      "text/plain": [
       "HBox(children=(IntSlider(value=2, max=10, min=1),))"
      ]
     },
     "metadata": {},
     "output_type": "display_data"
    },
    {
     "data": {
      "application/vnd.jupyter.widget-view+json": {
       "model_id": "768e8a57b6f64cadbe8672a100eeccd4",
       "version_major": 2,
       "version_minor": 0
      },
      "text/plain": [
       "Output()"
      ]
     },
     "metadata": {},
     "output_type": "display_data"
    }
   ],
   "source": [
    "hmm_u.printmd(\"**Seleccione los modelos a entrenar:**\")\n",
    "hmm_u.printmd(\"*> Presione (ctrl + shift) para seleccionar más de un item:*\")\n",
    "display(ui_models, out_models)\n",
    "hmm_u.printmd(\"**Selección del número de perfiles deseado**\")\n",
    "display(ui_range, out_range)\n",
    "hmm_u.printmd(\"**Selección del número de iteracciones**\")\n",
    "display(ui_iter, out_iter)"
   ]
  },
  {
   "cell_type": "code",
   "execution_count": 14,
   "metadata": {
    "ExecuteTime": {
     "end_time": "2018-06-21T13:02:12.154269Z",
     "start_time": "2018-06-21T13:02:12.123069Z"
    },
    "code_folding": [],
    "hide_input": false
   },
   "outputs": [
    {
     "name": "stdout",
     "output_type": "stream",
     "text": [
      "Función y parámetros listos para el entrenamiento... \n"
     ]
    }
   ],
   "source": [
    "print(\"Función y parámetros listos para el entrenamiento... \")\n",
    "def training_models_from_file_names(data_set_file_names, time_range):\n",
    "\n",
    "    tr = time.time()\n",
    "    for fileName in data_set_file_names:\n",
    "\n",
    "        \"\"\" Reading and preparing dataset from DataPath\"\"\"\n",
    "        df = hmm_u.read_dfx_from(DataPath + fileName)\n",
    "        mask = df.index.isin(time_range)\n",
    "        df = df[mask]\n",
    "        dataSet = df.values\n",
    "        \n",
    "        if len(dataSet) == 0:\n",
    "            print(\"[{0: <21s}] Check information for {1}\".format(hmm_u.time_now(), fileName))\n",
    "            continue\n",
    "        \n",
    "        print(\"[{0: <21s}] Empezando el entrenamiento HMM para: \\t\\t{1}\".format(hmm_u.time_now(), fileName))\n",
    "        print(\"[{0: <21s}] Entrenamiento desde: \\t\\t\\t\\t{1} hasta {2}\".format(hmm_u.time_now(), \n",
    "                                                                              df.index[0].strftime(\"%Y-%m-%d\"),\n",
    "                                                                              df.index[-1].strftime(\"%Y-%m-%d\")))\n",
    "        \n",
    "        \n",
    "        \"\"\" Setting engines for the training process\"\"\"\n",
    "        # push df.values in all engines to start training process:\n",
    "        dview.push({'var_dataSet': dataSet})\n",
    "        # scattering indexes for validating purposes:\n",
    "        dview.scatter('var_index', list(range(len(df.index))))\n",
    "        dview.gather('var_index').get()  # make sure \"var_index\" is in engines.\n",
    "        dview.pull('var_dataSet').get()\n",
    "\n",
    "        \"\"\" Run the training process: (n_interaction) times in parallel fashion: \"\"\"\n",
    "        best_model_list = list()\n",
    "        progress_bar = tqdm(range(n_interaction), desc=\"\\t -> Espere... \", ncols=100) \n",
    "        for it in progress_bar:\n",
    "            model_list = hmm_model_training(range(n_engines*it, n_engines*(it+1)))\n",
    "            best_model_list += model_list\n",
    "            progress_bar.set_description(\"[{0: <8s} + {1: <5} min.] Entrenamiento\".format(\n",
    "                hmm_u.time_now(),\n",
    "                round(hmm_u.d_time(tr)/60,1)\n",
    "                )\n",
    "            )\n",
    "            tr = time.time()\n",
    "            \n",
    "        final_model, log_register = hmm_u.select_best_model_from_list(best_model_list, dataSet)\n",
    "\n",
    "        \"\"\" Ordering the best model according to a Hierarchical Clustering \"\"\"\n",
    "        ordered_model = hmm_u.ordered_hmm_model(final_model, method='average', metric='euclidean')\n",
    "\n",
    "        \"\"\" Saving the best model and his log_register for posterior analysis \"\"\"\n",
    "        print(\"\\tNumber of trained models: \\t\\t {0}\".format((n_comp_max - n_comp_min)*n_interaction))\n",
    "        print(\"\\tFinal list of best trained models: \\t {0}\".format(len(best_model_list)))\n",
    "        hmm_u.save_model_and_log(ordered_model, log_register, ModelPath, LogPath, 'hmm_' + fileName)\n",
    "\n",
    "    hmm_u.printmd(\"** [{0: <21s}] Fin del entrenamiento **\".format(hmm_u.time_now()))"
   ]
  },
  {
   "cell_type": "code",
   "execution_count": 18,
   "metadata": {
    "ExecuteTime": {
     "end_time": "2018-06-21T13:32:19.507595Z",
     "start_time": "2018-06-21T13:32:19.460780Z"
    },
    "hide_input": false,
    "scrolled": true
   },
   "outputs": [
    {
     "data": {
      "application/vnd.jupyter.widget-view+json": {
       "model_id": "54ea423e29b44a29ac9eb6d0f5e0969f",
       "version_major": 2,
       "version_minor": 0
      },
      "text/plain": [
       "HBox(children=(Button(button_style='warning', description='Click aquí para empezar entrenamiento', layout=Layo…"
      ]
     },
     "metadata": {},
     "output_type": "display_data"
    },
    {
     "data": {
      "text/markdown": [
       "** [08:32:21             ] Procediendo con el entrenamiento: **"
      ],
      "text/plain": [
       "<IPython.core.display.Markdown object>"
      ]
     },
     "metadata": {},
     "output_type": "display_data"
    },
    {
     "data": {
      "text/markdown": [
       "* Bornes_P_Total.pkl"
      ],
      "text/plain": [
       "<IPython.core.display.Markdown object>"
      ]
     },
     "metadata": {},
     "output_type": "display_data"
    },
    {
     "name": "stdout",
     "output_type": "stream",
     "text": [
      "[08:32:21             ] Empezando el entrenamiento HMM para: \t\tBornes_P_Total.pkl\n",
      "[08:32:21             ] Entrenamiento desde: \t\t\t\t2014-01-01 hasta 2018-05-22\n"
     ]
    },
    {
     "name": "stderr",
     "output_type": "stream",
     "text": [
      "\n",
      "\t -> Espere... :   0%|                                                        | 0/2 [00:00<?, ?it/s]\n",
      "[08:38:44 + 6.4   min.] Entrenamiento:   0%|                                  | 0/2 [06:22<?, ?it/s]\n",
      "[08:38:44 + 6.4   min.] Entrenamiento:  50%|████████████▌            | 1/2 [06:22<06:22, 382.88s/it]\n",
      "[08:45:09 + 6.4   min.] Entrenamiento:  50%|████████████▌            | 1/2 [12:48<12:48, 768.21s/it]\n",
      "[08:45:09 + 6.4   min.] Entrenamiento: 100%|█████████████████████████| 2/2 [12:48<00:00, 384.11s/it]\n"
     ]
    },
    {
     "name": "stdout",
     "output_type": "stream",
     "text": [
      "\tBest model: \t\t\t\tnComp=151, score=0.9982, log_prob=-437159.76\n",
      "\tNumber of trained models: \t\t 88\n",
      "\tFinal list of best trained models: \t 8\n",
      "\tBest model saved in: \t\t\t ./model/hmm_Bornes_P_Total.pkl\n",
      "\tLog register in: \t\t\t ./log/hmm_Bornes_P_Total.json\n"
     ]
    },
    {
     "data": {
      "text/markdown": [
       "** [08:45:20             ] Fin del entrenamiento **"
      ],
      "text/plain": [
       "<IPython.core.display.Markdown object>"
      ]
     },
     "metadata": {},
     "output_type": "display_data"
    }
   ],
   "source": [
    "start_button = widgets.Button(\n",
    "    description='Click aquí para empezar entrenamiento',\n",
    "    disabled=False,\n",
    "    button_style='warning', # 'success', 'info', 'warning', 'danger' or ''\n",
    "    tooltip='Empieza el entrenamiento de acuerdo a los parámetros seleccionados',\n",
    "    layout=Layout(width='50%')\n",
    ")\n",
    "\n",
    "def tr_f(b):\n",
    "    d_set = hmm_u.open_pickle_file(\"default_settings.pkl\")\n",
    "    if d_set is None:\n",
    "        hmm_u.printmd(\"*El archivo default_settings no existe. Seleccione nuevamente*\")\n",
    "        return None\n",
    "    \n",
    "    n_comp_min = d_set[\"n_min\"] \n",
    "    n_comp_max = d_set[\"n_max\"] \n",
    "    n_interaction = d_set[\"n_iter\"]\n",
    "    data_set_file_names = d_set[\"models_to_train\"]\n",
    "    # print(chr(27) + \"[2J\")\n",
    "    hmm_u.printmd(\"** [{0: <21s}] Procediendo con el entrenamiento: **\".format(hmm_u.time_now()))\n",
    "    for d in data_set_file_names:\n",
    "        hmm_u.printmd(\"* \" + d)\n",
    "    #time_range = pd.date_range(\"2014-01-01\", \"2017-11-30\", freq=\"1D\")\n",
    "    time_range = pd.date_range(\"2014-01-01\", datetime.datetime.now(), freq=\"1D\")\n",
    "    training_models_from_file_names(data_set_file_names, time_range)\n",
    "    \n",
    "\n",
    "ui_start = widgets.HBox([start_button])\n",
    "display(ui_start)\n",
    "start_button.on_click(tr_f)"
   ]
  },
  {
   "cell_type": "markdown",
   "metadata": {},
   "source": [
    "</hbr>\n",
    "### Ejemplo:  <br> \n",
    "A continuación se incluye un ejemplo del proceso de entrenamiento:"
   ]
  },
  {
   "cell_type": "markdown",
   "metadata": {
    "ExecuteTime": {
     "end_time": "2018-05-30T14:24:42.408608Z",
     "start_time": "2018-05-30T14:24:30.290Z"
    }
   },
   "source": [
    "<font color='gray'> \n",
    "Se encontrará el mejor modelo con K estados en el rango: **[70, 85]** con **2** iteraciones <br>\n",
    "<br>\n",
    "[**0.0** &nbsp;&nbsp;&nbsp;&nbsp;&nbsp;&nbsp;&nbsp;&nbsp;&nbsp;&nbsp;]   &nbsp;&nbsp; Starting the HMM training process for: &nbsp;&nbsp;&nbsp;&nbsp;&nbsp;&nbsp;&nbsp;&nbsp;&nbsp;&nbsp;&nbsp;&nbsp;&nbsp;&nbsp;&nbsp;&nbsp;&nbsp;&nbsp;&nbsp;&nbsp;&nbsp;&nbsp;&nbsp;&nbsp;\t\tEE. Quito.pkl <br>\n",
    "\n",
    "Trainnig process: 80%|████████████████████ &nbsp;&nbsp;&nbsp;&nbsp;&nbsp;&nbsp;&nbsp;&nbsp;| 2/2  [03:41 < 00:00, 110.73s/it] <br>\n",
    "&nbsp;&nbsp;&nbsp;&nbsp;&nbsp;&nbsp;&nbsp;&nbsp;\tBest model: \t\t\t\t           nComp=75, score=0.9926, log_prob=-302653.05 <br>\n",
    "&nbsp;&nbsp;&nbsp;&nbsp;&nbsp;&nbsp;&nbsp;&nbsp;\tNumber of trained models: \t\t       30 <br>\n",
    "&nbsp;&nbsp;&nbsp;&nbsp;&nbsp;&nbsp;&nbsp;&nbsp;\tFinal list of best trained models: \t   8  <br>\n",
    "&nbsp;&nbsp;&nbsp;&nbsp;&nbsp;&nbsp;&nbsp;&nbsp;\tBest model saved in: \t\t\t       ./model/hmm_EE. Quito.pkl  <br>\n",
    "&nbsp;&nbsp;&nbsp;&nbsp;&nbsp;&nbsp;&nbsp;&nbsp;\tLog register in: \t\t\t           ./log/hmm_EE. Quito.json  <br>\n",
    "</font>"
   ]
  },
  {
   "cell_type": "markdown",
   "metadata": {},
   "source": [
    "</hbr>\n",
    "### References:  <br>\n",
    "> R. G. Sánchez, “A proposed method for unsupervised anomaly detection for a multivariate building dataset”, M.S. thesis, Dep. of informatics, Fribourg University., Fribourg, Suiza, 2017.\n",
    "\n",
    "> https://github.com/Borreguin/Master_thesis"
   ]
  },
  {
   "cell_type": "code",
   "execution_count": null,
   "metadata": {
    "hide_input": false
   },
   "outputs": [],
   "source": []
  }
 ],
 "metadata": {
  "hide_input": true,
  "kernelspec": {
   "display_name": "Python 3",
   "language": "python",
   "name": "python3"
  },
  "language_info": {
   "codemirror_mode": {
    "name": "ipython",
    "version": 3
   },
   "file_extension": ".py",
   "mimetype": "text/x-python",
   "name": "python",
   "nbconvert_exporter": "python",
   "pygments_lexer": "ipython3",
   "version": "3.5.5"
  },
  "latex_envs": {
   "LaTeX_envs_menu_present": true,
   "autoclose": false,
   "autocomplete": true,
   "bibliofile": "biblio.bib",
   "cite_by": "apalike",
   "current_citInitial": 1,
   "eqLabelWithNumbers": true,
   "eqNumInitial": 1,
   "hotkeys": {
    "equation": "Ctrl-E",
    "itemize": "Ctrl-I"
   },
   "labels_anchors": false,
   "latex_user_defs": false,
   "report_style_numbering": false,
   "user_envs_cfg": false
  },
  "widgets": {
   "application/vnd.jupyter.widget-state+json": {
    "state": {
     "0007e452f54043fb824aa828464dc604": {
      "model_module": "@jupyter-widgets/base",
      "model_module_version": "1.0.0",
      "model_name": "LayoutModel",
      "state": {}
     },
     "0070a5851b25431e8b179062d99bbb41": {
      "model_module": "@jupyter-widgets/output",
      "model_module_version": "1.0.0",
      "model_name": "OutputModel",
      "state": {
       "layout": "IPY_MODEL_fcbd9e65e97a431fa197c8a57e0b499c",
       "outputs": [
        {
         "name": "stdout",
         "output_type": "stream",
         "text": "Se encontrará el mejor modelo con K estados en el rango: [62, 90]\n"
        }
       ]
      }
     },
     "00a1f8c7b2a14823a3ea4ce60e9dbe7b": {
      "model_module": "@jupyter-widgets/base",
      "model_module_version": "1.0.0",
      "model_name": "LayoutModel",
      "state": {
       "width": "10%"
      }
     },
     "00be14e7412e4000a2966dd2493d7a1c": {
      "model_module": "@jupyter-widgets/base",
      "model_module_version": "1.0.0",
      "model_name": "LayoutModel",
      "state": {}
     },
     "00c190bf5e004532a5e6d7d946db4623": {
      "model_module": "@jupyter-widgets/base",
      "model_module_version": "1.0.0",
      "model_name": "LayoutModel",
      "state": {}
     },
     "00cf9d667d47441db2f1e3463e373abc": {
      "model_module": "@jupyter-widgets/controls",
      "model_module_version": "1.2.0",
      "model_name": "HBoxModel",
      "state": {
       "children": [
        "IPY_MODEL_d17315dd3cf044bab1bcabb583b2fc9e"
       ],
       "layout": "IPY_MODEL_48e3e1bbc2a448f7bfe78e7d0533aa70"
      }
     },
     "00eea4329a244215aabf6dcd1dd31b86": {
      "model_module": "@jupyter-widgets/controls",
      "model_module_version": "1.2.0",
      "model_name": "DescriptionStyleModel",
      "state": {
       "description_width": ""
      }
     },
     "0159b61810774cb79bc337264e784c9a": {
      "model_module": "@jupyter-widgets/output",
      "model_module_version": "1.0.0",
      "model_name": "OutputModel",
      "state": {
       "layout": "IPY_MODEL_dc52ef3f8c3a4fc792a4bee773339f0d",
       "outputs": [
        {
         "name": "stdout",
         "output_type": "stream",
         "text": "Los modelos a entrenar:\n['EE. Quito - copia (2).pkl', 'EE. Quito - copia (3).pkl', 'EE. Quito - copia (4).pkl', 'EE. Quito - copia (5).pkl', 'EE. Quito - copia.pkl']\n"
        }
       ]
      }
     },
     "01a4355366ed417987fe848ede391c36": {
      "model_module": "@jupyter-widgets/controls",
      "model_module_version": "1.2.0",
      "model_name": "ButtonModel",
      "state": {
       "button_style": "warning",
       "description": "Empezar entrenamiento",
       "layout": "IPY_MODEL_7e2a751ba865404b840e51fe04658b7f",
       "style": "IPY_MODEL_e8ad7d428d6447519c9575e2fd291dc7",
       "tooltip": "Empieza el entrenamiento de acuerdo a los parámetros anteriores"
      }
     },
     "01a8db2e3881415a9b2dbd6fb2eb7150": {
      "model_module": "@jupyter-widgets/controls",
      "model_module_version": "1.2.0",
      "model_name": "HBoxModel",
      "state": {
       "children": [
        "IPY_MODEL_5e8ea816111f46979594b7b6780c3931"
       ],
       "layout": "IPY_MODEL_bf92f6aa4db94b9d9364615164c6f59e"
      }
     },
     "022bee55e4a34275af04e12be4e942d4": {
      "model_module": "@jupyter-widgets/controls",
      "model_module_version": "1.2.0",
      "model_name": "DescriptionStyleModel",
      "state": {
       "description_width": ""
      }
     },
     "022dc0f6402d482e9f3568211b3b51e0": {
      "model_module": "@jupyter-widgets/output",
      "model_module_version": "1.0.0",
      "model_name": "OutputModel",
      "state": {
       "layout": "IPY_MODEL_73c3e891227c4460a8501230bfd250a6",
       "outputs": [
        {
         "name": "stdout",
         "output_type": "stream",
         "text": "Se encontrará el mejor modelo con K estados en el rango: [55, 110]\n"
        }
       ]
      }
     },
     "030ca1569a3f43e480056dccaf0831e3": {
      "model_module": "@jupyter-widgets/base",
      "model_module_version": "1.0.0",
      "model_name": "LayoutModel",
      "state": {}
     },
     "035c5404227d47a7bffdca76024af689": {
      "model_module": "@jupyter-widgets/base",
      "model_module_version": "1.0.0",
      "model_name": "LayoutModel",
      "state": {}
     },
     "0381954481de496fafecf3270af2a765": {
      "model_module": "@jupyter-widgets/controls",
      "model_module_version": "1.2.0",
      "model_name": "ButtonModel",
      "state": {
       "button_style": "warning",
       "description": "Empezar el entrenamiento",
       "icon": "check",
       "layout": "IPY_MODEL_ab676e7810bf4d638f934d79ed6e37aa",
       "style": "IPY_MODEL_1e88cd7234fa493887dfaa060ccb29f8",
       "tooltip": "Empieza el entrenamiento de acuerdo a los parámetros anteriores"
      }
     },
     "0448d4a7710943efb3ec03965569b498": {
      "model_module": "@jupyter-widgets/base",
      "model_module_version": "1.0.0",
      "model_name": "LayoutModel",
      "state": {}
     },
     "04b2ed769be7480d86ab297063598910": {
      "model_module": "@jupyter-widgets/controls",
      "model_module_version": "1.2.0",
      "model_name": "IntSliderModel",
      "state": {
       "layout": "IPY_MODEL_d7d2ad2350ad478a92f330e00ecc790b",
       "max": 10,
       "min": 1,
       "style": "IPY_MODEL_7ef3cb77aa094a5f92128465a99ccbd4",
       "value": 4
      }
     },
     "04e083fe48b64597bc5d3080994f63cb": {
      "model_module": "@jupyter-widgets/base",
      "model_module_version": "1.0.0",
      "model_name": "LayoutModel",
      "state": {}
     },
     "053090eb3e074105b23013cae4d4831f": {
      "model_module": "@jupyter-widgets/controls",
      "model_module_version": "1.2.0",
      "model_name": "SliderStyleModel",
      "state": {
       "description_width": ""
      }
     },
     "055e7d2ff733472bad5379ee03695ec5": {
      "model_module": "@jupyter-widgets/base",
      "model_module_version": "1.0.0",
      "model_name": "LayoutModel",
      "state": {}
     },
     "06947b2d686f4a92a960d1e82f0be2d7": {
      "model_module": "@jupyter-widgets/controls",
      "model_module_version": "1.2.0",
      "model_name": "ButtonModel",
      "state": {
       "button_style": "info",
       "description": "Click aquí para empezar entrenamiento",
       "layout": "IPY_MODEL_d55f168d2c28453da73086c966dac612",
       "style": "IPY_MODEL_ba0a77895c8d45fd97615f24a06b4fc8",
       "tooltip": "Empieza el entrenamiento de acuerdo a los parámetros anteriores"
      }
     },
     "07d25a26c8e04b68b320e64c774dbc8b": {
      "model_module": "@jupyter-widgets/controls",
      "model_module_version": "1.2.0",
      "model_name": "DescriptionStyleModel",
      "state": {
       "description_width": ""
      }
     },
     "07dc01bc67f24e8a9ad731036b540716": {
      "model_module": "@jupyter-widgets/controls",
      "model_module_version": "1.2.0",
      "model_name": "SelectMultipleModel",
      "state": {
       "_options_labels": [
        "Bornes_P_Total.pkl",
        "EE. Quito - copia (2).pkl",
        "EE. Quito - copia (3).pkl",
        "EE. Quito - copia (4).pkl",
        "EE. Quito - copia (5).pkl",
        "EE. Quito - copia.pkl",
        "EE. Quito.pkl"
       ],
       "description": "Modelos: ",
       "index": [
        1,
        2,
        3,
        4,
        5
       ],
       "layout": "IPY_MODEL_c7b059c382d14b5780c818e4d77cc755",
       "rows": 7,
       "style": "IPY_MODEL_d1549550cf90458a9ee6dcbb1699f877"
      }
     },
     "0853d11022d44e3d9204571b89473398": {
      "model_module": "@jupyter-widgets/base",
      "model_module_version": "1.0.0",
      "model_name": "LayoutModel",
      "state": {}
     },
     "08be8c44162945e6b8cd61f7bafd467b": {
      "model_module": "@jupyter-widgets/base",
      "model_module_version": "1.0.0",
      "model_name": "LayoutModel",
      "state": {}
     },
     "08cb296551ff4f11ba7b87b391c7a56e": {
      "model_module": "@jupyter-widgets/controls",
      "model_module_version": "1.2.0",
      "model_name": "DescriptionStyleModel",
      "state": {
       "description_width": ""
      }
     },
     "08fc5a3b037844fb801623dc731c014b": {
      "model_module": "@jupyter-widgets/controls",
      "model_module_version": "1.2.0",
      "model_name": "SelectMultipleModel",
      "state": {
       "_options_labels": [
        "Bornes_P_Total.pkl",
        "EE. Quito.pkl"
       ],
       "description": "Modelos: ",
       "index": [
        0,
        1
       ],
       "layout": "IPY_MODEL_201d6aba938340c4b0bd9a4f57fc92a2",
       "rows": 2,
       "style": "IPY_MODEL_fd2fa48eb9d44a4a9cdadd3e784c4130"
      }
     },
     "090d5937a53b414d81c971e973c88b01": {
      "model_module": "@jupyter-widgets/controls",
      "model_module_version": "1.2.0",
      "model_name": "IntRangeSliderModel",
      "state": {
       "_model_name": "IntRangeSliderModel",
       "_view_name": "IntRangeSliderView",
       "layout": "IPY_MODEL_20dd1ef789bb44c3846f76d0a972ef4e",
       "max": 70,
       "min": 40,
       "style": "IPY_MODEL_793baa3a947c49b7a0ceb43a82674d4d",
       "value": [
        70,
        70
       ]
      }
     },
     "0923982bf2b24a74b925069b18e2c2aa": {
      "model_module": "@jupyter-widgets/controls",
      "model_module_version": "1.2.0",
      "model_name": "SliderStyleModel",
      "state": {
       "description_width": ""
      }
     },
     "0930dbf7da324e7cac41453753b7d46d": {
      "model_module": "@jupyter-widgets/controls",
      "model_module_version": "1.2.0",
      "model_name": "SliderStyleModel",
      "state": {
       "description_width": ""
      }
     },
     "0932c9af3c274a74a78077528d656760": {
      "model_module": "@jupyter-widgets/controls",
      "model_module_version": "1.2.0",
      "model_name": "HBoxModel",
      "state": {
       "children": [
        "IPY_MODEL_d66e46f6e74f4e32b502bfdc68d92343"
       ],
       "layout": "IPY_MODEL_34bb001ae36e49dcb69a75eb5316ffe0"
      }
     },
     "09aa2c7bd3f74cf083b488ae257732ac": {
      "model_module": "@jupyter-widgets/output",
      "model_module_version": "1.0.0",
      "model_name": "OutputModel",
      "state": {
       "layout": "IPY_MODEL_3f2d21fed15e4e01870899233301b746",
       "outputs": [
        {
         "ename": "IndexError",
         "evalue": "tuple index out of range",
         "output_type": "error",
         "traceback": [
          "\u001b[1;31m---------------------------------------------------------------------------\u001b[0m",
          "\u001b[1;31mIndexError\u001b[0m                                Traceback (most recent call last)",
          "\u001b[1;32mC:\\ProgramData\\Anaconda3\\lib\\site-packages\\ipywidgets\\widgets\\interaction.py\u001b[0m in \u001b[0;36mobserver\u001b[1;34m(change)\u001b[0m\n\u001b[0;32m     72\u001b[0m         \u001b[1;32mwith\u001b[0m \u001b[0mout\u001b[0m\u001b[1;33m:\u001b[0m\u001b[1;33m\u001b[0m\u001b[0m\n\u001b[0;32m     73\u001b[0m             \u001b[0mclear_output\u001b[0m\u001b[1;33m(\u001b[0m\u001b[0mwait\u001b[0m\u001b[1;33m=\u001b[0m\u001b[1;32mTrue\u001b[0m\u001b[1;33m)\u001b[0m\u001b[1;33m\u001b[0m\u001b[0m\n\u001b[1;32m---> 74\u001b[1;33m             \u001b[0mf\u001b[0m\u001b[1;33m(\u001b[0m\u001b[1;33m**\u001b[0m\u001b[0mkwargs\u001b[0m\u001b[1;33m)\u001b[0m\u001b[1;33m\u001b[0m\u001b[0m\n\u001b[0m\u001b[0;32m     75\u001b[0m             \u001b[0mshow_inline_matplotlib_plots\u001b[0m\u001b[1;33m(\u001b[0m\u001b[1;33m)\u001b[0m\u001b[1;33m\u001b[0m\u001b[0m\n\u001b[0;32m     76\u001b[0m     \u001b[1;32mfor\u001b[0m \u001b[0mk\u001b[0m\u001b[1;33m,\u001b[0m\u001b[0mw\u001b[0m \u001b[1;32min\u001b[0m \u001b[0mcontrols\u001b[0m\u001b[1;33m.\u001b[0m\u001b[0mitems\u001b[0m\u001b[1;33m(\u001b[0m\u001b[1;33m)\u001b[0m\u001b[1;33m:\u001b[0m\u001b[1;33m\u001b[0m\u001b[0m\n",
          "\u001b[1;32m<ipython-input-7-72117ffcfe48>\u001b[0m in \u001b[0;36ml\u001b[1;34m(models_to_train)\u001b[0m\n\u001b[0;32m     13\u001b[0m     \u001b[0md_set\u001b[0m\u001b[1;33m[\u001b[0m\u001b[1;34m\"models_to_train\"\u001b[0m\u001b[1;33m]\u001b[0m \u001b[1;33m=\u001b[0m \u001b[0mto_tr\u001b[0m\u001b[1;33m\u001b[0m\u001b[0m\n\u001b[0;32m     14\u001b[0m     \u001b[0mhmm_u\u001b[0m\u001b[1;33m.\u001b[0m\u001b[0msave_pickle_file\u001b[0m\u001b[1;33m(\u001b[0m\u001b[1;34m\"default_settings.pkl\"\u001b[0m\u001b[1;33m,\u001b[0m \u001b[0mto_tr\u001b[0m\u001b[1;33m)\u001b[0m\u001b[1;33m\u001b[0m\u001b[0m\n\u001b[1;32m---> 15\u001b[1;33m     \u001b[0mprint\u001b[0m\u001b[1;33m(\u001b[0m\u001b[1;34m\"Los modelos a entrenar: {0}\"\u001b[0m\u001b[1;33m.\u001b[0m\u001b[0mformat\u001b[0m\u001b[1;33m(\u001b[0m\u001b[1;33m)\u001b[0m\u001b[1;33m)\u001b[0m\u001b[1;33m\u001b[0m\u001b[0m\n\u001b[0m\u001b[0;32m     16\u001b[0m \u001b[1;33m\u001b[0m\u001b[0m\n\u001b[0;32m     17\u001b[0m \u001b[0mui\u001b[0m \u001b[1;33m=\u001b[0m \u001b[0mwidgets\u001b[0m\u001b[1;33m.\u001b[0m\u001b[0mHBox\u001b[0m\u001b[1;33m(\u001b[0m\u001b[1;33m[\u001b[0m\u001b[0mmodels_to_train\u001b[0m\u001b[1;33m]\u001b[0m\u001b[1;33m)\u001b[0m\u001b[1;33m\u001b[0m\u001b[0m\n",
          "\u001b[1;31mIndexError\u001b[0m: tuple index out of range"
         ]
        }
       ]
      }
     },
     "09b8068293c14e9bb721faf68286bf28": {
      "model_module": "@jupyter-widgets/base",
      "model_module_version": "1.0.0",
      "model_name": "LayoutModel",
      "state": {}
     },
     "09ffe29cd89c4a84a0d7ed358bcf90ff": {
      "model_module": "@jupyter-widgets/controls",
      "model_module_version": "1.2.0",
      "model_name": "IntRangeSliderModel",
      "state": {
       "_model_name": "IntRangeSliderModel",
       "_view_name": "IntRangeSliderView",
       "layout": "IPY_MODEL_990ee0518d394df599c50e5d25ae81c8",
       "max": 120,
       "min": 40,
       "style": "IPY_MODEL_ca7f9aee0c9b4265aa64132c0e1fd0f5",
       "value": [
        70,
        75
       ]
      }
     },
     "0a321ab72eba4125950903ca1116334e": {
      "model_module": "@jupyter-widgets/controls",
      "model_module_version": "1.2.0",
      "model_name": "IntSliderModel",
      "state": {
       "layout": "IPY_MODEL_0ac4a24d442a474aa575e6c7277002aa",
       "max": 10,
       "min": 1,
       "style": "IPY_MODEL_d9222434248440d7a670095ac0904330",
       "value": 3
      }
     },
     "0a6b9dc3a7434eeda5ae6fda814b174a": {
      "model_module": "@jupyter-widgets/controls",
      "model_module_version": "1.2.0",
      "model_name": "IntRangeSliderModel",
      "state": {
       "_model_name": "IntRangeSliderModel",
       "_view_name": "IntRangeSliderView",
       "layout": "IPY_MODEL_9ffd6e7a2e5d4826899240f37f1adadd",
       "max": 70,
       "min": 40,
       "style": "IPY_MODEL_24809f34d86a42dba571e516cdcdba0b",
       "value": [
        70,
        70
       ]
      }
     },
     "0a93dbff095447478e0d35bfd446f3ff": {
      "model_module": "@jupyter-widgets/controls",
      "model_module_version": "1.2.0",
      "model_name": "SliderStyleModel",
      "state": {
       "description_width": ""
      }
     },
     "0ac4a24d442a474aa575e6c7277002aa": {
      "model_module": "@jupyter-widgets/base",
      "model_module_version": "1.0.0",
      "model_name": "LayoutModel",
      "state": {}
     },
     "0b0f17d8c3ea4d169e441cbd1e12bd72": {
      "model_module": "@jupyter-widgets/base",
      "model_module_version": "1.0.0",
      "model_name": "LayoutModel",
      "state": {}
     },
     "0b388145956942918401cac9d69608df": {
      "model_module": "@jupyter-widgets/output",
      "model_module_version": "1.0.0",
      "model_name": "OutputModel",
      "state": {
       "layout": "IPY_MODEL_aaf625a9008643fd8cfa8a405028d2a6",
       "outputs": [
        {
         "name": "stdout",
         "output_type": "stream",
         "text": "Se encontrará el mejor modelo con K estados en el rango: [70,75]\n"
        }
       ]
      }
     },
     "0c0c07c935744c05b43f4339712e0c35": {
      "model_module": "@jupyter-widgets/base",
      "model_module_version": "1.0.0",
      "model_name": "LayoutModel",
      "state": {}
     },
     "0c436c3abc2c4cfbac37192772c88ce2": {
      "model_module": "@jupyter-widgets/base",
      "model_module_version": "1.0.0",
      "model_name": "LayoutModel",
      "state": {}
     },
     "0d58ea52276c4f11b609f42754c4388f": {
      "model_module": "@jupyter-widgets/controls",
      "model_module_version": "1.2.0",
      "model_name": "IntSliderModel",
      "state": {
       "layout": "IPY_MODEL_5ae4a21a8fea48cea0187a1e83a53053",
       "max": 120,
       "min": 75,
       "style": "IPY_MODEL_7113ed14f59542d0952f0cd018cdae31",
       "value": 75
      }
     },
     "0d8ab634dd2f4e33abed665f26f0a7aa": {
      "model_module": "@jupyter-widgets/controls",
      "model_module_version": "1.2.0",
      "model_name": "HBoxModel",
      "state": {
       "children": [
        "IPY_MODEL_4d5b91717fb3401195d4ad891630d665"
       ],
       "layout": "IPY_MODEL_79bab6d9523849748c275f59e2d568ba"
      }
     },
     "0da6ed5f4e9541caa6d941bc901354e8": {
      "model_module": "@jupyter-widgets/controls",
      "model_module_version": "1.2.0",
      "model_name": "IntSliderModel",
      "state": {
       "layout": "IPY_MODEL_3f99fd8ea0164c24b89080c1a191b129",
       "max": 120,
       "min": 75,
       "style": "IPY_MODEL_dcecedc671b04448a011c60befb4af44",
       "value": 75
      }
     },
     "0daca01031c249cc928c804843d19a83": {
      "model_module": "@jupyter-widgets/controls",
      "model_module_version": "1.2.0",
      "model_name": "HBoxModel",
      "state": {
       "children": [
        "IPY_MODEL_3d6a8189b6db4d01a22b919af40c9a82"
       ],
       "layout": "IPY_MODEL_d6a12f66b68f4d4a818ce8b29b77789a"
      }
     },
     "0e053b3378b04985b6aa3c8ebc005d2a": {
      "model_module": "@jupyter-widgets/base",
      "model_module_version": "1.0.0",
      "model_name": "LayoutModel",
      "state": {
       "width": "50%"
      }
     },
     "1011ae6e943149e991cd0a260b3b0453": {
      "model_module": "@jupyter-widgets/controls",
      "model_module_version": "1.2.0",
      "model_name": "SelectMultipleModel",
      "state": {
       "_options_labels": [
        "Bornes_P_Total.pkl",
        "EE. Quito - copia (2).pkl",
        "EE. Quito - copia (3).pkl",
        "EE. Quito - copia (4).pkl",
        "EE. Quito - copia (5).pkl",
        "EE. Quito - copia.pkl",
        "EE. Quito.pkl"
       ],
       "description": "Modelos: ",
       "index": [
        0
       ],
       "layout": "IPY_MODEL_f2497accf9f149059f8c091844ee8b17",
       "rows": 7,
       "style": "IPY_MODEL_59ca13962e5d48dbbbe818d3807156fb"
      }
     },
     "10374f21548a4a7d8f9e3284677ec37a": {
      "model_module": "@jupyter-widgets/base",
      "model_module_version": "1.0.0",
      "model_name": "LayoutModel",
      "state": {}
     },
     "10aad0c9b4b64b928051b1314e3bdfc6": {
      "model_module": "@jupyter-widgets/controls",
      "model_module_version": "1.2.0",
      "model_name": "DescriptionStyleModel",
      "state": {
       "description_width": ""
      }
     },
     "10d3f6cce2484afb88bc69b521858db6": {
      "model_module": "@jupyter-widgets/controls",
      "model_module_version": "1.2.0",
      "model_name": "SliderStyleModel",
      "state": {
       "description_width": ""
      }
     },
     "110bb16f07854beb8ff76c7ddb58ac97": {
      "model_module": "@jupyter-widgets/output",
      "model_module_version": "1.0.0",
      "model_name": "OutputModel",
      "state": {
       "layout": "IPY_MODEL_676cddadf55a44419e32a7964b5c3939",
       "outputs": [
        {
         "name": "stdout",
         "output_type": "stream",
         "text": "Se realizará 5 iteracciones\n"
        }
       ]
      }
     },
     "112bf9616dcd44b38e4cbca5501045a4": {
      "model_module": "@jupyter-widgets/controls",
      "model_module_version": "1.2.0",
      "model_name": "SliderStyleModel",
      "state": {
       "description_width": ""
      }
     },
     "1157855b636146b6b4f37f00355ef9af": {
      "model_module": "@jupyter-widgets/controls",
      "model_module_version": "1.2.0",
      "model_name": "SelectMultipleModel",
      "state": {
       "_options_labels": [
        "Bornes_P_Total.pkl",
        "EE. Quito - copia (2).pkl",
        "EE. Quito - copia (3).pkl",
        "EE. Quito - copia (4).pkl",
        "EE. Quito - copia (5).pkl",
        "EE. Quito - copia.pkl",
        "EE. Quito.pkl"
       ],
       "description": "Modelos: ",
       "index": [
        0
       ],
       "layout": "IPY_MODEL_ea957ae8b2474cad9fb140f91c0a8f01",
       "rows": 7,
       "style": "IPY_MODEL_49d36daafbed4348b26cf382686d516a"
      }
     },
     "121116be3c2040afb1ec8fd1fbf0b085": {
      "model_module": "@jupyter-widgets/base",
      "model_module_version": "1.0.0",
      "model_name": "LayoutModel",
      "state": {}
     },
     "125b51ec176d405aa3125bfc739f28b8": {
      "model_module": "@jupyter-widgets/base",
      "model_module_version": "1.0.0",
      "model_name": "LayoutModel",
      "state": {}
     },
     "12750bbe36f54745b0d8bb363d7e444b": {
      "model_module": "@jupyter-widgets/base",
      "model_module_version": "1.0.0",
      "model_name": "LayoutModel",
      "state": {}
     },
     "12b419f361e84732be3b8afd4caa3dda": {
      "model_module": "@jupyter-widgets/output",
      "model_module_version": "1.0.0",
      "model_name": "OutputModel",
      "state": {
       "layout": "IPY_MODEL_78f2c5850cfa4c7fb046088d10622f17",
       "outputs": [
        {
         "data": {
          "text/markdown": "**Modelos a entrenar:**",
          "text/plain": "<IPython.core.display.Markdown object>"
         },
         "metadata": {},
         "output_type": "display_data"
        },
        {
         "name": "stdout",
         "output_type": "stream",
         "text": "  Modelos seleccionados\n0    Bornes_P_Total.pkl\n1         EE. Quito.pkl\n"
        }
       ]
      }
     },
     "12b85740736941c695db326be9feb44a": {
      "model_module": "@jupyter-widgets/base",
      "model_module_version": "1.0.0",
      "model_name": "LayoutModel",
      "state": {}
     },
     "12bf759acb45454f94ce8670dca6042b": {
      "model_module": "@jupyter-widgets/controls",
      "model_module_version": "1.2.0",
      "model_name": "DescriptionStyleModel",
      "state": {
       "description_width": ""
      }
     },
     "13398493052348208b8bd4be0555dd9a": {
      "model_module": "@jupyter-widgets/controls",
      "model_module_version": "1.2.0",
      "model_name": "HBoxModel",
      "state": {
       "children": [
        "IPY_MODEL_ad20d5c3007444638c22398e0011e3c3"
       ],
       "layout": "IPY_MODEL_27a1c80f10e544f791c5c3db14d8d9d3"
      }
     },
     "1490c3748374486a8a298840ca8d2715": {
      "model_module": "@jupyter-widgets/base",
      "model_module_version": "1.0.0",
      "model_name": "LayoutModel",
      "state": {}
     },
     "14ddd1c9c006490a86c6af33c2491992": {
      "model_module": "@jupyter-widgets/base",
      "model_module_version": "1.0.0",
      "model_name": "LayoutModel",
      "state": {}
     },
     "14e3746cb6fe40d6a0a3d9cfef081799": {
      "model_module": "@jupyter-widgets/controls",
      "model_module_version": "1.2.0",
      "model_name": "HBoxModel",
      "state": {
       "children": [
        "IPY_MODEL_c04bf7a5c07b4097ae4bb95568b288bf"
       ],
       "layout": "IPY_MODEL_a120db0f8fbd41cdb68583c89588a938"
      }
     },
     "15193928440741fbb2f2fcc55c385999": {
      "model_module": "@jupyter-widgets/controls",
      "model_module_version": "1.2.0",
      "model_name": "IntSliderModel",
      "state": {
       "layout": "IPY_MODEL_61d649f6a9cf4d6590f5ceb9499b2e35",
       "max": 120,
       "min": 75,
       "style": "IPY_MODEL_a9f99501c6f543c087a5d0c6e0aa44fc",
       "value": 75
      }
     },
     "152206b0d6624a3fa7ab6d166ed2a3b3": {
      "model_module": "@jupyter-widgets/base",
      "model_module_version": "1.0.0",
      "model_name": "LayoutModel",
      "state": {}
     },
     "152d8521267146b6b899470f1aed8732": {
      "model_module": "@jupyter-widgets/controls",
      "model_module_version": "1.2.0",
      "model_name": "HBoxModel",
      "state": {
       "children": [
        "IPY_MODEL_d335b43017fd4579bc4838b5d45bb82d"
       ],
       "layout": "IPY_MODEL_88f807348a464dd3836d8804a445bed2"
      }
     },
     "153b36d6d8144572b75bd96115305544": {
      "model_module": "@jupyter-widgets/controls",
      "model_module_version": "1.2.0",
      "model_name": "ButtonStyleModel",
      "state": {}
     },
     "15ccc966d62145e29c956b4807580a71": {
      "model_module": "@jupyter-widgets/controls",
      "model_module_version": "1.2.0",
      "model_name": "HBoxModel",
      "state": {
       "children": [
        "IPY_MODEL_5523ad99147c455785689d9fe50b55a7"
       ],
       "layout": "IPY_MODEL_edf1a69290f3484ea111e5cd78e9121e"
      }
     },
     "15f66d7e04db49a089fdf644070abe1d": {
      "model_module": "@jupyter-widgets/base",
      "model_module_version": "1.0.0",
      "model_name": "LayoutModel",
      "state": {}
     },
     "165e6c80193f4b8582cc1428115979c3": {
      "model_module": "@jupyter-widgets/base",
      "model_module_version": "1.0.0",
      "model_name": "LayoutModel",
      "state": {}
     },
     "167228590e4b4218b4b10013fc88f20b": {
      "model_module": "@jupyter-widgets/output",
      "model_module_version": "1.0.0",
      "model_name": "OutputModel",
      "state": {
       "layout": "IPY_MODEL_bdc088b38f8d4056bdfdca5d7b2df8db"
      }
     },
     "16939780ddb346e09f9d665496a71156": {
      "model_module": "@jupyter-widgets/base",
      "model_module_version": "1.0.0",
      "model_name": "LayoutModel",
      "state": {}
     },
     "16ba8440cf5341f785622025a1a32772": {
      "model_module": "@jupyter-widgets/controls",
      "model_module_version": "1.2.0",
      "model_name": "HBoxModel",
      "state": {
       "children": [
        "IPY_MODEL_a5aff036ebcb43ec8ae91c4865fdb97c"
       ],
       "layout": "IPY_MODEL_37165f53c965427996032e5a00099243"
      }
     },
     "17136a712aa146ceb322d0525bcdd876": {
      "model_module": "@jupyter-widgets/output",
      "model_module_version": "1.0.0",
      "model_name": "OutputModel",
      "state": {
       "layout": "IPY_MODEL_a7ee89efb636469782cb904662c86019",
       "outputs": [
        {
         "name": "stdout",
         "output_type": "stream",
         "text": "Se realizará 3 iteracciones\n"
        }
       ]
      }
     },
     "1798f688decd40c98142c90a17e5e767": {
      "model_module": "@jupyter-widgets/base",
      "model_module_version": "1.0.0",
      "model_name": "LayoutModel",
      "state": {}
     },
     "18258a524e4e4f5eb7cb2242b98c76d4": {
      "model_module": "@jupyter-widgets/output",
      "model_module_version": "1.0.0",
      "model_name": "OutputModel",
      "state": {
       "layout": "IPY_MODEL_409c222d14574754a3df6eb861171b9d",
       "outputs": [
        {
         "name": "stdout",
         "output_type": "stream",
         "text": "   Modelos seleccionados\nID                      \n0     Bornes_P_Total.pkl\n1          EE. Quito.pkl\n"
        }
       ]
      }
     },
     "1957b5fd802a4153aac72f11ff306368": {
      "model_module": "@jupyter-widgets/controls",
      "model_module_version": "1.2.0",
      "model_name": "SelectMultipleModel",
      "state": {
       "_options_labels": [
        "Bornes_P_Total.pkl",
        "EE. Quito.pkl"
       ],
       "description": "Seleccione: ",
       "index": [
        0
       ],
       "layout": "IPY_MODEL_1b703092653c4bceb99a7c2c5a279b34",
       "rows": 5,
       "style": "IPY_MODEL_cb29149fbda841b0930cb7a05c6e0c7e"
      }
     },
     "1a686d5eb32f4907b74b0273404a1517": {
      "model_module": "@jupyter-widgets/base",
      "model_module_version": "1.0.0",
      "model_name": "LayoutModel",
      "state": {}
     },
     "1b703092653c4bceb99a7c2c5a279b34": {
      "model_module": "@jupyter-widgets/base",
      "model_module_version": "1.0.0",
      "model_name": "LayoutModel",
      "state": {}
     },
     "1bbe793a859240579eb217ebf3f8a109": {
      "model_module": "@jupyter-widgets/base",
      "model_module_version": "1.0.0",
      "model_name": "LayoutModel",
      "state": {}
     },
     "1c56efa610bc4332adeae22397c15ca8": {
      "model_module": "@jupyter-widgets/base",
      "model_module_version": "1.0.0",
      "model_name": "LayoutModel",
      "state": {}
     },
     "1c652da5f9a84d0b909b95df349992e5": {
      "model_module": "@jupyter-widgets/controls",
      "model_module_version": "1.2.0",
      "model_name": "IntSliderModel",
      "state": {
       "layout": "IPY_MODEL_1d1f42656b874cc085f1df629b93b730",
       "max": 120,
       "min": 75,
       "style": "IPY_MODEL_0923982bf2b24a74b925069b18e2c2aa",
       "value": 75
      }
     },
     "1c8639eeb3ac424cb4a197798b8ff853": {
      "model_module": "@jupyter-widgets/controls",
      "model_module_version": "1.2.0",
      "model_name": "DescriptionStyleModel",
      "state": {
       "description_width": ""
      }
     },
     "1c8685fe6bd54215ae6b7b1152c0dcc6": {
      "model_module": "@jupyter-widgets/controls",
      "model_module_version": "1.2.0",
      "model_name": "SliderStyleModel",
      "state": {
       "description_width": ""
      }
     },
     "1d1f42656b874cc085f1df629b93b730": {
      "model_module": "@jupyter-widgets/base",
      "model_module_version": "1.0.0",
      "model_name": "LayoutModel",
      "state": {}
     },
     "1d3216ec87c949a19ed86bc40c1ed8a4": {
      "model_module": "@jupyter-widgets/controls",
      "model_module_version": "1.2.0",
      "model_name": "IntSliderModel",
      "state": {
       "layout": "IPY_MODEL_7a841e4267854af3adbe0e2dcd9e0a0d",
       "max": 10,
       "min": 1,
       "style": "IPY_MODEL_4c8871040bdf453c872a34b721858937",
       "value": 3
      }
     },
     "1e2860f3006c479abbfd7c34c6fc688a": {
      "model_module": "@jupyter-widgets/output",
      "model_module_version": "1.0.0",
      "model_name": "OutputModel",
      "state": {
       "layout": "IPY_MODEL_1bbe793a859240579eb217ebf3f8a109",
       "outputs": [
        {
         "ename": "TypeError",
         "evalue": "g() got an unexpected keyword argument 'models_to_train'",
         "output_type": "error",
         "traceback": [
          "\u001b[1;31m---------------------------------------------------------------------------\u001b[0m",
          "\u001b[1;31mTypeError\u001b[0m                                 Traceback (most recent call last)",
          "\u001b[1;32mC:\\ProgramData\\Anaconda3\\lib\\site-packages\\ipywidgets\\widgets\\interaction.py\u001b[0m in \u001b[0;36mobserver\u001b[1;34m(change)\u001b[0m\n\u001b[0;32m     72\u001b[0m         \u001b[1;32mwith\u001b[0m \u001b[0mout\u001b[0m\u001b[1;33m:\u001b[0m\u001b[1;33m\u001b[0m\u001b[0m\n\u001b[0;32m     73\u001b[0m             \u001b[0mclear_output\u001b[0m\u001b[1;33m(\u001b[0m\u001b[0mwait\u001b[0m\u001b[1;33m=\u001b[0m\u001b[1;32mTrue\u001b[0m\u001b[1;33m)\u001b[0m\u001b[1;33m\u001b[0m\u001b[0m\n\u001b[1;32m---> 74\u001b[1;33m             \u001b[0mf\u001b[0m\u001b[1;33m(\u001b[0m\u001b[1;33m**\u001b[0m\u001b[0mkwargs\u001b[0m\u001b[1;33m)\u001b[0m\u001b[1;33m\u001b[0m\u001b[0m\n\u001b[0m\u001b[0;32m     75\u001b[0m             \u001b[0mshow_inline_matplotlib_plots\u001b[0m\u001b[1;33m(\u001b[0m\u001b[1;33m)\u001b[0m\u001b[1;33m\u001b[0m\u001b[0m\n\u001b[0;32m     76\u001b[0m     \u001b[1;32mfor\u001b[0m \u001b[0mk\u001b[0m\u001b[1;33m,\u001b[0m\u001b[0mw\u001b[0m \u001b[1;32min\u001b[0m \u001b[0mcontrols\u001b[0m\u001b[1;33m.\u001b[0m\u001b[0mitems\u001b[0m\u001b[1;33m(\u001b[0m\u001b[1;33m)\u001b[0m\u001b[1;33m:\u001b[0m\u001b[1;33m\u001b[0m\u001b[0m\n",
          "\u001b[1;31mTypeError\u001b[0m: g() got an unexpected keyword argument 'models_to_train'"
         ]
        }
       ]
      }
     },
     "1e2e5d63bd484fc490aad951257bea12": {
      "model_module": "@jupyter-widgets/base",
      "model_module_version": "1.0.0",
      "model_name": "LayoutModel",
      "state": {}
     },
     "1e88cd7234fa493887dfaa060ccb29f8": {
      "model_module": "@jupyter-widgets/controls",
      "model_module_version": "1.2.0",
      "model_name": "ButtonStyleModel",
      "state": {}
     },
     "1ea970a35bfe48bb8113c80662101630": {
      "model_module": "@jupyter-widgets/base",
      "model_module_version": "1.0.0",
      "model_name": "LayoutModel",
      "state": {}
     },
     "1ef62d87cc2443c79f50c09c2beffac0": {
      "model_module": "@jupyter-widgets/base",
      "model_module_version": "1.0.0",
      "model_name": "LayoutModel",
      "state": {}
     },
     "1fdea0abb14d4e1bb702766e12a5da6d": {
      "model_module": "@jupyter-widgets/controls",
      "model_module_version": "1.2.0",
      "model_name": "HBoxModel",
      "state": {
       "children": [
        "IPY_MODEL_557ecb89476d4f559b4430505164ef8c"
       ],
       "layout": "IPY_MODEL_ac810c3fad414e269c7bfc769ebd56c6"
      }
     },
     "201d6aba938340c4b0bd9a4f57fc92a2": {
      "model_module": "@jupyter-widgets/base",
      "model_module_version": "1.0.0",
      "model_name": "LayoutModel",
      "state": {}
     },
     "20284401bf0b442d984c835d813f2a41": {
      "model_module": "@jupyter-widgets/controls",
      "model_module_version": "1.2.0",
      "model_name": "ButtonStyleModel",
      "state": {}
     },
     "202a505b57d54af6a02ec577dd21aaee": {
      "model_module": "@jupyter-widgets/output",
      "model_module_version": "1.0.0",
      "model_name": "OutputModel",
      "state": {
       "layout": "IPY_MODEL_6361ee120e9e4ee8849160f10cc143e9",
       "outputs": [
        {
         "name": "stdout",
         "output_type": "stream",
         "text": "Se encontrará el mejor modelo con K estados en el rango: [55, 110]\n"
        }
       ]
      }
     },
     "2086351b6d284df2be57f95ab007b03f": {
      "model_module": "@jupyter-widgets/base",
      "model_module_version": "1.0.0",
      "model_name": "LayoutModel",
      "state": {}
     },
     "20974386aacb4df6baa9118aecf74fbe": {
      "model_module": "@jupyter-widgets/controls",
      "model_module_version": "1.2.0",
      "model_name": "ButtonStyleModel",
      "state": {}
     },
     "20cc0d556ec94ea49171f426a6ae772c": {
      "model_module": "@jupyter-widgets/controls",
      "model_module_version": "1.2.0",
      "model_name": "ButtonModel",
      "state": {
       "button_style": "info",
       "description": "Click aquí para empezar entrenamiento",
       "layout": "IPY_MODEL_8e39e48f81c94cd796dd7a9950abf05c",
       "style": "IPY_MODEL_3d127dd860ca4dcba7ff4fc873f4f987",
       "tooltip": "Empieza el entrenamiento de acuerdo a los parámetros seleccionados"
      }
     },
     "20dd1ef789bb44c3846f76d0a972ef4e": {
      "model_module": "@jupyter-widgets/base",
      "model_module_version": "1.0.0",
      "model_name": "LayoutModel",
      "state": {}
     },
     "20ed2cad0ac54e6999b7f118a46d16a4": {
      "model_module": "@jupyter-widgets/controls",
      "model_module_version": "1.2.0",
      "model_name": "IntRangeSliderModel",
      "state": {
       "_model_name": "IntRangeSliderModel",
       "_view_name": "IntRangeSliderView",
       "layout": "IPY_MODEL_80ce5fe2fdb747c1ab7bd8562d3c3169",
       "max": 120,
       "min": 40,
       "style": "IPY_MODEL_ac474aa02bac44d087fba625ba0f4b0d",
       "value": [
        55,
        110
       ]
      }
     },
     "2136c8a98efc442489137b1172e7ef81": {
      "model_module": "@jupyter-widgets/controls",
      "model_module_version": "1.2.0",
      "model_name": "IntRangeSliderModel",
      "state": {
       "_model_name": "IntRangeSliderModel",
       "_view_name": "IntRangeSliderView",
       "layout": "IPY_MODEL_d513d8e413c0444f8928697077a063d8",
       "max": 70,
       "min": 40,
       "style": "IPY_MODEL_a3b44891fab5493294c83c1716f951f6",
       "value": [
        70,
        70
       ]
      }
     },
     "220af1fdaad448b5aaa3e2546db62393": {
      "model_module": "@jupyter-widgets/controls",
      "model_module_version": "1.2.0",
      "model_name": "HBoxModel",
      "state": {
       "children": [
        "IPY_MODEL_784fb12555c9403d82c0689971f6a110"
       ],
       "layout": "IPY_MODEL_dcf3561951ab4e0b9ce66113805b0230"
      }
     },
     "223ad3611ef24624b7ecb406bfa59499": {
      "model_module": "@jupyter-widgets/controls",
      "model_module_version": "1.2.0",
      "model_name": "IntSliderModel",
      "state": {
       "layout": "IPY_MODEL_25a8e3a065ba403781fe78e9c474b234",
       "max": 120,
       "min": 75,
       "style": "IPY_MODEL_8a4053ff99924919841f5277c70019c3",
       "value": 75
      }
     },
     "228998cb7e364af68b388e1a365e9c86": {
      "model_module": "@jupyter-widgets/output",
      "model_module_version": "1.0.0",
      "model_name": "OutputModel",
      "state": {
       "layout": "IPY_MODEL_721738ee0b71479d94a41f5b30056c1f",
       "outputs": [
        {
         "name": "stdout",
         "output_type": "stream",
         "text": "Se realizará 4 iteracciones\n"
        }
       ]
      }
     },
     "23a94cc418a14b71af7e906ee2a39dc6": {
      "model_module": "@jupyter-widgets/controls",
      "model_module_version": "1.2.0",
      "model_name": "IntRangeSliderModel",
      "state": {
       "_model_name": "IntRangeSliderModel",
       "_view_name": "IntRangeSliderView",
       "layout": "IPY_MODEL_79be31fc5a8a4210bbd40bce965f5402",
       "max": 120,
       "min": 40,
       "style": "IPY_MODEL_10d3f6cce2484afb88bc69b521858db6",
       "value": [
        70,
        75
       ]
      }
     },
     "245c8a7a9a084f61947fa7b32f48b71d": {
      "model_module": "@jupyter-widgets/output",
      "model_module_version": "1.0.0",
      "model_name": "OutputModel",
      "state": {
       "layout": "IPY_MODEL_c5ea9c25a8604427a5f760d72c759568",
       "outputs": [
        {
         "name": "stdout",
         "output_type": "stream",
         "text": "Se realizará 3 iteracciones\n"
        }
       ]
      }
     },
     "24809f34d86a42dba571e516cdcdba0b": {
      "model_module": "@jupyter-widgets/controls",
      "model_module_version": "1.2.0",
      "model_name": "SliderStyleModel",
      "state": {
       "description_width": ""
      }
     },
     "24c9a7d002c54b858b03ebc34ee2df7a": {
      "model_module": "@jupyter-widgets/base",
      "model_module_version": "1.0.0",
      "model_name": "LayoutModel",
      "state": {}
     },
     "2546870b2b214cc69cf1b6f9ed47ea37": {
      "model_module": "@jupyter-widgets/controls",
      "model_module_version": "1.2.0",
      "model_name": "HBoxModel",
      "state": {
       "children": [
        "IPY_MODEL_a0b57b4e5fb8406497b5451ba4cdbc99"
       ],
       "layout": "IPY_MODEL_7a795d16e886415b9b40c08e97d85acc"
      }
     },
     "25a2fd61d3df4e96b30d2358a824a5bc": {
      "model_module": "@jupyter-widgets/base",
      "model_module_version": "1.0.0",
      "model_name": "LayoutModel",
      "state": {}
     },
     "25a8e3a065ba403781fe78e9c474b234": {
      "model_module": "@jupyter-widgets/base",
      "model_module_version": "1.0.0",
      "model_name": "LayoutModel",
      "state": {}
     },
     "265023822199452e8cd929cb4caa5875": {
      "model_module": "@jupyter-widgets/base",
      "model_module_version": "1.0.0",
      "model_name": "LayoutModel",
      "state": {}
     },
     "26e954dd9a604ee6abee09665c4d5895": {
      "model_module": "@jupyter-widgets/controls",
      "model_module_version": "1.2.0",
      "model_name": "ButtonStyleModel",
      "state": {}
     },
     "27006ed7465d496b903cb0318e48f40d": {
      "model_module": "@jupyter-widgets/base",
      "model_module_version": "1.0.0",
      "model_name": "LayoutModel",
      "state": {}
     },
     "27089ae9d85946758bb64d44cfe961de": {
      "model_module": "@jupyter-widgets/output",
      "model_module_version": "1.0.0",
      "model_name": "OutputModel",
      "state": {
       "layout": "IPY_MODEL_4e81d3fd150e4628bc8f082fe3652af2"
      }
     },
     "276d1c3448954e42bf50f75513177f03": {
      "model_module": "@jupyter-widgets/controls",
      "model_module_version": "1.2.0",
      "model_name": "HBoxModel",
      "state": {
       "children": [
        "IPY_MODEL_76e23becc0e641a89983895b82855acb"
       ],
       "layout": "IPY_MODEL_ffd28d724dbe430c9c31d1634d163e11"
      }
     },
     "279be67c172f48578ed5c07f314086e6": {
      "model_module": "@jupyter-widgets/controls",
      "model_module_version": "1.2.0",
      "model_name": "HBoxModel",
      "state": {
       "children": [
        "IPY_MODEL_0a321ab72eba4125950903ca1116334e"
       ],
       "layout": "IPY_MODEL_5526d698431649939483e30440856e00"
      }
     },
     "27a1c80f10e544f791c5c3db14d8d9d3": {
      "model_module": "@jupyter-widgets/base",
      "model_module_version": "1.0.0",
      "model_name": "LayoutModel",
      "state": {}
     },
     "27fd2b44acb74733bfd5c4d67bba5df3": {
      "model_module": "@jupyter-widgets/controls",
      "model_module_version": "1.2.0",
      "model_name": "HBoxModel",
      "state": {
       "children": [
        "IPY_MODEL_4c56d7bff07e426e8cf8d38a1c55c18a"
       ],
       "layout": "IPY_MODEL_d9791f15f1224d5abb7d0e1d9dc34d38"
      }
     },
     "28cc223ea012492bb2d5a16814b0a01b": {
      "model_module": "@jupyter-widgets/base",
      "model_module_version": "1.0.0",
      "model_name": "LayoutModel",
      "state": {}
     },
     "29086c50ba5145bd81d4d7841f9b7c3e": {
      "model_module": "@jupyter-widgets/base",
      "model_module_version": "1.0.0",
      "model_name": "LayoutModel",
      "state": {}
     },
     "2933d445ff8c45b59ab31afd2c46f885": {
      "model_module": "@jupyter-widgets/base",
      "model_module_version": "1.0.0",
      "model_name": "LayoutModel",
      "state": {}
     },
     "296d881fddcb4485aeba5dde2b161274": {
      "model_module": "@jupyter-widgets/base",
      "model_module_version": "1.0.0",
      "model_name": "LayoutModel",
      "state": {}
     },
     "296f8a1871e6431a9ed04895546e6036": {
      "model_module": "@jupyter-widgets/base",
      "model_module_version": "1.0.0",
      "model_name": "LayoutModel",
      "state": {}
     },
     "2a445ee451d24d19bf1e38bba777893a": {
      "model_module": "@jupyter-widgets/controls",
      "model_module_version": "1.2.0",
      "model_name": "HBoxModel",
      "state": {
       "children": [
        "IPY_MODEL_d9ac36a952af4a048875429888b3ba43"
       ],
       "layout": "IPY_MODEL_34dbd57de992400e94fca561d115a5be"
      }
     },
     "2a4ec666277c4db094de33d4f400aad7": {
      "model_module": "@jupyter-widgets/base",
      "model_module_version": "1.0.0",
      "model_name": "LayoutModel",
      "state": {}
     },
     "2b42f632dc6b4df88e942e79ef612f36": {
      "model_module": "@jupyter-widgets/controls",
      "model_module_version": "1.2.0",
      "model_name": "SliderStyleModel",
      "state": {
       "description_width": ""
      }
     },
     "2d24f84d171c44ab9ca9833777278d99": {
      "model_module": "@jupyter-widgets/controls",
      "model_module_version": "1.2.0",
      "model_name": "IntSliderModel",
      "state": {
       "layout": "IPY_MODEL_bbcc9ab423bc46738e36f7f72a955ce8",
       "max": 70,
       "min": 40,
       "style": "IPY_MODEL_7e03eed9005841249931cb2592e7a720",
       "value": 70
      }
     },
     "2d41e827ff454824a6d67f98956f163b": {
      "model_module": "@jupyter-widgets/controls",
      "model_module_version": "1.2.0",
      "model_name": "SliderStyleModel",
      "state": {
       "description_width": ""
      }
     },
     "2e6e126d59cb4d158b25365f926f8a79": {
      "model_module": "@jupyter-widgets/base",
      "model_module_version": "1.0.0",
      "model_name": "LayoutModel",
      "state": {}
     },
     "2eebf26a43c541ceb11e525ca00598c5": {
      "model_module": "@jupyter-widgets/output",
      "model_module_version": "1.0.0",
      "model_name": "OutputModel",
      "state": {
       "layout": "IPY_MODEL_e6118db332a44d0cab7591c9148a0f64"
      }
     },
     "2f67d8eba4f547648f8c4f2a1923a02b": {
      "model_module": "@jupyter-widgets/controls",
      "model_module_version": "1.2.0",
      "model_name": "DescriptionStyleModel",
      "state": {
       "description_width": ""
      }
     },
     "2fd0fe1e676c41c7bda9b6dd67035382": {
      "model_module": "@jupyter-widgets/controls",
      "model_module_version": "1.2.0",
      "model_name": "DescriptionStyleModel",
      "state": {
       "description_width": ""
      }
     },
     "3007c0b4a6204cb08d08f13068e2265d": {
      "model_module": "@jupyter-widgets/controls",
      "model_module_version": "1.2.0",
      "model_name": "IntRangeSliderModel",
      "state": {
       "_model_name": "IntRangeSliderModel",
       "_view_name": "IntRangeSliderView",
       "layout": "IPY_MODEL_4426598ba36a49d5914dac47c6469931",
       "max": 70,
       "min": 40,
       "style": "IPY_MODEL_a1fb5661ef0242b4a0584236261e998f",
       "value": [
        70,
        70
       ]
      }
     },
     "301697a465d247bb8f52f2e1c2d1c5f6": {
      "model_module": "@jupyter-widgets/controls",
      "model_module_version": "1.2.0",
      "model_name": "ButtonModel",
      "state": {
       "button_style": "info",
       "description": "Click aquí para empezar entrenamiento",
       "layout": "IPY_MODEL_45d5a67169074b2fbcf438e7fc941bd9",
       "style": "IPY_MODEL_889756baa97f4d029fa5bbff08fb991a",
       "tooltip": "Empieza el entrenamiento de acuerdo a los parámetros seleccionados"
      }
     },
     "309161ac0b4f45dd9f6e69c100ee726e": {
      "model_module": "@jupyter-widgets/base",
      "model_module_version": "1.0.0",
      "model_name": "LayoutModel",
      "state": {}
     },
     "30c913eaaf8f4d4b8b931b1e8eda3333": {
      "model_module": "@jupyter-widgets/controls",
      "model_module_version": "1.2.0",
      "model_name": "HBoxModel",
      "state": {
       "children": [
        "IPY_MODEL_e28f55c6f8b04b19905fbab20b534f1a"
       ],
       "layout": "IPY_MODEL_bdc6246e32a9418db94f8db51750975b"
      }
     },
     "30d83a8334c04d40953307c1a8f79bf9": {
      "model_module": "@jupyter-widgets/controls",
      "model_module_version": "1.2.0",
      "model_name": "SelectMultipleModel",
      "state": {
       "_options_labels": [
        "Bornes_P_Total.pkl",
        "EE. Quito - copia (2).pkl",
        "EE. Quito - copia (3).pkl",
        "EE. Quito - copia (4).pkl",
        "EE. Quito - copia (5).pkl",
        "EE. Quito - copia.pkl",
        "EE. Quito.pkl"
       ],
       "description": "Modelos: ",
       "index": [
        6
       ],
       "layout": "IPY_MODEL_65273cbf25e245ad96de2e3ee65ced9e",
       "rows": 7,
       "style": "IPY_MODEL_6474039449e84866a299898dfad31b3a"
      }
     },
     "3107f5cd45b647c580bc82314dd55a35": {
      "model_module": "@jupyter-widgets/controls",
      "model_module_version": "1.2.0",
      "model_name": "IntSliderModel",
      "state": {
       "layout": "IPY_MODEL_e8e9d13b1d5d405588a93bd874fb10b5",
       "max": 120,
       "min": 75,
       "style": "IPY_MODEL_0a93dbff095447478e0d35bfd446f3ff",
       "value": 75
      }
     },
     "311e8f86cf7d47aa8a8e980d6eca2ae0": {
      "model_module": "@jupyter-widgets/base",
      "model_module_version": "1.0.0",
      "model_name": "LayoutModel",
      "state": {}
     },
     "313bd84ed6d84006bdb90aacd7f1c111": {
      "model_module": "@jupyter-widgets/base",
      "model_module_version": "1.0.0",
      "model_name": "LayoutModel",
      "state": {}
     },
     "3174591f93a94cf29abaa10e4c445028": {
      "model_module": "@jupyter-widgets/base",
      "model_module_version": "1.0.0",
      "model_name": "LayoutModel",
      "state": {
       "width": "50%"
      }
     },
     "320f94c385f349659cf8215fd88c464a": {
      "model_module": "@jupyter-widgets/output",
      "model_module_version": "1.0.0",
      "model_name": "OutputModel",
      "state": {
       "layout": "IPY_MODEL_fbb22b31bbec4900a5366e990d56cbb0",
       "outputs": [
        {
         "data": {
          "text/markdown": "**Modelos seleccionados:**",
          "text/plain": "<IPython.core.display.Markdown object>"
         },
         "metadata": {},
         "output_type": "display_data"
        },
        {
         "name": "stdout",
         "output_type": "stream",
         "text": "Empty DataFrame\nColumns: [Nombre]\nIndex: []\n"
        }
       ]
      }
     },
     "32a03ab163834b37b3d5d9b42978942f": {
      "model_module": "@jupyter-widgets/base",
      "model_module_version": "1.0.0",
      "model_name": "LayoutModel",
      "state": {
       "width": "50%"
      }
     },
     "33282e49ee504fa3a248b8217dbe807d": {
      "model_module": "@jupyter-widgets/controls",
      "model_module_version": "1.2.0",
      "model_name": "SliderStyleModel",
      "state": {
       "description_width": ""
      }
     },
     "346d0557ae424569931731c623fd0cca": {
      "model_module": "@jupyter-widgets/base",
      "model_module_version": "1.0.0",
      "model_name": "LayoutModel",
      "state": {}
     },
     "34bb001ae36e49dcb69a75eb5316ffe0": {
      "model_module": "@jupyter-widgets/base",
      "model_module_version": "1.0.0",
      "model_name": "LayoutModel",
      "state": {}
     },
     "34dbd57de992400e94fca561d115a5be": {
      "model_module": "@jupyter-widgets/base",
      "model_module_version": "1.0.0",
      "model_name": "LayoutModel",
      "state": {}
     },
     "350b7af27411477786ada1e63329091b": {
      "model_module": "@jupyter-widgets/base",
      "model_module_version": "1.0.0",
      "model_name": "LayoutModel",
      "state": {}
     },
     "3536b9aa7ad34654b114d3262b7572c0": {
      "model_module": "@jupyter-widgets/controls",
      "model_module_version": "1.2.0",
      "model_name": "IntSliderModel",
      "state": {
       "layout": "IPY_MODEL_47bf8e96fea74f598db01493f566b6ec",
       "max": 120,
       "min": 75,
       "style": "IPY_MODEL_f8bc351647fa4e209fc1d9f580a44f3e",
       "value": 75
      }
     },
     "354e913ac17c4c6abb31d463c5826a48": {
      "model_module": "@jupyter-widgets/controls",
      "model_module_version": "1.2.0",
      "model_name": "IntSliderModel",
      "state": {
       "layout": "IPY_MODEL_5325914ddfed495eb106413ebe1b1401",
       "max": 120,
       "min": 75,
       "style": "IPY_MODEL_6912867c68554907a07e2f90ea17b3ac",
       "value": 75
      }
     },
     "35c0a933f3434041b608ddf5ae9e885b": {
      "model_module": "@jupyter-widgets/controls",
      "model_module_version": "1.2.0",
      "model_name": "HBoxModel",
      "state": {
       "children": [
        "IPY_MODEL_6aeb27391d0f4c9eb193106e05d5e3c5"
       ],
       "layout": "IPY_MODEL_cad1982dd2b448e1afde6941a2736bf6"
      }
     },
     "35d2414344244456926d4c1b9df16715": {
      "model_module": "@jupyter-widgets/controls",
      "model_module_version": "1.2.0",
      "model_name": "SelectMultipleModel",
      "state": {
       "_options_labels": [
        "Bornes_P_Total.pkl",
        "EE. Quito.pkl"
       ],
       "description": "Seleccione: ",
       "index": [
        0
       ],
       "layout": "IPY_MODEL_c88eab855f364910895a5e1f1f0b30a0",
       "rows": 5,
       "style": "IPY_MODEL_4532b72df7f64765a76293aa6aa94b06"
      }
     },
     "360143734a4f46e2be97de4bbf1a235e": {
      "model_module": "@jupyter-widgets/base",
      "model_module_version": "1.0.0",
      "model_name": "LayoutModel",
      "state": {}
     },
     "362ec231acc749609c3ce2c6c4775dc6": {
      "model_module": "@jupyter-widgets/base",
      "model_module_version": "1.0.0",
      "model_name": "LayoutModel",
      "state": {
       "width": "50%"
      }
     },
     "3697d5409799436ca66226ace9d48fd0": {
      "model_module": "@jupyter-widgets/base",
      "model_module_version": "1.0.0",
      "model_name": "LayoutModel",
      "state": {}
     },
     "369e5e2dba224a1c887038c674516465": {
      "model_module": "@jupyter-widgets/controls",
      "model_module_version": "1.2.0",
      "model_name": "SelectMultipleModel",
      "state": {
       "_options_labels": [
        "Bornes_P_Total.pkl",
        "EE. Quito - copia (2).pkl",
        "EE. Quito - copia (3).pkl",
        "EE. Quito - copia (4).pkl",
        "EE. Quito - copia (5).pkl",
        "EE. Quito - copia.pkl",
        "EE. Quito.pkl"
       ],
       "description": "Modelos: ",
       "index": [
        0
       ],
       "layout": "IPY_MODEL_5df96318a8fc4f56ad07af7ae954500c",
       "rows": 7,
       "style": "IPY_MODEL_7ec27d2c2f67468ca437fbf198616608"
      }
     },
     "37165f53c965427996032e5a00099243": {
      "model_module": "@jupyter-widgets/base",
      "model_module_version": "1.0.0",
      "model_name": "LayoutModel",
      "state": {}
     },
     "3795ceb364034da0be3b241ec8a262ad": {
      "model_module": "@jupyter-widgets/base",
      "model_module_version": "1.0.0",
      "model_name": "LayoutModel",
      "state": {}
     },
     "37b033cb1bde4fa6a4d39359f3a83812": {
      "model_module": "@jupyter-widgets/base",
      "model_module_version": "1.0.0",
      "model_name": "LayoutModel",
      "state": {}
     },
     "381172d025964e18abdaf31c1a14e306": {
      "model_module": "@jupyter-widgets/controls",
      "model_module_version": "1.2.0",
      "model_name": "IntSliderModel",
      "state": {
       "layout": "IPY_MODEL_c758a5cab5284818b3263aaf953529c9",
       "max": 70,
       "min": 40,
       "style": "IPY_MODEL_f54f1a13f9d24bd3ba9eb8c188cd0b4e",
       "value": 70
      }
     },
     "38c6db85587c46378151ebfb35b29720": {
      "model_module": "@jupyter-widgets/output",
      "model_module_version": "1.0.0",
      "model_name": "OutputModel",
      "state": {
       "layout": "IPY_MODEL_cfac59edef714dd0bc8ba5b4b579ddbe",
       "outputs": [
        {
         "data": {
          "text/markdown": "**Modelos seleccionados:**",
          "text/plain": "<IPython.core.display.Markdown object>"
         },
         "metadata": {},
         "output_type": "display_data"
        },
        {
         "name": "stdout",
         "output_type": "stream",
         "text": "                Nombre\nID                    \n0   Bornes_P_Total.pkl\n1        EE. Quito.pkl\n"
        }
       ]
      }
     },
     "38ced160ae744d7e8cf72740cf30e834": {
      "model_module": "@jupyter-widgets/controls",
      "model_module_version": "1.2.0",
      "model_name": "DescriptionStyleModel",
      "state": {
       "description_width": ""
      }
     },
     "38f80048a4cc40b4a66d79fc93102080": {
      "model_module": "@jupyter-widgets/controls",
      "model_module_version": "1.2.0",
      "model_name": "ButtonModel",
      "state": {
       "button_style": "warning",
       "description": "Empezar el entrenamiento",
       "icon": "check",
       "layout": "IPY_MODEL_a6fb19849aa14da6aa2e32117deea724",
       "style": "IPY_MODEL_8f7f785986d64cd39bc5b1162cbf94bf",
       "tooltip": "Empieza el entrenamiento de acuerdo a los parámetros anteriores"
      }
     },
     "396561e86bcb43538ea56850fc8d0ed1": {
      "model_module": "@jupyter-widgets/base",
      "model_module_version": "1.0.0",
      "model_name": "LayoutModel",
      "state": {}
     },
     "39c9ea6f73ee45139cd29223f807c156": {
      "model_module": "@jupyter-widgets/controls",
      "model_module_version": "1.2.0",
      "model_name": "HBoxModel",
      "state": {
       "children": [
        "IPY_MODEL_dc90f1f9873244b9944e256a1e043ea2"
       ],
       "layout": "IPY_MODEL_59b94a3dde664ad4a4462ea93b7cf737"
      }
     },
     "3a493a8da41240d9a45addb37569ea04": {
      "model_module": "@jupyter-widgets/controls",
      "model_module_version": "1.2.0",
      "model_name": "DescriptionStyleModel",
      "state": {
       "description_width": ""
      }
     },
     "3a630c2621864041abf6b15a8017fa8e": {
      "model_module": "@jupyter-widgets/base",
      "model_module_version": "1.0.0",
      "model_name": "LayoutModel",
      "state": {}
     },
     "3a7b9e6190384ce48d3ecf4067d6657e": {
      "model_module": "@jupyter-widgets/controls",
      "model_module_version": "1.2.0",
      "model_name": "ButtonModel",
      "state": {
       "button_style": "warning",
       "description": "Empezar entrenamiento",
       "layout": "IPY_MODEL_f74b8f8a15314fb5b00bf8a0fe6c72ba",
       "style": "IPY_MODEL_20284401bf0b442d984c835d813f2a41",
       "tooltip": "Empieza el entrenamiento de acuerdo a los parámetros anteriores"
      }
     },
     "3afa73997dd14425b1165c0a166c1087": {
      "model_module": "@jupyter-widgets/controls",
      "model_module_version": "1.2.0",
      "model_name": "HBoxModel",
      "state": {
       "children": [
        "IPY_MODEL_ee8a13133f8741aa97dbb8921eae74af"
       ],
       "layout": "IPY_MODEL_7528cc0399ba4236a0a4187b668e6852"
      }
     },
     "3b091611fe0d48009ca9e973b89a87e4": {
      "model_module": "@jupyter-widgets/controls",
      "model_module_version": "1.2.0",
      "model_name": "HBoxModel",
      "state": {
       "children": [
        "IPY_MODEL_adcad3858cd541b69e8745a522fb0c47"
       ],
       "layout": "IPY_MODEL_f090f07f0552471d8d936032a60520f8"
      }
     },
     "3b43e37195f14ba384b449db23784ab8": {
      "model_module": "@jupyter-widgets/controls",
      "model_module_version": "1.2.0",
      "model_name": "IntRangeSliderModel",
      "state": {
       "_model_name": "IntRangeSliderModel",
       "_view_name": "IntRangeSliderView",
       "layout": "IPY_MODEL_6b9c1581285e43a7b701d0f29f2e8699",
       "max": 120,
       "min": 40,
       "style": "IPY_MODEL_9a11a8df1a3d481ab6969cbffbb84785",
       "value": [
        66,
        90
       ]
      }
     },
     "3c63d1802a7b45b99be33200619677f9": {
      "model_module": "@jupyter-widgets/output",
      "model_module_version": "1.0.0",
      "model_name": "OutputModel",
      "state": {
       "layout": "IPY_MODEL_29086c50ba5145bd81d4d7841f9b7c3e",
       "outputs": [
        {
         "name": "stdout",
         "output_type": "stream",
         "text": "Se realizará 5 iteracciones\n"
        }
       ]
      }
     },
     "3cea3b851a9e40fda840d65592dfd91f": {
      "model_module": "@jupyter-widgets/controls",
      "model_module_version": "1.2.0",
      "model_name": "SliderStyleModel",
      "state": {
       "description_width": ""
      }
     },
     "3d030b2311ac4cca9a5c811c426b05de": {
      "model_module": "@jupyter-widgets/base",
      "model_module_version": "1.0.0",
      "model_name": "LayoutModel",
      "state": {}
     },
     "3d127dd860ca4dcba7ff4fc873f4f987": {
      "model_module": "@jupyter-widgets/controls",
      "model_module_version": "1.2.0",
      "model_name": "ButtonStyleModel",
      "state": {}
     },
     "3d140388e9f6425db8f02a3403524285": {
      "model_module": "@jupyter-widgets/controls",
      "model_module_version": "1.2.0",
      "model_name": "SliderStyleModel",
      "state": {
       "description_width": ""
      }
     },
     "3d6a8189b6db4d01a22b919af40c9a82": {
      "model_module": "@jupyter-widgets/controls",
      "model_module_version": "1.2.0",
      "model_name": "IntRangeSliderModel",
      "state": {
       "_model_name": "IntRangeSliderModel",
       "_view_name": "IntRangeSliderView",
       "layout": "IPY_MODEL_25a2fd61d3df4e96b30d2358a824a5bc",
       "max": 120,
       "min": 40,
       "style": "IPY_MODEL_a7536e53268b4e52b04bb8464d78acc3",
       "value": [
        55,
        110
       ]
      }
     },
     "3dcbb19dfe1a4bef83652794e8b3d6d6": {
      "model_module": "@jupyter-widgets/controls",
      "model_module_version": "1.2.0",
      "model_name": "HBoxModel",
      "state": {
       "children": [
        "IPY_MODEL_f68dda2082984eeb873cac2761318200"
       ],
       "layout": "IPY_MODEL_1490c3748374486a8a298840ca8d2715"
      }
     },
     "3ddcaa76421e4f3a9ade911653506ec7": {
      "model_module": "@jupyter-widgets/controls",
      "model_module_version": "1.2.0",
      "model_name": "SelectMultipleModel",
      "state": {
       "_options_labels": [
        "Bornes_P_Total.pkl",
        "EE. Quito.pkl"
       ],
       "description": "Modelos: ",
       "index": [
        1
       ],
       "layout": "IPY_MODEL_948eb734e88949889ded9bc113cecbdc",
       "rows": 2,
       "style": "IPY_MODEL_41ab409d7e6f46b480fbfaa05ef253e4"
      }
     },
     "3df3a6f06ee646fb8cfac37b4bcc1b94": {
      "model_module": "@jupyter-widgets/controls",
      "model_module_version": "1.2.0",
      "model_name": "SliderStyleModel",
      "state": {
       "description_width": ""
      }
     },
     "3e8e01131f0245f7abcae6914132d49c": {
      "model_module": "@jupyter-widgets/base",
      "model_module_version": "1.0.0",
      "model_name": "LayoutModel",
      "state": {}
     },
     "3f2d21fed15e4e01870899233301b746": {
      "model_module": "@jupyter-widgets/base",
      "model_module_version": "1.0.0",
      "model_name": "LayoutModel",
      "state": {}
     },
     "3f6cc1f096284d76aea7c48b843cb015": {
      "model_module": "@jupyter-widgets/controls",
      "model_module_version": "1.2.0",
      "model_name": "SliderStyleModel",
      "state": {
       "description_width": ""
      }
     },
     "3f99fd8ea0164c24b89080c1a191b129": {
      "model_module": "@jupyter-widgets/base",
      "model_module_version": "1.0.0",
      "model_name": "LayoutModel",
      "state": {}
     },
     "3fa818779e4d46cb86aa59c8a18fe1ac": {
      "model_module": "@jupyter-widgets/controls",
      "model_module_version": "1.2.0",
      "model_name": "HBoxModel",
      "state": {
       "children": [
        "IPY_MODEL_0381954481de496fafecf3270af2a765"
       ],
       "layout": "IPY_MODEL_ee9a34e95c7a4a4980cee2c659bba371"
      }
     },
     "4045250d0ea8426fbb6e0a8cd260037a": {
      "model_module": "@jupyter-widgets/controls",
      "model_module_version": "1.2.0",
      "model_name": "DescriptionStyleModel",
      "state": {
       "description_width": ""
      }
     },
     "405a970c13a647cea5be1acd0a30ff65": {
      "model_module": "@jupyter-widgets/controls",
      "model_module_version": "1.2.0",
      "model_name": "SliderStyleModel",
      "state": {
       "description_width": ""
      }
     },
     "409c222d14574754a3df6eb861171b9d": {
      "model_module": "@jupyter-widgets/base",
      "model_module_version": "1.0.0",
      "model_name": "LayoutModel",
      "state": {}
     },
     "40f7578918374255ba2fd3d6cb9b038f": {
      "model_module": "@jupyter-widgets/controls",
      "model_module_version": "1.2.0",
      "model_name": "HBoxModel",
      "state": {
       "children": [
        "IPY_MODEL_f4d0024213184fac8481e5815c8a133b"
       ],
       "layout": "IPY_MODEL_00c190bf5e004532a5e6d7d946db4623"
      }
     },
     "41ab409d7e6f46b480fbfaa05ef253e4": {
      "model_module": "@jupyter-widgets/controls",
      "model_module_version": "1.2.0",
      "model_name": "DescriptionStyleModel",
      "state": {
       "description_width": ""
      }
     },
     "41c7ebcbedb24b0db7bf30d895ad8023": {
      "model_module": "@jupyter-widgets/controls",
      "model_module_version": "1.2.0",
      "model_name": "DescriptionStyleModel",
      "state": {
       "description_width": ""
      }
     },
     "421052fd47224d3c8317e335de6625fe": {
      "model_module": "@jupyter-widgets/controls",
      "model_module_version": "1.2.0",
      "model_name": "DescriptionStyleModel",
      "state": {
       "description_width": ""
      }
     },
     "4214638d6933405c9b8c987583de747f": {
      "model_module": "@jupyter-widgets/base",
      "model_module_version": "1.0.0",
      "model_name": "LayoutModel",
      "state": {}
     },
     "42bc0242e41d403386661649b448af88": {
      "model_module": "@jupyter-widgets/controls",
      "model_module_version": "1.2.0",
      "model_name": "SliderStyleModel",
      "state": {
       "description_width": ""
      }
     },
     "42ed20e337e04b93ac73ff79b0b28ed5": {
      "model_module": "@jupyter-widgets/output",
      "model_module_version": "1.0.0",
      "model_name": "OutputModel",
      "state": {
       "layout": "IPY_MODEL_c61bf49455ba464b8448714f49d9bdc1",
       "outputs": [
        {
         "name": "stdout",
         "output_type": "stream",
         "text": "Se realizará 3 iteracciones\n"
        }
       ]
      }
     },
     "4300c85accca4cb0ae41551f3d35e9ed": {
      "model_module": "@jupyter-widgets/controls",
      "model_module_version": "1.2.0",
      "model_name": "DescriptionStyleModel",
      "state": {
       "description_width": ""
      }
     },
     "4306fa4a73c8487ba7e61e45ec22e4e7": {
      "model_module": "@jupyter-widgets/output",
      "model_module_version": "1.0.0",
      "model_name": "OutputModel",
      "state": {
       "layout": "IPY_MODEL_91f5b8bb75f94ac39d526d0619396792",
       "outputs": [
        {
         "name": "stdout",
         "output_type": "stream",
         "text": "Se encontrará el mejor modelo con K estados en el rango: [55, 110]\n"
        }
       ]
      }
     },
     "43caedc97d7e4acaab27395bf05c14c9": {
      "model_module": "@jupyter-widgets/controls",
      "model_module_version": "1.2.0",
      "model_name": "HBoxModel",
      "state": {
       "children": [
        "IPY_MODEL_c301691687a54898af32808e95af16cf"
       ],
       "layout": "IPY_MODEL_a0d88574a4b0431db5fcbea801aea666"
      }
     },
     "43f6be88fe1247b0bc75ae19956826f1": {
      "model_module": "@jupyter-widgets/base",
      "model_module_version": "1.0.0",
      "model_name": "LayoutModel",
      "state": {}
     },
     "441f374c0dd44ba1abcc14ad64ad26dc": {
      "model_module": "@jupyter-widgets/controls",
      "model_module_version": "1.2.0",
      "model_name": "SelectMultipleModel",
      "state": {
       "_options_labels": [
        "Bornes_P_Total.pkl",
        "EE. Quito.pkl"
       ],
       "description": "Modelos: ",
       "index": [
        0,
        1
       ],
       "layout": "IPY_MODEL_ff8abc9359b14713a6b83bfcac6acdd7",
       "rows": 2,
       "style": "IPY_MODEL_6ed7749cfc33441d8224819618f78c40"
      }
     },
     "4426598ba36a49d5914dac47c6469931": {
      "model_module": "@jupyter-widgets/base",
      "model_module_version": "1.0.0",
      "model_name": "LayoutModel",
      "state": {}
     },
     "4532b72df7f64765a76293aa6aa94b06": {
      "model_module": "@jupyter-widgets/controls",
      "model_module_version": "1.2.0",
      "model_name": "DescriptionStyleModel",
      "state": {
       "description_width": ""
      }
     },
     "45d4ab5fb1e34da6a2c25dd9c8ed2370": {
      "model_module": "@jupyter-widgets/controls",
      "model_module_version": "1.2.0",
      "model_name": "SliderStyleModel",
      "state": {
       "description_width": ""
      }
     },
     "45d5a67169074b2fbcf438e7fc941bd9": {
      "model_module": "@jupyter-widgets/base",
      "model_module_version": "1.0.0",
      "model_name": "LayoutModel",
      "state": {
       "width": "50%"
      }
     },
     "4696c321f2fd45c39e8f314d1c53bf21": {
      "model_module": "@jupyter-widgets/base",
      "model_module_version": "1.0.0",
      "model_name": "LayoutModel",
      "state": {}
     },
     "46e6afda3b6849e6b4f8c994d0439724": {
      "model_module": "@jupyter-widgets/controls",
      "model_module_version": "1.2.0",
      "model_name": "HBoxModel",
      "state": {
       "children": [
        "IPY_MODEL_9529682d646c42d9b09e0690dff6c5f4"
       ],
       "layout": "IPY_MODEL_73ae82fb208c40e5bf0373183cb0056d"
      }
     },
     "47bf8e96fea74f598db01493f566b6ec": {
      "model_module": "@jupyter-widgets/base",
      "model_module_version": "1.0.0",
      "model_name": "LayoutModel",
      "state": {}
     },
     "47f8e498b46b4a8c81f892f98612d8b9": {
      "model_module": "@jupyter-widgets/controls",
      "model_module_version": "1.2.0",
      "model_name": "SliderStyleModel",
      "state": {
       "description_width": ""
      }
     },
     "4833727bed62476eb4bc64ed5b694b54": {
      "model_module": "@jupyter-widgets/controls",
      "model_module_version": "1.2.0",
      "model_name": "SliderStyleModel",
      "state": {
       "description_width": ""
      }
     },
     "48434251e11b475cac79f4dd9cb9d140": {
      "model_module": "@jupyter-widgets/base",
      "model_module_version": "1.0.0",
      "model_name": "LayoutModel",
      "state": {
       "width": "50%"
      }
     },
     "485804174eca4eefab5b1b26d3b00809": {
      "model_module": "@jupyter-widgets/controls",
      "model_module_version": "1.2.0",
      "model_name": "HBoxModel",
      "state": {
       "children": [
        "IPY_MODEL_07dc01bc67f24e8a9ad731036b540716"
       ],
       "layout": "IPY_MODEL_ac8011e3a4cf4c2aa48f22522676550e"
      }
     },
     "48e3e1bbc2a448f7bfe78e7d0533aa70": {
      "model_module": "@jupyter-widgets/base",
      "model_module_version": "1.0.0",
      "model_name": "LayoutModel",
      "state": {}
     },
     "4937940bb2e042278bc5c65ab05c92e6": {
      "model_module": "@jupyter-widgets/controls",
      "model_module_version": "1.2.0",
      "model_name": "SliderStyleModel",
      "state": {
       "description_width": ""
      }
     },
     "49441906968f4ecc9bf22de4ed3faf6e": {
      "model_module": "@jupyter-widgets/controls",
      "model_module_version": "1.2.0",
      "model_name": "HBoxModel",
      "state": {
       "children": [
        "IPY_MODEL_7a5213fb34364c0daba79895e03762db"
       ],
       "layout": "IPY_MODEL_2933d445ff8c45b59ab31afd2c46f885"
      }
     },
     "49559180f4ba403a91c7038550b409fc": {
      "model_module": "@jupyter-widgets/controls",
      "model_module_version": "1.2.0",
      "model_name": "ButtonModel",
      "state": {
       "button_style": "info",
       "description": "Click aquí para empezar entrenamiento",
       "layout": "IPY_MODEL_48434251e11b475cac79f4dd9cb9d140",
       "style": "IPY_MODEL_62c0da6af32348cdaf5a876cd5bf0e38",
       "tooltip": "Empieza el entrenamiento de acuerdo a los parámetros seleccionados"
      }
     },
     "49d36daafbed4348b26cf382686d516a": {
      "model_module": "@jupyter-widgets/controls",
      "model_module_version": "1.2.0",
      "model_name": "DescriptionStyleModel",
      "state": {
       "description_width": ""
      }
     },
     "4ab21d99995e411db3de001c0dc1f651": {
      "model_module": "@jupyter-widgets/controls",
      "model_module_version": "1.2.0",
      "model_name": "IntSliderModel",
      "state": {
       "layout": "IPY_MODEL_125b51ec176d405aa3125bfc739f28b8",
       "max": 120,
       "min": 75,
       "style": "IPY_MODEL_b756987281814546b09ed621f9ffa160",
       "value": 75
      }
     },
     "4b40827d5e3d461385c4111389cfadf0": {
      "model_module": "@jupyter-widgets/controls",
      "model_module_version": "1.2.0",
      "model_name": "DescriptionStyleModel",
      "state": {
       "description_width": ""
      }
     },
     "4bf56ab8b3dd4bbcb14fd22d3728a5d4": {
      "model_module": "@jupyter-widgets/base",
      "model_module_version": "1.0.0",
      "model_name": "LayoutModel",
      "state": {}
     },
     "4c1cae286c504163b8f1061e7f76e321": {
      "model_module": "@jupyter-widgets/base",
      "model_module_version": "1.0.0",
      "model_name": "LayoutModel",
      "state": {}
     },
     "4c242dfc7e9f4910bbc6f035405e6b69": {
      "model_module": "@jupyter-widgets/controls",
      "model_module_version": "1.2.0",
      "model_name": "SelectMultipleModel",
      "state": {
       "_options_labels": [
        "Bornes_P_Total.pkl",
        "EE. Quito.pkl"
       ],
       "description": "Datos disponibles: ",
       "index": [
        0
       ],
       "layout": "IPY_MODEL_6da9b446f91c41dbbec52eede135ad08",
       "rows": 5,
       "style": "IPY_MODEL_08cb296551ff4f11ba7b87b391c7a56e"
      }
     },
     "4c56d7bff07e426e8cf8d38a1c55c18a": {
      "model_module": "@jupyter-widgets/controls",
      "model_module_version": "1.2.0",
      "model_name": "SelectMultipleModel",
      "state": {
       "_options_labels": [
        "Bornes_P_Total.pkl",
        "EE. Quito - copia (2).pkl",
        "EE. Quito - copia (3).pkl",
        "EE. Quito - copia (4).pkl",
        "EE. Quito - copia (5).pkl",
        "EE. Quito - copia.pkl",
        "EE. Quito.pkl"
       ],
       "description": "Modelos: ",
       "index": [
        0
       ],
       "layout": "IPY_MODEL_b2c96c97fd164171a88a42c6edaa4392",
       "rows": 7,
       "style": "IPY_MODEL_5995eb9602bc4f1296637836c497d9d0"
      }
     },
     "4c8871040bdf453c872a34b721858937": {
      "model_module": "@jupyter-widgets/controls",
      "model_module_version": "1.2.0",
      "model_name": "SliderStyleModel",
      "state": {
       "description_width": ""
      }
     },
     "4c8ad501d0204b7a815143e85f135a1b": {
      "model_module": "@jupyter-widgets/base",
      "model_module_version": "1.0.0",
      "model_name": "LayoutModel",
      "state": {}
     },
     "4cff9b4e61324cab82343fc90c25600f": {
      "model_module": "@jupyter-widgets/base",
      "model_module_version": "1.0.0",
      "model_name": "LayoutModel",
      "state": {}
     },
     "4d07f7d90e8246b18c152b53cd073f19": {
      "model_module": "@jupyter-widgets/controls",
      "model_module_version": "1.2.0",
      "model_name": "ButtonModel",
      "state": {
       "button_style": "info",
       "description": "Click aquí para empezar entrenamiento",
       "layout": "IPY_MODEL_d270456aca6f4aeb925c2cf8b9a48bed",
       "style": "IPY_MODEL_153b36d6d8144572b75bd96115305544",
       "tooltip": "Empieza el entrenamiento de acuerdo a los parámetros seleccionados"
      }
     },
     "4d217d95d14449159f91b210556112ec": {
      "model_module": "@jupyter-widgets/output",
      "model_module_version": "1.0.0",
      "model_name": "OutputModel",
      "state": {
       "layout": "IPY_MODEL_89e777f3b34a4ec985c876a34ff9a856"
      }
     },
     "4d2d2e159e344a959ac9e7f0c1f02be2": {
      "model_module": "@jupyter-widgets/controls",
      "model_module_version": "1.2.0",
      "model_name": "SelectMultipleModel",
      "state": {
       "_options_labels": [
        "Bornes_P_Total.pkl",
        "EE. Quito - copia (2).pkl",
        "EE. Quito - copia (3).pkl",
        "EE. Quito - copia (4).pkl",
        "EE. Quito - copia (5).pkl",
        "EE. Quito - copia.pkl",
        "EE. Quito.pkl"
       ],
       "description": "Modelos: ",
       "index": [
        0
       ],
       "layout": "IPY_MODEL_15f66d7e04db49a089fdf644070abe1d",
       "rows": 7,
       "style": "IPY_MODEL_e01db722e5d54649b466980a66b9a7fe"
      }
     },
     "4d5b91717fb3401195d4ad891630d665": {
      "model_module": "@jupyter-widgets/controls",
      "model_module_version": "1.2.0",
      "model_name": "IntRangeSliderModel",
      "state": {
       "_model_name": "IntRangeSliderModel",
       "_view_name": "IntRangeSliderView",
       "layout": "IPY_MODEL_2e6e126d59cb4d158b25365f926f8a79",
       "max": 120,
       "min": 40,
       "style": "IPY_MODEL_47f8e498b46b4a8c81f892f98612d8b9",
       "value": [
        55,
        110
       ]
      }
     },
     "4da8e6e6532d470284a74ced883f6681": {
      "model_module": "@jupyter-widgets/output",
      "model_module_version": "1.0.0",
      "model_name": "OutputModel",
      "state": {
       "layout": "IPY_MODEL_ed07b4871ca244ae8117cf758efb9aec",
       "outputs": [
        {
         "name": "stdout",
         "output_type": "stream",
         "text": "(70, 75)\n"
        },
        {
         "ename": "NameError",
         "evalue": "name 'change' is not defined",
         "output_type": "error",
         "traceback": [
          "\u001b[1;31m---------------------------------------------------------------------------\u001b[0m",
          "\u001b[1;31mNameError\u001b[0m                                 Traceback (most recent call last)",
          "\u001b[1;32mC:\\ProgramData\\Anaconda3\\lib\\site-packages\\ipywidgets\\widgets\\interaction.py\u001b[0m in \u001b[0;36mobserver\u001b[1;34m(change)\u001b[0m\n\u001b[0;32m     72\u001b[0m         \u001b[1;32mwith\u001b[0m \u001b[0mout\u001b[0m\u001b[1;33m:\u001b[0m\u001b[1;33m\u001b[0m\u001b[0m\n\u001b[0;32m     73\u001b[0m             \u001b[0mclear_output\u001b[0m\u001b[1;33m(\u001b[0m\u001b[0mwait\u001b[0m\u001b[1;33m=\u001b[0m\u001b[1;32mTrue\u001b[0m\u001b[1;33m)\u001b[0m\u001b[1;33m\u001b[0m\u001b[0m\n\u001b[1;32m---> 74\u001b[1;33m             \u001b[0mf\u001b[0m\u001b[1;33m(\u001b[0m\u001b[1;33m**\u001b[0m\u001b[0mkwargs\u001b[0m\u001b[1;33m)\u001b[0m\u001b[1;33m\u001b[0m\u001b[0m\n\u001b[0m\u001b[0;32m     75\u001b[0m             \u001b[0mshow_inline_matplotlib_plots\u001b[0m\u001b[1;33m(\u001b[0m\u001b[1;33m)\u001b[0m\u001b[1;33m\u001b[0m\u001b[0m\n\u001b[0;32m     76\u001b[0m     \u001b[1;32mfor\u001b[0m \u001b[0mk\u001b[0m\u001b[1;33m,\u001b[0m\u001b[0mw\u001b[0m \u001b[1;32min\u001b[0m \u001b[0mcontrols\u001b[0m\u001b[1;33m.\u001b[0m\u001b[0mitems\u001b[0m\u001b[1;33m(\u001b[0m\u001b[1;33m)\u001b[0m\u001b[1;33m:\u001b[0m\u001b[1;33m\u001b[0m\u001b[0m\n",
          "\u001b[1;32m<ipython-input-19-66649510660a>\u001b[0m in \u001b[0;36mf\u001b[1;34m(n_range)\u001b[0m\n\u001b[0;32m     27\u001b[0m     \u001b[0md_set\u001b[0m\u001b[1;33m[\u001b[0m\u001b[1;34m\"n_min\"\u001b[0m\u001b[1;33m]\u001b[0m\u001b[1;33m,\u001b[0m \u001b[0md_set\u001b[0m\u001b[1;33m[\u001b[0m\u001b[1;34m\"n_max\"\u001b[0m\u001b[1;33m]\u001b[0m \u001b[1;33m=\u001b[0m \u001b[0mn_range\u001b[0m\u001b[1;33m[\u001b[0m\u001b[1;36m0\u001b[0m\u001b[1;33m]\u001b[0m\u001b[1;33m,\u001b[0m \u001b[0mn_range\u001b[0m\u001b[1;33m[\u001b[0m\u001b[1;36m1\u001b[0m\u001b[1;33m]\u001b[0m\u001b[1;33m\u001b[0m\u001b[0m\n\u001b[0;32m     28\u001b[0m     \u001b[0mhmm_u\u001b[0m\u001b[1;33m.\u001b[0m\u001b[0msave_pickle_file\u001b[0m\u001b[1;33m(\u001b[0m\u001b[1;34m\"default_settings.pkl\"\u001b[0m\u001b[1;33m,\u001b[0m \u001b[0md_set\u001b[0m\u001b[1;33m)\u001b[0m\u001b[1;33m\u001b[0m\u001b[0m\n\u001b[1;32m---> 29\u001b[1;33m     \u001b[0mprint\u001b[0m\u001b[1;33m(\u001b[0m\u001b[1;34m\"Se encontrará el mejor modelo con K estados en el rango: [{0},{1}]\"\u001b[0m\u001b[1;33m.\u001b[0m\u001b[0mformat\u001b[0m\u001b[1;33m(\u001b[0m\u001b[0mchange\u001b[0m\u001b[1;33m[\u001b[0m\u001b[1;36m0\u001b[0m\u001b[1;33m]\u001b[0m\u001b[1;33m,\u001b[0m \u001b[0mchange\u001b[0m\u001b[1;33m[\u001b[0m\u001b[1;36m1\u001b[0m\u001b[1;33m]\u001b[0m\u001b[1;33m)\u001b[0m\u001b[1;33m)\u001b[0m\u001b[1;33m\u001b[0m\u001b[0m\n\u001b[0m\u001b[0;32m     30\u001b[0m \u001b[1;31m#out = widgets.interactive_output(f, {'n_min': n_min, 'n_max': n_max})\u001b[0m\u001b[1;33m\u001b[0m\u001b[1;33m\u001b[0m\u001b[0m\n\u001b[0;32m     31\u001b[0m \u001b[0mout\u001b[0m \u001b[1;33m=\u001b[0m \u001b[0mwidgets\u001b[0m\u001b[1;33m.\u001b[0m\u001b[0minteractive_output\u001b[0m\u001b[1;33m(\u001b[0m\u001b[0mf\u001b[0m\u001b[1;33m,\u001b[0m \u001b[1;33m{\u001b[0m\u001b[1;34m'n_range'\u001b[0m\u001b[1;33m:\u001b[0m \u001b[0mn_range\u001b[0m\u001b[1;33m}\u001b[0m\u001b[1;33m)\u001b[0m\u001b[1;33m\u001b[0m\u001b[0m\n",
          "\u001b[1;31mNameError\u001b[0m: name 'change' is not defined"
         ]
        }
       ]
      }
     },
     "4dbe1129c96443b9a7aadd60094b9cd6": {
      "model_module": "@jupyter-widgets/base",
      "model_module_version": "1.0.0",
      "model_name": "LayoutModel",
      "state": {
       "width": "50%"
      }
     },
     "4e07a3f948cf4702ad16576676f467d1": {
      "model_module": "@jupyter-widgets/controls",
      "model_module_version": "1.2.0",
      "model_name": "IntSliderModel",
      "state": {
       "layout": "IPY_MODEL_fa7a63db321e4988a1774cb4659c4699",
       "max": 120,
       "min": 75,
       "style": "IPY_MODEL_944123af4a954935923da6e3e1c639d1",
       "value": 75
      }
     },
     "4e81d3fd150e4628bc8f082fe3652af2": {
      "model_module": "@jupyter-widgets/base",
      "model_module_version": "1.0.0",
      "model_name": "LayoutModel",
      "state": {}
     },
     "4f2c09b3447a4615b25c05a4ac54f373": {
      "model_module": "@jupyter-widgets/controls",
      "model_module_version": "1.2.0",
      "model_name": "HBoxModel",
      "state": {
       "children": [
        "IPY_MODEL_f6f4532da11a4b668402f503fd0712bc"
       ],
       "layout": "IPY_MODEL_e15803723cce4bc09d8d128e3989670a"
      }
     },
     "4f4cbadb929148ecb351afc8f1669a1b": {
      "model_module": "@jupyter-widgets/base",
      "model_module_version": "1.0.0",
      "model_name": "LayoutModel",
      "state": {}
     },
     "500027219bf54684858a7de75c5af0e0": {
      "model_module": "@jupyter-widgets/base",
      "model_module_version": "1.0.0",
      "model_name": "LayoutModel",
      "state": {}
     },
     "513c956e04c44a03a739d1f370030803": {
      "model_module": "@jupyter-widgets/controls",
      "model_module_version": "1.2.0",
      "model_name": "HBoxModel",
      "state": {
       "children": [
        "IPY_MODEL_4d07f7d90e8246b18c152b53cd073f19"
       ],
       "layout": "IPY_MODEL_9aa5722d61a74196ae2c50edc45c8a61"
      }
     },
     "51e1cffa1df04167ac5ad9b9f062b5c3": {
      "model_module": "@jupyter-widgets/controls",
      "model_module_version": "1.2.0",
      "model_name": "HBoxModel",
      "state": {
       "children": [
        "IPY_MODEL_bbc688b64d1e43c28fe909c745faec79"
       ],
       "layout": "IPY_MODEL_9d5cf75a3c9b41cca2993bdbc0623980"
      }
     },
     "51e89c8cc3174321a84b331d1184f724": {
      "model_module": "@jupyter-widgets/base",
      "model_module_version": "1.0.0",
      "model_name": "LayoutModel",
      "state": {}
     },
     "5325914ddfed495eb106413ebe1b1401": {
      "model_module": "@jupyter-widgets/base",
      "model_module_version": "1.0.0",
      "model_name": "LayoutModel",
      "state": {}
     },
     "5373227c300a42c8bdd517eb9d1e3143": {
      "model_module": "@jupyter-widgets/base",
      "model_module_version": "1.0.0",
      "model_name": "LayoutModel",
      "state": {}
     },
     "53e4af928164456aa46cfe549f26d9ad": {
      "model_module": "@jupyter-widgets/controls",
      "model_module_version": "1.2.0",
      "model_name": "ButtonModel",
      "state": {
       "button_style": "warning",
       "description": "Empezar entrenamiento",
       "layout": "IPY_MODEL_1c56efa610bc4332adeae22397c15ca8",
       "style": "IPY_MODEL_cfa3216f1edf4f7a8a7d9e2ce17e7306",
       "tooltip": "Empieza el entrenamiento de acuerdo a los parámetros anteriores"
      }
     },
     "54be295b6a2f4da48bb9d792c46040e2": {
      "model_module": "@jupyter-widgets/base",
      "model_module_version": "1.0.0",
      "model_name": "LayoutModel",
      "state": {}
     },
     "551bb41f73044d2591b98e55d8e956fb": {
      "model_module": "@jupyter-widgets/output",
      "model_module_version": "1.0.0",
      "model_name": "OutputModel",
      "state": {
       "layout": "IPY_MODEL_e165598f5cdf4cef88f1e3790492d7ab",
       "outputs": [
        {
         "name": "stdout",
         "output_type": "stream",
         "text": "Los modelos a entrenar: \n ['EE. Quito - copia (2).pkl', 'EE. Quito - copia (3).pkl', 'EE. Quito - copia (4).pkl', 'EE. Quito - copia (5).pkl', 'EE. Quito - copia.pkl']\n"
        }
       ]
      }
     },
     "5523ad99147c455785689d9fe50b55a7": {
      "model_module": "@jupyter-widgets/controls",
      "model_module_version": "1.2.0",
      "model_name": "SelectMultipleModel",
      "state": {
       "_options_labels": [
        "Bornes_P_Total.pkl",
        "EE. Quito.pkl"
       ],
       "description": "Modelos: ",
       "index": [
        0,
        1
       ],
       "layout": "IPY_MODEL_81d2332ca8be40979b08e0aae71bbf2d",
       "rows": 2,
       "style": "IPY_MODEL_2f67d8eba4f547648f8c4f2a1923a02b"
      }
     },
     "5526d698431649939483e30440856e00": {
      "model_module": "@jupyter-widgets/base",
      "model_module_version": "1.0.0",
      "model_name": "LayoutModel",
      "state": {}
     },
     "5543685fd96c47209739dd620d76a37c": {
      "model_module": "@jupyter-widgets/base",
      "model_module_version": "1.0.0",
      "model_name": "LayoutModel",
      "state": {}
     },
     "555f9794983445a3a718a6f9ef799819": {
      "model_module": "@jupyter-widgets/base",
      "model_module_version": "1.0.0",
      "model_name": "LayoutModel",
      "state": {}
     },
     "557ecb89476d4f559b4430505164ef8c": {
      "model_module": "@jupyter-widgets/controls",
      "model_module_version": "1.2.0",
      "model_name": "ButtonModel",
      "state": {
       "button_style": "warning",
       "description": "Empezar el entrenamiento",
       "layout": "IPY_MODEL_c4f18d3ae9494d02afeb2598f35626a7",
       "style": "IPY_MODEL_683a68f7aa624c02849f987905d68a2a",
       "tooltip": "Empieza el entrenamiento de acuerdo a los parámetros anteriores"
      }
     },
     "55e20efdc19e411eafe58a009309f917": {
      "model_module": "@jupyter-widgets/controls",
      "model_module_version": "1.2.0",
      "model_name": "DescriptionStyleModel",
      "state": {
       "description_width": ""
      }
     },
     "560eadfca6ca4b4ca5ba1596a305674b": {
      "model_module": "@jupyter-widgets/controls",
      "model_module_version": "1.2.0",
      "model_name": "HBoxModel",
      "state": {
       "children": [
        "IPY_MODEL_bdc65b579b204736b7b6a14c14c19841"
       ],
       "layout": "IPY_MODEL_db851a17b6cb4197a423a49b74f4f48e"
      }
     },
     "566531dbf3dd4d17aaaf0469e9a870d2": {
      "model_module": "@jupyter-widgets/controls",
      "model_module_version": "1.2.0",
      "model_name": "IntRangeSliderModel",
      "state": {
       "_model_name": "IntRangeSliderModel",
       "_view_name": "IntRangeSliderView",
       "layout": "IPY_MODEL_16939780ddb346e09f9d665496a71156",
       "max": 70,
       "min": 40,
       "style": "IPY_MODEL_614a6a9f01df4a4b884e06ff83eb1d3f",
       "value": [
        70,
        70
       ]
      }
     },
     "5675a8eb6f604578a845bd8b944139b1": {
      "model_module": "@jupyter-widgets/base",
      "model_module_version": "1.0.0",
      "model_name": "LayoutModel",
      "state": {}
     },
     "57180842a8d349869512e21be0dc1218": {
      "model_module": "@jupyter-widgets/controls",
      "model_module_version": "1.2.0",
      "model_name": "SelectMultipleModel",
      "state": {
       "_options_labels": [
        "Bornes_P_Total.pkl",
        "EE. Quito.pkl"
       ],
       "description": "Modelos: ",
       "index": [
        0
       ],
       "layout": "IPY_MODEL_c404ca0887ab4f8b86fcc417bb72e9fa",
       "rows": 2,
       "style": "IPY_MODEL_38ced160ae744d7e8cf72740cf30e834"
      }
     },
     "57e2ae515b2b4e99a605bb4c541cb7fb": {
      "model_module": "@jupyter-widgets/controls",
      "model_module_version": "1.2.0",
      "model_name": "IntSliderModel",
      "state": {
       "layout": "IPY_MODEL_6eac381d07214490bec03b891cbe6cc3",
       "max": 70,
       "min": 40,
       "style": "IPY_MODEL_88445bb47a024b05a45276625c2aa760",
       "value": 70
      }
     },
     "582088ed0f2c42cc98806b019e40f9ab": {
      "model_module": "@jupyter-widgets/controls",
      "model_module_version": "1.2.0",
      "model_name": "SelectMultipleModel",
      "state": {
       "_options_labels": [
        "Bornes_P_Total.pkl",
        "EE. Quito - copia (2).pkl",
        "EE. Quito - copia (3).pkl",
        "EE. Quito - copia (4).pkl",
        "EE. Quito - copia (5).pkl",
        "EE. Quito - copia.pkl",
        "EE. Quito.pkl"
       ],
       "description": "Modelos: ",
       "index": [
        1,
        2,
        3,
        4,
        5
       ],
       "layout": "IPY_MODEL_b4eb7590c6a74021b81f22570eb162f0",
       "rows": 7,
       "style": "IPY_MODEL_de97017bc66c4d3c937b5f980e058caa"
      }
     },
     "5863323d9d6444b6bb30fa05c4d7a303": {
      "model_module": "@jupyter-widgets/controls",
      "model_module_version": "1.2.0",
      "model_name": "SelectMultipleModel",
      "state": {
       "_options_labels": [
        "Bornes_P_Total.pkl",
        "EE. Quito - copia (2).pkl",
        "EE. Quito - copia (3).pkl",
        "EE. Quito - copia (4).pkl",
        "EE. Quito - copia (5).pkl",
        "EE. Quito - copia.pkl",
        "EE. Quito.pkl"
       ],
       "description": "Modelos: ",
       "index": [
        0,
        1,
        2,
        3,
        4,
        5,
        6
       ],
       "layout": "IPY_MODEL_b7056c51638a49d08efba727b4dd2f5e",
       "rows": 5,
       "style": "IPY_MODEL_1c8639eeb3ac424cb4a197798b8ff853"
      }
     },
     "5864ca9afab2432a833c13b59d97740d": {
      "model_module": "@jupyter-widgets/controls",
      "model_module_version": "1.2.0",
      "model_name": "DescriptionStyleModel",
      "state": {
       "description_width": ""
      }
     },
     "58d7195b9b3d4831b9105f82b6151851": {
      "model_module": "@jupyter-widgets/output",
      "model_module_version": "1.0.0",
      "model_name": "OutputModel",
      "state": {
       "layout": "IPY_MODEL_af7af8b8bfa44b1fa3287a938e2129f4",
       "outputs": [
        {
         "data": {
          "text/markdown": "**Modelos a entrenar:**",
          "text/plain": "<IPython.core.display.Markdown object>"
         },
         "metadata": {},
         "output_type": "display_data"
        },
        {
         "name": "stdout",
         "output_type": "stream",
         "text": "   Modelos seleccionados\nID                      \n0     Bornes_P_Total.pkl\n"
        }
       ]
      }
     },
     "58e4cabfd2fe4be4baa1444f1ffe108a": {
      "model_module": "@jupyter-widgets/controls",
      "model_module_version": "1.2.0",
      "model_name": "IntRangeSliderModel",
      "state": {
       "_model_name": "IntRangeSliderModel",
       "_view_name": "IntRangeSliderView",
       "layout": "IPY_MODEL_a957662f034342f196c1b1603b3d6433",
       "max": 70,
       "min": 40,
       "style": "IPY_MODEL_9848c8ca654840a6a9720547b15a6aa0",
       "value": [
        70,
        70
       ]
      }
     },
     "5995eb9602bc4f1296637836c497d9d0": {
      "model_module": "@jupyter-widgets/controls",
      "model_module_version": "1.2.0",
      "model_name": "DescriptionStyleModel",
      "state": {
       "description_width": ""
      }
     },
     "59b94a3dde664ad4a4462ea93b7cf737": {
      "model_module": "@jupyter-widgets/base",
      "model_module_version": "1.0.0",
      "model_name": "LayoutModel",
      "state": {}
     },
     "59ca13962e5d48dbbbe818d3807156fb": {
      "model_module": "@jupyter-widgets/controls",
      "model_module_version": "1.2.0",
      "model_name": "DescriptionStyleModel",
      "state": {
       "description_width": ""
      }
     },
     "5ae4a21a8fea48cea0187a1e83a53053": {
      "model_module": "@jupyter-widgets/base",
      "model_module_version": "1.0.0",
      "model_name": "LayoutModel",
      "state": {}
     },
     "5af0b2b4262b43a6939e91113eafecc5": {
      "model_module": "@jupyter-widgets/base",
      "model_module_version": "1.0.0",
      "model_name": "LayoutModel",
      "state": {}
     },
     "5af463452a524b78ac6d4ccdfc0daf47": {
      "model_module": "@jupyter-widgets/base",
      "model_module_version": "1.0.0",
      "model_name": "LayoutModel",
      "state": {}
     },
     "5af7b0f076fd423cbbef0dd3cdcc8eb5": {
      "model_module": "@jupyter-widgets/controls",
      "model_module_version": "1.2.0",
      "model_name": "HBoxModel",
      "state": {
       "children": [
        "IPY_MODEL_9866c13a5467482996035fcb1471c2a7"
       ],
       "layout": "IPY_MODEL_2086351b6d284df2be57f95ab007b03f"
      }
     },
     "5b0d427e5bbf4352a2e939b6551c3dd7": {
      "model_module": "@jupyter-widgets/base",
      "model_module_version": "1.0.0",
      "model_name": "LayoutModel",
      "state": {}
     },
     "5b414c449ea44224996abba5a9166591": {
      "model_module": "@jupyter-widgets/controls",
      "model_module_version": "1.2.0",
      "model_name": "HBoxModel",
      "state": {
       "children": [
        "IPY_MODEL_d211235a0764403c9717665135a9d24e"
       ],
       "layout": "IPY_MODEL_500027219bf54684858a7de75c5af0e0"
      }
     },
     "5b5cd5c42b9c4c908f64c0d6f8de69aa": {
      "model_module": "@jupyter-widgets/controls",
      "model_module_version": "1.2.0",
      "model_name": "SliderStyleModel",
      "state": {
       "description_width": ""
      }
     },
     "5c31d821b9084f4ea99346bd78b684ad": {
      "model_module": "@jupyter-widgets/output",
      "model_module_version": "1.0.0",
      "model_name": "OutputModel",
      "state": {
       "layout": "IPY_MODEL_e0dbaab4f8d040419933531125b334ec",
       "outputs": [
        {
         "name": "stdout",
         "output_type": "stream",
         "text": "Se realizará 3 iteracciones\n"
        }
       ]
      }
     },
     "5c3a409fa85a47089e15c2a3e6d7c19d": {
      "model_module": "@jupyter-widgets/output",
      "model_module_version": "1.0.0",
      "model_name": "OutputModel",
      "state": {
       "layout": "IPY_MODEL_ca3e5443f2c2459ca93478fb43a4c9db",
       "outputs": [
        {
         "name": "stdout",
         "output_type": "stream",
         "text": "Se encontrará el mejor modelo con K estados en el rango: [55, 110]\n"
        }
       ]
      }
     },
     "5d18af6fd4514755b8bab5a4dfceaf70": {
      "model_module": "@jupyter-widgets/controls",
      "model_module_version": "1.2.0",
      "model_name": "SliderStyleModel",
      "state": {
       "description_width": ""
      }
     },
     "5db1f3b876be4a478643dfeea6958937": {
      "model_module": "@jupyter-widgets/base",
      "model_module_version": "1.0.0",
      "model_name": "LayoutModel",
      "state": {}
     },
     "5df96318a8fc4f56ad07af7ae954500c": {
      "model_module": "@jupyter-widgets/base",
      "model_module_version": "1.0.0",
      "model_name": "LayoutModel",
      "state": {}
     },
     "5e8ea816111f46979594b7b6780c3931": {
      "model_module": "@jupyter-widgets/controls",
      "model_module_version": "1.2.0",
      "model_name": "ButtonModel",
      "state": {
       "button_style": "warning",
       "description": "Empezar el entrenamiento",
       "icon": "check",
       "layout": "IPY_MODEL_8b96f8d7dcf84086a5be443506221893",
       "style": "IPY_MODEL_9e98a255f01142ca8d68c518122d56e7",
       "tooltip": "Empieza el entrenamiento de acuerdo a los parámetros anteriores"
      }
     },
     "5e8fcfada1794bb1883fd22c66767f95": {
      "model_module": "@jupyter-widgets/controls",
      "model_module_version": "1.2.0",
      "model_name": "DescriptionStyleModel",
      "state": {
       "description_width": ""
      }
     },
     "5ea78ea0ed43408ab5c057f4eab64bc1": {
      "model_module": "@jupyter-widgets/base",
      "model_module_version": "1.0.0",
      "model_name": "LayoutModel",
      "state": {}
     },
     "5ef9167d32fb49559060c5db3e821a73": {
      "model_module": "@jupyter-widgets/controls",
      "model_module_version": "1.2.0",
      "model_name": "HBoxModel",
      "state": {
       "children": [
        "IPY_MODEL_c0c79777e9b24c9093c082440f3724e4"
       ],
       "layout": "IPY_MODEL_c9bc1fa94cce4c0a9f7af6051e9b5b74"
      }
     },
     "5f08866f8eb246e78c0f2f6e137b751e": {
      "model_module": "@jupyter-widgets/output",
      "model_module_version": "1.0.0",
      "model_name": "OutputModel",
      "state": {
       "layout": "IPY_MODEL_92ac2fafab3f41a88145b0e98c2925b7",
       "outputs": [
        {
         "name": "stdout",
         "output_type": "stream",
         "text": "Los modelos a entrenar:\n       Modelos seleccionados\n0  EE. Quito - copia (2).pkl\n1  EE. Quito - copia (3).pkl\n2  EE. Quito - copia (4).pkl\n3  EE. Quito - copia (5).pkl\n4      EE. Quito - copia.pkl\n"
        }
       ]
      }
     },
     "5fd03890b75a44f2aab4370922fc11f8": {
      "model_module": "@jupyter-widgets/base",
      "model_module_version": "1.0.0",
      "model_name": "LayoutModel",
      "state": {}
     },
     "60192cace82a48ea9cc634fdfb9ffbaf": {
      "model_module": "@jupyter-widgets/controls",
      "model_module_version": "1.2.0",
      "model_name": "SliderStyleModel",
      "state": {
       "description_width": ""
      }
     },
     "60cea6a3587c48d48cfcf43c4a9f8b9a": {
      "model_module": "@jupyter-widgets/controls",
      "model_module_version": "1.2.0",
      "model_name": "ButtonStyleModel",
      "state": {}
     },
     "60f8ac8bcedb4b218c9fc721fbe05dd2": {
      "model_module": "@jupyter-widgets/output",
      "model_module_version": "1.0.0",
      "model_name": "OutputModel",
      "state": {
       "layout": "IPY_MODEL_b54b885a3db941bab98eb422bf21cf65",
       "outputs": [
        {
         "name": "stdout",
         "output_type": "stream",
         "text": "Se encontrará el mejor modelo con K estados en el rango: [70,75]\n"
        }
       ]
      }
     },
     "610e8261825e4397b0b135c920d633be": {
      "model_module": "@jupyter-widgets/controls",
      "model_module_version": "1.2.0",
      "model_name": "HBoxModel",
      "state": {
       "children": [
        "IPY_MODEL_3007c0b4a6204cb08d08f13068e2265d"
       ],
       "layout": "IPY_MODEL_ba50e66fa6234784b5a4ccf9876bcaed"
      }
     },
     "614a6a9f01df4a4b884e06ff83eb1d3f": {
      "model_module": "@jupyter-widgets/controls",
      "model_module_version": "1.2.0",
      "model_name": "SliderStyleModel",
      "state": {
       "description_width": ""
      }
     },
     "61c188b6922e4e2c87a09daf85130b85": {
      "model_module": "@jupyter-widgets/output",
      "model_module_version": "1.0.0",
      "model_name": "OutputModel",
      "state": {
       "layout": "IPY_MODEL_0853d11022d44e3d9204571b89473398",
       "outputs": [
        {
         "name": "stdout",
         "output_type": "stream",
         "text": "Se encontrará el mejor modelo con K estados en el rango: [55, 110]\n"
        }
       ]
      }
     },
     "61d649f6a9cf4d6590f5ceb9499b2e35": {
      "model_module": "@jupyter-widgets/base",
      "model_module_version": "1.0.0",
      "model_name": "LayoutModel",
      "state": {}
     },
     "61f0db742af942a9ae8c591e5dde64f8": {
      "model_module": "@jupyter-widgets/controls",
      "model_module_version": "1.2.0",
      "model_name": "ButtonStyleModel",
      "state": {}
     },
     "62c0da6af32348cdaf5a876cd5bf0e38": {
      "model_module": "@jupyter-widgets/controls",
      "model_module_version": "1.2.0",
      "model_name": "ButtonStyleModel",
      "state": {}
     },
     "62c7826274e741e58a91bef6d5affd93": {
      "model_module": "@jupyter-widgets/controls",
      "model_module_version": "1.2.0",
      "model_name": "SliderStyleModel",
      "state": {
       "description_width": ""
      }
     },
     "62fc3d861b8c42099d68a63d1075c879": {
      "model_module": "@jupyter-widgets/controls",
      "model_module_version": "1.2.0",
      "model_name": "SliderStyleModel",
      "state": {
       "description_width": ""
      }
     },
     "6321964aa22e417d8c2005d171d54f1d": {
      "model_module": "@jupyter-widgets/controls",
      "model_module_version": "1.2.0",
      "model_name": "HBoxModel",
      "state": {
       "children": [
        "IPY_MODEL_23a94cc418a14b71af7e906ee2a39dc6"
       ],
       "layout": "IPY_MODEL_0007e452f54043fb824aa828464dc604"
      }
     },
     "633009ae6ec040b6a6ac85b6d5a4fb15": {
      "model_module": "@jupyter-widgets/base",
      "model_module_version": "1.0.0",
      "model_name": "LayoutModel",
      "state": {}
     },
     "6356e02d70224234af3a8ce5974ff9b2": {
      "model_module": "@jupyter-widgets/output",
      "model_module_version": "1.0.0",
      "model_name": "OutputModel",
      "state": {
       "layout": "IPY_MODEL_7de13633d96549729003825240813c85",
       "outputs": [
        {
         "name": "stdout",
         "output_type": "stream",
         "text": "Los modelos a entrenar \n"
        }
       ]
      }
     },
     "6361ee120e9e4ee8849160f10cc143e9": {
      "model_module": "@jupyter-widgets/base",
      "model_module_version": "1.0.0",
      "model_name": "LayoutModel",
      "state": {}
     },
     "63770b5448214b5d9fa9914bd7034781": {
      "model_module": "@jupyter-widgets/controls",
      "model_module_version": "1.2.0",
      "model_name": "SliderStyleModel",
      "state": {
       "description_width": ""
      }
     },
     "638ead468f4543358eac04b9bd1e01da": {
      "model_module": "@jupyter-widgets/output",
      "model_module_version": "1.0.0",
      "model_name": "OutputModel",
      "state": {
       "layout": "IPY_MODEL_396561e86bcb43538ea56850fc8d0ed1"
      }
     },
     "63e7e928d05545cca909f3f83481a9b3": {
      "model_module": "@jupyter-widgets/controls",
      "model_module_version": "1.2.0",
      "model_name": "IntRangeSliderModel",
      "state": {
       "_model_name": "IntRangeSliderModel",
       "_view_name": "IntRangeSliderView",
       "layout": "IPY_MODEL_76369f62fdf64a4387f5e8b5356e0822",
       "max": 120,
       "min": 40,
       "style": "IPY_MODEL_e713966d3bda4b9683fe43e7310589f2",
       "value": [
        55,
        110
       ]
      }
     },
     "64199e8819ad408590c1e79b6ba4f554": {
      "model_module": "@jupyter-widgets/base",
      "model_module_version": "1.0.0",
      "model_name": "LayoutModel",
      "state": {}
     },
     "64312acc11894dae922c65f7a415fda2": {
      "model_module": "@jupyter-widgets/controls",
      "model_module_version": "1.2.0",
      "model_name": "ButtonStyleModel",
      "state": {}
     },
     "643647a7e7304322ad5390770b334684": {
      "model_module": "@jupyter-widgets/controls",
      "model_module_version": "1.2.0",
      "model_name": "SelectMultipleModel",
      "state": {
       "_options_labels": [
        "Bornes_P_Total.pkl",
        "EE. Quito - copia (2).pkl",
        "EE. Quito - copia (3).pkl",
        "EE. Quito - copia (4).pkl",
        "EE. Quito - copia (5).pkl",
        "EE. Quito - copia.pkl",
        "EE. Quito.pkl"
       ],
       "description": "Modelos: ",
       "index": [
        0
       ],
       "layout": "IPY_MODEL_165e6c80193f4b8582cc1428115979c3",
       "rows": 7,
       "style": "IPY_MODEL_e0aac4fecb904f84b4139056a1c9360a"
      }
     },
     "6474039449e84866a299898dfad31b3a": {
      "model_module": "@jupyter-widgets/controls",
      "model_module_version": "1.2.0",
      "model_name": "DescriptionStyleModel",
      "state": {
       "description_width": ""
      }
     },
     "65273cbf25e245ad96de2e3ee65ced9e": {
      "model_module": "@jupyter-widgets/base",
      "model_module_version": "1.0.0",
      "model_name": "LayoutModel",
      "state": {}
     },
     "655b5b5f3d5d4f2bbb8734d757c2e99a": {
      "model_module": "@jupyter-widgets/base",
      "model_module_version": "1.0.0",
      "model_name": "LayoutModel",
      "state": {}
     },
     "65ecf978c6e14fd5913331c3c4b3baad": {
      "model_module": "@jupyter-widgets/base",
      "model_module_version": "1.0.0",
      "model_name": "LayoutModel",
      "state": {
       "width": "50%"
      }
     },
     "6679c60e1a85448dbfc80992e9bafb79": {
      "model_module": "@jupyter-widgets/base",
      "model_module_version": "1.0.0",
      "model_name": "LayoutModel",
      "state": {
       "width": "50%"
      }
     },
     "6681868bf96c490d9e143a8a348c0256": {
      "model_module": "@jupyter-widgets/base",
      "model_module_version": "1.0.0",
      "model_name": "LayoutModel",
      "state": {}
     },
     "671f4b01fe034ea4a27d75d9b1e173bb": {
      "model_module": "@jupyter-widgets/base",
      "model_module_version": "1.0.0",
      "model_name": "LayoutModel",
      "state": {}
     },
     "676cce4154ee41e5ad1c8208d33879f6": {
      "model_module": "@jupyter-widgets/controls",
      "model_module_version": "1.2.0",
      "model_name": "HBoxModel",
      "state": {
       "children": [
        "IPY_MODEL_090d5937a53b414d81c971e973c88b01"
       ],
       "layout": "IPY_MODEL_28cc223ea012492bb2d5a16814b0a01b"
      }
     },
     "676cddadf55a44419e32a7964b5c3939": {
      "model_module": "@jupyter-widgets/base",
      "model_module_version": "1.0.0",
      "model_name": "LayoutModel",
      "state": {}
     },
     "67ce76e51e7e43f592c9e02f01bd7a35": {
      "model_module": "@jupyter-widgets/base",
      "model_module_version": "1.0.0",
      "model_name": "LayoutModel",
      "state": {}
     },
     "67f992e7b4524ac3a50d28b3db576916": {
      "model_module": "@jupyter-widgets/controls",
      "model_module_version": "1.2.0",
      "model_name": "SelectMultipleModel",
      "state": {
       "_options_labels": [
        "Bornes_P_Total.pkl",
        "EE. Quito - copia (2).pkl",
        "EE. Quito - copia (3).pkl",
        "EE. Quito - copia (4).pkl",
        "EE. Quito - copia (5).pkl",
        "EE. Quito - copia.pkl",
        "EE. Quito.pkl"
       ],
       "description": "Modelos: ",
       "index": [
        0
       ],
       "layout": "IPY_MODEL_964034dead44439a9784e81d00d17de6",
       "rows": 7,
       "style": "IPY_MODEL_f190c23b21604624bbb622460747bd47"
      }
     },
     "683a68f7aa624c02849f987905d68a2a": {
      "model_module": "@jupyter-widgets/controls",
      "model_module_version": "1.2.0",
      "model_name": "ButtonStyleModel",
      "state": {}
     },
     "688f71714f704148aed136e40032ccbc": {
      "model_module": "@jupyter-widgets/base",
      "model_module_version": "1.0.0",
      "model_name": "LayoutModel",
      "state": {
       "width": "50%"
      }
     },
     "6912867c68554907a07e2f90ea17b3ac": {
      "model_module": "@jupyter-widgets/controls",
      "model_module_version": "1.2.0",
      "model_name": "SliderStyleModel",
      "state": {
       "description_width": ""
      }
     },
     "69c48d4315c94ff488557c9ce898db03": {
      "model_module": "@jupyter-widgets/base",
      "model_module_version": "1.0.0",
      "model_name": "LayoutModel",
      "state": {}
     },
     "6a221dcdd8b3435aaec7b0aeae311a93": {
      "model_module": "@jupyter-widgets/controls",
      "model_module_version": "1.2.0",
      "model_name": "ButtonStyleModel",
      "state": {}
     },
     "6aeb27391d0f4c9eb193106e05d5e3c5": {
      "model_module": "@jupyter-widgets/controls",
      "model_module_version": "1.2.0",
      "model_name": "IntSliderModel",
      "state": {
       "layout": "IPY_MODEL_5af463452a524b78ac6d4ccdfc0daf47",
       "max": 10,
       "min": 1,
       "style": "IPY_MODEL_fca1d465be35482e9b3922393f26c27d",
       "value": 5
      }
     },
     "6b4da816c0554d219cc82e2a78643cc6": {
      "model_module": "@jupyter-widgets/controls",
      "model_module_version": "1.2.0",
      "model_name": "HBoxModel",
      "state": {
       "children": [
        "IPY_MODEL_c01147ac0220465998495f4cce2a17fc"
       ],
       "layout": "IPY_MODEL_4f4cbadb929148ecb351afc8f1669a1b"
      }
     },
     "6b55bbb6980849d1a1bde40d8faefad6": {
      "model_module": "@jupyter-widgets/controls",
      "model_module_version": "1.2.0",
      "model_name": "HBoxModel",
      "state": {
       "children": [
        "IPY_MODEL_b9c7b2b2e54449a8895a33464dc1b71f"
       ],
       "layout": "IPY_MODEL_5543685fd96c47209739dd620d76a37c"
      }
     },
     "6b9c1581285e43a7b701d0f29f2e8699": {
      "model_module": "@jupyter-widgets/base",
      "model_module_version": "1.0.0",
      "model_name": "LayoutModel",
      "state": {}
     },
     "6bf2f47ae9be469ea3ae46fdf421b4ff": {
      "model_module": "@jupyter-widgets/base",
      "model_module_version": "1.0.0",
      "model_name": "LayoutModel",
      "state": {}
     },
     "6cd3750b4be04862adc901a0a65e82c3": {
      "model_module": "@jupyter-widgets/output",
      "model_module_version": "1.0.0",
      "model_name": "OutputModel",
      "state": {
       "layout": "IPY_MODEL_6e6e659606224df782abfa403d8a4534",
       "outputs": [
        {
         "name": "stdout",
         "output_type": "stream",
         "text": "Se encontrará el mejor modelo con K estados en el rango: [55, 110]\n"
        }
       ]
      }
     },
     "6d7ff740e0944ec5ae686ff18abaab3e": {
      "model_module": "@jupyter-widgets/base",
      "model_module_version": "1.0.0",
      "model_name": "LayoutModel",
      "state": {}
     },
     "6da23110dba046428a5d3fd85c7b92d6": {
      "model_module": "@jupyter-widgets/base",
      "model_module_version": "1.0.0",
      "model_name": "LayoutModel",
      "state": {}
     },
     "6da9b446f91c41dbbec52eede135ad08": {
      "model_module": "@jupyter-widgets/base",
      "model_module_version": "1.0.0",
      "model_name": "LayoutModel",
      "state": {}
     },
     "6dc813d082e244df96084887eefc8af9": {
      "model_module": "@jupyter-widgets/base",
      "model_module_version": "1.0.0",
      "model_name": "LayoutModel",
      "state": {}
     },
     "6e6e659606224df782abfa403d8a4534": {
      "model_module": "@jupyter-widgets/base",
      "model_module_version": "1.0.0",
      "model_name": "LayoutModel",
      "state": {}
     },
     "6e745a970f2c448cb72e2b4589321f85": {
      "model_module": "@jupyter-widgets/base",
      "model_module_version": "1.0.0",
      "model_name": "LayoutModel",
      "state": {}
     },
     "6e84995ebdb448399e275ee885e9e69e": {
      "model_module": "@jupyter-widgets/controls",
      "model_module_version": "1.2.0",
      "model_name": "HBoxModel",
      "state": {
       "children": [
        "IPY_MODEL_998aa307fdeb4563857b28163aa4be1c"
       ],
       "layout": "IPY_MODEL_c88cbe16fce2475a8b9c6738a912befc"
      }
     },
     "6eac381d07214490bec03b891cbe6cc3": {
      "model_module": "@jupyter-widgets/base",
      "model_module_version": "1.0.0",
      "model_name": "LayoutModel",
      "state": {}
     },
     "6ed7749cfc33441d8224819618f78c40": {
      "model_module": "@jupyter-widgets/controls",
      "model_module_version": "1.2.0",
      "model_name": "DescriptionStyleModel",
      "state": {
       "description_width": ""
      }
     },
     "701c814807cb47449bd038e0e5c530ad": {
      "model_module": "@jupyter-widgets/controls",
      "model_module_version": "1.2.0",
      "model_name": "ButtonStyleModel",
      "state": {}
     },
     "706d4265b050422fae154469173601eb": {
      "model_module": "@jupyter-widgets/controls",
      "model_module_version": "1.2.0",
      "model_name": "SelectMultipleModel",
      "state": {
       "_options_labels": [
        "Bornes_P_Total.pkl"
       ],
       "description": "Modelos: ",
       "index": [],
       "layout": "IPY_MODEL_ff386f4defba477390471003ac4b6d8d",
       "rows": 1,
       "style": "IPY_MODEL_10aad0c9b4b64b928051b1314e3bdfc6"
      }
     },
     "708ec192352f4e419527a1a5d8ee9997": {
      "model_module": "@jupyter-widgets/controls",
      "model_module_version": "1.2.0",
      "model_name": "SliderStyleModel",
      "state": {
       "description_width": ""
      }
     },
     "70ac4b70e2a943ee9022e235c4963503": {
      "model_module": "@jupyter-widgets/controls",
      "model_module_version": "1.2.0",
      "model_name": "SliderStyleModel",
      "state": {
       "description_width": ""
      }
     },
     "70c9513a571043e3a91f7f85a60dea2f": {
      "model_module": "@jupyter-widgets/controls",
      "model_module_version": "1.2.0",
      "model_name": "ButtonStyleModel",
      "state": {}
     },
     "710604bb28f941a8a3f42bbeeb805391": {
      "model_module": "@jupyter-widgets/controls",
      "model_module_version": "1.2.0",
      "model_name": "IntSliderModel",
      "state": {
       "layout": "IPY_MODEL_671f4b01fe034ea4a27d75d9b1e173bb",
       "max": 70,
       "min": 40,
       "style": "IPY_MODEL_94e46d5dc33e47b8a3cb25e511d0240b",
       "value": 70
      }
     },
     "7113ed14f59542d0952f0cd018cdae31": {
      "model_module": "@jupyter-widgets/controls",
      "model_module_version": "1.2.0",
      "model_name": "SliderStyleModel",
      "state": {
       "description_width": ""
      }
     },
     "714b8676071e49359123f6ddd4ee0c21": {
      "model_module": "@jupyter-widgets/output",
      "model_module_version": "1.0.0",
      "model_name": "OutputModel",
      "state": {
       "layout": "IPY_MODEL_fa63b3cb2d894591a059ed923da2f3f2",
       "outputs": [
        {
         "name": "stdout",
         "output_type": "stream",
         "text": "Se realizará 3 iteracciones\n"
        }
       ]
      }
     },
     "715c3d5fb2b643198138261e15f7bc5a": {
      "model_module": "@jupyter-widgets/output",
      "model_module_version": "1.0.0",
      "model_name": "OutputModel",
      "state": {
       "layout": "IPY_MODEL_b6b8c2fbdd9147599944295a22f575d2",
       "outputs": [
        {
         "name": "stdout",
         "output_type": "stream",
         "text": "Se realizará 5 iteracciones\n"
        }
       ]
      }
     },
     "71a6d745ef0d44f982bb054134f8ba88": {
      "model_module": "@jupyter-widgets/output",
      "model_module_version": "1.0.0",
      "model_name": "OutputModel",
      "state": {
       "layout": "IPY_MODEL_e6bc269cfd62460295d5ff7b41b9c1d0",
       "outputs": [
        {
         "name": "stdout",
         "output_type": "stream",
         "text": "(70, 75)\n"
        },
        {
         "ename": "NameError",
         "evalue": "name 'change' is not defined",
         "output_type": "error",
         "traceback": [
          "\u001b[1;31m---------------------------------------------------------------------------\u001b[0m",
          "\u001b[1;31mNameError\u001b[0m                                 Traceback (most recent call last)",
          "\u001b[1;32mC:\\ProgramData\\Anaconda3\\lib\\site-packages\\ipywidgets\\widgets\\interaction.py\u001b[0m in \u001b[0;36mobserver\u001b[1;34m(change)\u001b[0m\n\u001b[0;32m     72\u001b[0m         \u001b[1;32mwith\u001b[0m \u001b[0mout\u001b[0m\u001b[1;33m:\u001b[0m\u001b[1;33m\u001b[0m\u001b[0m\n\u001b[0;32m     73\u001b[0m             \u001b[0mclear_output\u001b[0m\u001b[1;33m(\u001b[0m\u001b[0mwait\u001b[0m\u001b[1;33m=\u001b[0m\u001b[1;32mTrue\u001b[0m\u001b[1;33m)\u001b[0m\u001b[1;33m\u001b[0m\u001b[0m\n\u001b[1;32m---> 74\u001b[1;33m             \u001b[0mf\u001b[0m\u001b[1;33m(\u001b[0m\u001b[1;33m**\u001b[0m\u001b[0mkwargs\u001b[0m\u001b[1;33m)\u001b[0m\u001b[1;33m\u001b[0m\u001b[0m\n\u001b[0m\u001b[0;32m     75\u001b[0m             \u001b[0mshow_inline_matplotlib_plots\u001b[0m\u001b[1;33m(\u001b[0m\u001b[1;33m)\u001b[0m\u001b[1;33m\u001b[0m\u001b[0m\n\u001b[0;32m     76\u001b[0m     \u001b[1;32mfor\u001b[0m \u001b[0mk\u001b[0m\u001b[1;33m,\u001b[0m\u001b[0mw\u001b[0m \u001b[1;32min\u001b[0m \u001b[0mcontrols\u001b[0m\u001b[1;33m.\u001b[0m\u001b[0mitems\u001b[0m\u001b[1;33m(\u001b[0m\u001b[1;33m)\u001b[0m\u001b[1;33m:\u001b[0m\u001b[1;33m\u001b[0m\u001b[0m\n",
          "\u001b[1;32m<ipython-input-18-7ec99f1dfef3>\u001b[0m in \u001b[0;36mf\u001b[1;34m(n_range)\u001b[0m\n\u001b[0;32m     27\u001b[0m     \u001b[0md_set\u001b[0m\u001b[1;33m[\u001b[0m\u001b[1;34m\"n_min\"\u001b[0m\u001b[1;33m]\u001b[0m\u001b[1;33m,\u001b[0m \u001b[0md_set\u001b[0m\u001b[1;33m[\u001b[0m\u001b[1;34m\"n_max\"\u001b[0m\u001b[1;33m]\u001b[0m \u001b[1;33m=\u001b[0m \u001b[0mn_range\u001b[0m\u001b[1;33m[\u001b[0m\u001b[1;36m0\u001b[0m\u001b[1;33m]\u001b[0m\u001b[1;33m,\u001b[0m \u001b[0mn_range\u001b[0m\u001b[1;33m[\u001b[0m\u001b[1;36m1\u001b[0m\u001b[1;33m]\u001b[0m\u001b[1;33m\u001b[0m\u001b[0m\n\u001b[0;32m     28\u001b[0m     \u001b[0mhmm_u\u001b[0m\u001b[1;33m.\u001b[0m\u001b[0msave_pickle_file\u001b[0m\u001b[1;33m(\u001b[0m\u001b[1;34m\"default_settings.pkl\"\u001b[0m\u001b[1;33m,\u001b[0m \u001b[0md_set\u001b[0m\u001b[1;33m)\u001b[0m\u001b[1;33m\u001b[0m\u001b[0m\n\u001b[1;32m---> 29\u001b[1;33m     \u001b[0mprint\u001b[0m\u001b[1;33m(\u001b[0m\u001b[1;34m\"Se encontrará el mejor modelo con K estados en el rango: [{0},{1}]\"\u001b[0m\u001b[1;33m.\u001b[0m\u001b[0mformat\u001b[0m\u001b[1;33m(\u001b[0m\u001b[0mchange\u001b[0m\u001b[1;33m[\u001b[0m\u001b[1;36m0\u001b[0m\u001b[1;33m]\u001b[0m\u001b[1;33m,\u001b[0m \u001b[0mchange\u001b[0m\u001b[1;33m[\u001b[0m\u001b[1;36m1\u001b[0m\u001b[1;33m]\u001b[0m\u001b[1;33m)\u001b[0m\u001b[1;33m)\u001b[0m\u001b[1;33m\u001b[0m\u001b[0m\n\u001b[0m\u001b[0;32m     30\u001b[0m \u001b[1;31m#out = widgets.interactive_output(f, {'n_min': n_min, 'n_max': n_max})\u001b[0m\u001b[1;33m\u001b[0m\u001b[1;33m\u001b[0m\u001b[0m\n\u001b[0;32m     31\u001b[0m \u001b[0mout\u001b[0m \u001b[1;33m=\u001b[0m \u001b[0mwidgets\u001b[0m\u001b[1;33m.\u001b[0m\u001b[0minteractive_output\u001b[0m\u001b[1;33m(\u001b[0m\u001b[0mf\u001b[0m\u001b[1;33m,\u001b[0m \u001b[1;33m{\u001b[0m\u001b[1;34m'n_range'\u001b[0m\u001b[1;33m:\u001b[0m \u001b[0mn_range\u001b[0m\u001b[1;33m}\u001b[0m\u001b[1;33m)\u001b[0m\u001b[1;33m\u001b[0m\u001b[0m\n",
          "\u001b[1;31mNameError\u001b[0m: name 'change' is not defined"
         ]
        }
       ]
      }
     },
     "721738ee0b71479d94a41f5b30056c1f": {
      "model_module": "@jupyter-widgets/base",
      "model_module_version": "1.0.0",
      "model_name": "LayoutModel",
      "state": {}
     },
     "72205c67b44f494da19272dc9cb366c1": {
      "model_module": "@jupyter-widgets/controls",
      "model_module_version": "1.2.0",
      "model_name": "HBoxModel",
      "state": {
       "children": [
        "IPY_MODEL_3ddcaa76421e4f3a9ade911653506ec7"
       ],
       "layout": "IPY_MODEL_8b5d831ef5984c928e386924fd8a5185"
      }
     },
     "725f5dda5f794673bf54589557c1907a": {
      "model_module": "@jupyter-widgets/base",
      "model_module_version": "1.0.0",
      "model_name": "LayoutModel",
      "state": {}
     },
     "72665df8da724c5c87f81191bccaec4d": {
      "model_module": "@jupyter-widgets/base",
      "model_module_version": "1.0.0",
      "model_name": "LayoutModel",
      "state": {}
     },
     "72b58945f69146afa766bdf11622dc38": {
      "model_module": "@jupyter-widgets/controls",
      "model_module_version": "1.2.0",
      "model_name": "IntSliderModel",
      "state": {
       "layout": "IPY_MODEL_5675a8eb6f604578a845bd8b944139b1",
       "max": 120,
       "min": 75,
       "style": "IPY_MODEL_2b42f632dc6b4df88e942e79ef612f36",
       "value": 75
      }
     },
     "732dbc7ddc4c4bb88ba587155ea88d55": {
      "model_module": "@jupyter-widgets/controls",
      "model_module_version": "1.2.0",
      "model_name": "ButtonStyleModel",
      "state": {}
     },
     "73ae82fb208c40e5bf0373183cb0056d": {
      "model_module": "@jupyter-widgets/base",
      "model_module_version": "1.0.0",
      "model_name": "LayoutModel",
      "state": {}
     },
     "73c3e891227c4460a8501230bfd250a6": {
      "model_module": "@jupyter-widgets/base",
      "model_module_version": "1.0.0",
      "model_name": "LayoutModel",
      "state": {}
     },
     "7432fb4beef44e95a73dce5f09725b20": {
      "model_module": "@jupyter-widgets/output",
      "model_module_version": "1.0.0",
      "model_name": "OutputModel",
      "state": {
       "layout": "IPY_MODEL_1ef62d87cc2443c79f50c09c2beffac0",
       "outputs": [
        {
         "name": "stdout",
         "output_type": "stream",
         "text": "(70, 75)\nSe encontrará el mejor modelo con K estados en el rango: [70,75]\n"
        }
       ]
      }
     },
     "745be7cae8d64c3797dd25c6e528b3ef": {
      "model_module": "@jupyter-widgets/base",
      "model_module_version": "1.0.0",
      "model_name": "LayoutModel",
      "state": {}
     },
     "74e4ecce8b52449a93dd02fb0defe7c2": {
      "model_module": "@jupyter-widgets/controls",
      "model_module_version": "1.2.0",
      "model_name": "IntSliderModel",
      "state": {
       "layout": "IPY_MODEL_3a630c2621864041abf6b15a8017fa8e",
       "max": 120,
       "min": 75,
       "style": "IPY_MODEL_112bf9616dcd44b38e4cbca5501045a4",
       "value": 75
      }
     },
     "7528cc0399ba4236a0a4187b668e6852": {
      "model_module": "@jupyter-widgets/base",
      "model_module_version": "1.0.0",
      "model_name": "LayoutModel",
      "state": {}
     },
     "76201bb1591d4b8d82e5e69cd8686378": {
      "model_module": "@jupyter-widgets/controls",
      "model_module_version": "1.2.0",
      "model_name": "SliderStyleModel",
      "state": {
       "description_width": ""
      }
     },
     "76369f62fdf64a4387f5e8b5356e0822": {
      "model_module": "@jupyter-widgets/base",
      "model_module_version": "1.0.0",
      "model_name": "LayoutModel",
      "state": {}
     },
     "764e76951a974451bfe4a4d839558148": {
      "model_module": "@jupyter-widgets/base",
      "model_module_version": "1.0.0",
      "model_name": "LayoutModel",
      "state": {}
     },
     "768bed745633436f916eead17306e178": {
      "model_module": "@jupyter-widgets/controls",
      "model_module_version": "1.2.0",
      "model_name": "DescriptionStyleModel",
      "state": {
       "description_width": ""
      }
     },
     "768c22bba5564aab9f2e8daf8586edb4": {
      "model_module": "@jupyter-widgets/output",
      "model_module_version": "1.0.0",
      "model_name": "OutputModel",
      "state": {
       "layout": "IPY_MODEL_d29857f6104b42878472e2a4c0888579",
       "outputs": [
        {
         "name": "stdout",
         "output_type": "stream",
         "text": "Se encontrará el mejor modelo con K estados en el rango: [70,75]\n"
        }
       ]
      }
     },
     "76b43f87193546dda9517d5e6273565b": {
      "model_module": "@jupyter-widgets/base",
      "model_module_version": "1.0.0",
      "model_name": "LayoutModel",
      "state": {}
     },
     "76d8db22d73d4cd1b3a08582ef79975e": {
      "model_module": "@jupyter-widgets/controls",
      "model_module_version": "1.2.0",
      "model_name": "HBoxModel",
      "state": {
       "children": [
        "IPY_MODEL_fd071c6c37724e29b4be982676de8e35"
       ],
       "layout": "IPY_MODEL_e10dc4cbf5b74307adf3f1a49ac15506"
      }
     },
     "76e23becc0e641a89983895b82855acb": {
      "model_module": "@jupyter-widgets/controls",
      "model_module_version": "1.2.0",
      "model_name": "ButtonModel",
      "state": {
       "button_style": "info",
       "description": "Click aquí para empezar entrenamiento",
       "layout": "IPY_MODEL_c083e34690c94d1da700e30bb7e3d770",
       "style": "IPY_MODEL_60cea6a3587c48d48cfcf43c4a9f8b9a",
       "tooltip": "Empieza el entrenamiento de acuerdo a los parámetros seleccionados"
      }
     },
     "771ae7fa177c4650bde3047199617eff": {
      "model_module": "@jupyter-widgets/base",
      "model_module_version": "1.0.0",
      "model_name": "LayoutModel",
      "state": {}
     },
     "772b9ea8aaf544aaae77f8d1be53345c": {
      "model_module": "@jupyter-widgets/controls",
      "model_module_version": "1.2.0",
      "model_name": "HBoxModel",
      "state": {
       "children": [
        "IPY_MODEL_441f374c0dd44ba1abcc14ad64ad26dc"
       ],
       "layout": "IPY_MODEL_fbc8c6a1f51b4b5fb49e2c11b22f61ae"
      }
     },
     "784fb12555c9403d82c0689971f6a110": {
      "model_module": "@jupyter-widgets/controls",
      "model_module_version": "1.2.0",
      "model_name": "IntSliderModel",
      "state": {
       "layout": "IPY_MODEL_a9b0e2796fae441f863cf725f306e3d6",
       "max": 10,
       "min": 1,
       "style": "IPY_MODEL_62fc3d861b8c42099d68a63d1075c879",
       "value": 4
      }
     },
     "788aaba1036942ea9a4da40c74ec9191": {
      "model_module": "@jupyter-widgets/base",
      "model_module_version": "1.0.0",
      "model_name": "LayoutModel",
      "state": {}
     },
     "78f2c5850cfa4c7fb046088d10622f17": {
      "model_module": "@jupyter-widgets/base",
      "model_module_version": "1.0.0",
      "model_name": "LayoutModel",
      "state": {}
     },
     "7925635ce3ea4e5892ed25a505f08921": {
      "model_module": "@jupyter-widgets/controls",
      "model_module_version": "1.2.0",
      "model_name": "HBoxModel",
      "state": {
       "children": [
        "IPY_MODEL_ffe2a4b206ef4763849adb8ce2937d7c"
       ],
       "layout": "IPY_MODEL_e75b65cb44d04ae19d64729f9bc45302"
      }
     },
     "793baa3a947c49b7a0ceb43a82674d4d": {
      "model_module": "@jupyter-widgets/controls",
      "model_module_version": "1.2.0",
      "model_name": "SliderStyleModel",
      "state": {
       "description_width": ""
      }
     },
     "79404e3a9d9e443cacb52b76d237cb16": {
      "model_module": "@jupyter-widgets/base",
      "model_module_version": "1.0.0",
      "model_name": "LayoutModel",
      "state": {}
     },
     "79bab6d9523849748c275f59e2d568ba": {
      "model_module": "@jupyter-widgets/base",
      "model_module_version": "1.0.0",
      "model_name": "LayoutModel",
      "state": {}
     },
     "79be31fc5a8a4210bbd40bce965f5402": {
      "model_module": "@jupyter-widgets/base",
      "model_module_version": "1.0.0",
      "model_name": "LayoutModel",
      "state": {}
     },
     "7a2680fccbe0426eb3ea19458acbcba6": {
      "model_module": "@jupyter-widgets/controls",
      "model_module_version": "1.2.0",
      "model_name": "HBoxModel",
      "state": {
       "children": [
        "IPY_MODEL_30d83a8334c04d40953307c1a8f79bf9"
       ],
       "layout": "IPY_MODEL_f86d0908f8924b72af33852e89f699fb"
      }
     },
     "7a43d9cfe5a4479ca4ef80cdd62374f6": {
      "model_module": "@jupyter-widgets/base",
      "model_module_version": "1.0.0",
      "model_name": "LayoutModel",
      "state": {}
     },
     "7a5213fb34364c0daba79895e03762db": {
      "model_module": "@jupyter-widgets/controls",
      "model_module_version": "1.2.0",
      "model_name": "IntSliderModel",
      "state": {
       "layout": "IPY_MODEL_847e3f017d8949d9b15ed51aca530239",
       "max": 10,
       "min": 1,
       "style": "IPY_MODEL_cde0763968204f5fb958f18c599b1e2c",
       "value": 4
      }
     },
     "7a795d16e886415b9b40c08e97d85acc": {
      "model_module": "@jupyter-widgets/base",
      "model_module_version": "1.0.0",
      "model_name": "LayoutModel",
      "state": {}
     },
     "7a7f8408ff9645e395c90dcc0a73009e": {
      "model_module": "@jupyter-widgets/controls",
      "model_module_version": "1.2.0",
      "model_name": "SliderStyleModel",
      "state": {
       "description_width": ""
      }
     },
     "7a841e4267854af3adbe0e2dcd9e0a0d": {
      "model_module": "@jupyter-widgets/base",
      "model_module_version": "1.0.0",
      "model_name": "LayoutModel",
      "state": {}
     },
     "7b04502d67c9420ab3a425edbafdd1f3": {
      "model_module": "@jupyter-widgets/controls",
      "model_module_version": "1.2.0",
      "model_name": "HBoxModel",
      "state": {
       "children": [
        "IPY_MODEL_cc104cdf04f44d959dccde454d2ed391"
       ],
       "layout": "IPY_MODEL_5373227c300a42c8bdd517eb9d1e3143"
      }
     },
     "7b20096ca54f45bc84044db88d75a876": {
      "model_module": "@jupyter-widgets/controls",
      "model_module_version": "1.2.0",
      "model_name": "SelectMultipleModel",
      "state": {
       "_options_labels": [
        "Bornes_P_Total.pkl",
        "EE. Quito.pkl"
       ],
       "description": "Modelos: ",
       "index": [
        0,
        1
       ],
       "layout": "IPY_MODEL_d0daca9c1757436da1a619cf8950469e",
       "rows": 5,
       "style": "IPY_MODEL_b69d43197ea141a58b4459a880fa3047"
      }
     },
     "7b3297e728914663a85b35639d8e397f": {
      "model_module": "@jupyter-widgets/controls",
      "model_module_version": "1.2.0",
      "model_name": "ButtonModel",
      "state": {
       "button_style": "info",
       "description": "Empezar entrenamiento",
       "layout": "IPY_MODEL_0e053b3378b04985b6aa3c8ebc005d2a",
       "style": "IPY_MODEL_feb8c240287547df8c33c9a05492e398",
       "tooltip": "Empieza el entrenamiento de acuerdo a los parámetros anteriores"
      }
     },
     "7b3781203b084935819830583997ac44": {
      "model_module": "@jupyter-widgets/base",
      "model_module_version": "1.0.0",
      "model_name": "LayoutModel",
      "state": {}
     },
     "7b78f5d42f114fedba9bc81a8256e5ce": {
      "model_module": "@jupyter-widgets/base",
      "model_module_version": "1.0.0",
      "model_name": "LayoutModel",
      "state": {
       "width": "50%"
      }
     },
     "7bf0238ba3c54cb2b48d74e8b4c2ba4c": {
      "model_module": "@jupyter-widgets/base",
      "model_module_version": "1.0.0",
      "model_name": "LayoutModel",
      "state": {}
     },
     "7c1c66b156bf43c8a1fad5ec7b7deaf6": {
      "model_module": "@jupyter-widgets/controls",
      "model_module_version": "1.2.0",
      "model_name": "IntSliderModel",
      "state": {
       "layout": "IPY_MODEL_00be14e7412e4000a2966dd2493d7a1c",
       "max": 70,
       "min": 40,
       "style": "IPY_MODEL_a767666103f64acf8aa43f74c41e2734",
       "value": 70
      }
     },
     "7c559193d7bb4b41a7ca1aae4ac0df8f": {
      "model_module": "@jupyter-widgets/controls",
      "model_module_version": "1.2.0",
      "model_name": "DescriptionStyleModel",
      "state": {
       "description_width": ""
      }
     },
     "7d79378e79474a75a3b10bb673252157": {
      "model_module": "@jupyter-widgets/base",
      "model_module_version": "1.0.0",
      "model_name": "LayoutModel",
      "state": {}
     },
     "7de13633d96549729003825240813c85": {
      "model_module": "@jupyter-widgets/base",
      "model_module_version": "1.0.0",
      "model_name": "LayoutModel",
      "state": {}
     },
     "7e03eed9005841249931cb2592e7a720": {
      "model_module": "@jupyter-widgets/controls",
      "model_module_version": "1.2.0",
      "model_name": "SliderStyleModel",
      "state": {
       "description_width": ""
      }
     },
     "7e2a751ba865404b840e51fe04658b7f": {
      "model_module": "@jupyter-widgets/base",
      "model_module_version": "1.0.0",
      "model_name": "LayoutModel",
      "state": {
       "flex": "1 1 0%",
       "width": "10%"
      }
     },
     "7ec27d2c2f67468ca437fbf198616608": {
      "model_module": "@jupyter-widgets/controls",
      "model_module_version": "1.2.0",
      "model_name": "DescriptionStyleModel",
      "state": {
       "description_width": ""
      }
     },
     "7ee00af3097145698484e1eee36b33ff": {
      "model_module": "@jupyter-widgets/controls",
      "model_module_version": "1.2.0",
      "model_name": "HBoxModel",
      "state": {
       "children": [
        "IPY_MODEL_566531dbf3dd4d17aaaf0469e9a870d2"
       ],
       "layout": "IPY_MODEL_ba63b7f8f55c42ea95335735d3c67ad3"
      }
     },
     "7ef3cb77aa094a5f92128465a99ccbd4": {
      "model_module": "@jupyter-widgets/controls",
      "model_module_version": "1.2.0",
      "model_name": "SliderStyleModel",
      "state": {
       "description_width": ""
      }
     },
     "7efd01c3534b401093455a9994401ede": {
      "model_module": "@jupyter-widgets/output",
      "model_module_version": "1.0.0",
      "model_name": "OutputModel",
      "state": {
       "layout": "IPY_MODEL_c93267a28ce14b3d8b6460176f9065e8",
       "outputs": [
        {
         "data": {
          "text/markdown": "**Los modelos a entrenar:**",
          "text/plain": "<IPython.core.display.Markdown object>"
         },
         "metadata": {},
         "output_type": "display_data"
        },
        {
         "name": "stdout",
         "output_type": "stream",
         "text": "  Modelos seleccionados\n0         EE. Quito.pkl\n"
        }
       ]
      }
     },
     "7f5d63370206467ab470eca85aa2cee9": {
      "model_module": "@jupyter-widgets/controls",
      "model_module_version": "1.2.0",
      "model_name": "SliderStyleModel",
      "state": {
       "description_width": ""
      }
     },
     "803b1347347f49b3a3593896890fdc3e": {
      "model_module": "@jupyter-widgets/base",
      "model_module_version": "1.0.0",
      "model_name": "LayoutModel",
      "state": {
       "width": "50%"
      }
     },
     "805a8d3f0fcf4d708c04084d5ea57f71": {
      "model_module": "@jupyter-widgets/controls",
      "model_module_version": "1.2.0",
      "model_name": "DescriptionStyleModel",
      "state": {
       "description_width": ""
      }
     },
     "80ce5fe2fdb747c1ab7bd8562d3c3169": {
      "model_module": "@jupyter-widgets/base",
      "model_module_version": "1.0.0",
      "model_name": "LayoutModel",
      "state": {}
     },
     "8121d84fda9c48408c65cfa5f6e03ba2": {
      "model_module": "@jupyter-widgets/controls",
      "model_module_version": "1.2.0",
      "model_name": "HBoxModel",
      "state": {
       "children": [
        "IPY_MODEL_582088ed0f2c42cc98806b019e40f9ab"
       ],
       "layout": "IPY_MODEL_f4d978353d8d4d6fa13c3448583e0a0b"
      }
     },
     "81b8d630add6461db6fb4cd899384e23": {
      "model_module": "@jupyter-widgets/base",
      "model_module_version": "1.0.0",
      "model_name": "LayoutModel",
      "state": {}
     },
     "81d2332ca8be40979b08e0aae71bbf2d": {
      "model_module": "@jupyter-widgets/base",
      "model_module_version": "1.0.0",
      "model_name": "LayoutModel",
      "state": {}
     },
     "81f4f189518b4d76bf4685f7787d0f34": {
      "model_module": "@jupyter-widgets/controls",
      "model_module_version": "1.2.0",
      "model_name": "SliderStyleModel",
      "state": {
       "description_width": ""
      }
     },
     "8215f704f5e046b982dece84b99f39fd": {
      "model_module": "@jupyter-widgets/controls",
      "model_module_version": "1.2.0",
      "model_name": "ButtonModel",
      "state": {
       "button_style": "info",
       "description": "Click aquí para empezar entrenamiento",
       "layout": "IPY_MODEL_ed4bada8f85c41f6a94ff6b3db6a91b5",
       "style": "IPY_MODEL_20974386aacb4df6baa9118aecf74fbe",
       "tooltip": "Empieza el entrenamiento de acuerdo a los parámetros seleccionados"
      }
     },
     "823ef399a1f44f589df9b76e8be28271": {
      "model_module": "@jupyter-widgets/controls",
      "model_module_version": "1.2.0",
      "model_name": "HBoxModel",
      "state": {
       "children": [
        "IPY_MODEL_99e5aa12bdb443e7bd88c851f6223b99"
       ],
       "layout": "IPY_MODEL_1798f688decd40c98142c90a17e5e767"
      }
     },
     "82474cd1449c45bb974b01e7a20606f3": {
      "model_module": "@jupyter-widgets/controls",
      "model_module_version": "1.2.0",
      "model_name": "IntSliderModel",
      "state": {
       "layout": "IPY_MODEL_a0e459349a4d424886518f376b559d39",
       "max": 10,
       "min": 1,
       "style": "IPY_MODEL_42bc0242e41d403386661649b448af88",
       "value": 3
      }
     },
     "82a885641d944226ad38115c80ace2e6": {
      "model_module": "@jupyter-widgets/controls",
      "model_module_version": "1.2.0",
      "model_name": "HBoxModel",
      "state": {
       "children": [
        "IPY_MODEL_93be31bff9bf46648cbf70956887ae31"
       ],
       "layout": "IPY_MODEL_555f9794983445a3a718a6f9ef799819"
      }
     },
     "839eaa46643e4cdb9cbbfe3f2f2fdef0": {
      "model_module": "@jupyter-widgets/controls",
      "model_module_version": "1.2.0",
      "model_name": "HBoxModel",
      "state": {
       "children": [
        "IPY_MODEL_63e7e928d05545cca909f3f83481a9b3"
       ],
       "layout": "IPY_MODEL_8dd6f832073e40e4ade621c6ce995289"
      }
     },
     "83a42c1798c2460f9449be97e898a7dd": {
      "model_module": "@jupyter-widgets/controls",
      "model_module_version": "1.2.0",
      "model_name": "HBoxModel",
      "state": {
       "children": [
        "IPY_MODEL_57e2ae515b2b4e99a605bb4c541cb7fb",
        "IPY_MODEL_4e07a3f948cf4702ad16576676f467d1"
       ],
       "layout": "IPY_MODEL_c1fde834de9b421798da3e4203089f85"
      }
     },
     "83fd220f718c4807851de3d0d2cf57be": {
      "model_module": "@jupyter-widgets/controls",
      "model_module_version": "1.2.0",
      "model_name": "SliderStyleModel",
      "state": {
       "description_width": ""
      }
     },
     "84470c167d5346b592408ce4a4b90aad": {
      "model_module": "@jupyter-widgets/base",
      "model_module_version": "1.0.0",
      "model_name": "LayoutModel",
      "state": {}
     },
     "846d88348d574d73894bc57a0090267f": {
      "model_module": "@jupyter-widgets/base",
      "model_module_version": "1.0.0",
      "model_name": "LayoutModel",
      "state": {}
     },
     "847e3f017d8949d9b15ed51aca530239": {
      "model_module": "@jupyter-widgets/base",
      "model_module_version": "1.0.0",
      "model_name": "LayoutModel",
      "state": {}
     },
     "84a4a543768e4a22ac3a868d2e2d76d8": {
      "model_module": "@jupyter-widgets/controls",
      "model_module_version": "1.2.0",
      "model_name": "ButtonModel",
      "state": {
       "button_style": "info",
       "description": "Click aquí para empezar entrenamiento",
       "layout": "IPY_MODEL_65ecf978c6e14fd5913331c3c4b3baad",
       "style": "IPY_MODEL_701c814807cb47449bd038e0e5c530ad",
       "tooltip": "Empieza el entrenamiento de acuerdo a los parámetros seleccionados"
      }
     },
     "84b793b1e2324a7b9343473785d7f327": {
      "model_module": "@jupyter-widgets/output",
      "model_module_version": "1.0.0",
      "model_name": "OutputModel",
      "state": {
       "layout": "IPY_MODEL_e9a07b8d25ff47baae19d6e6947fcf8e",
       "outputs": [
        {
         "data": {
          "text/markdown": "**Modelos seleccionados:**",
          "text/plain": "<IPython.core.display.Markdown object>"
         },
         "metadata": {},
         "output_type": "display_data"
        },
        {
         "name": "stdout",
         "output_type": "stream",
         "text": "Empty DataFrame\nColumns: [Nombre]\nIndex: []\n"
        }
       ]
      }
     },
     "84c652efdd29462db818c1fa3f83c33e": {
      "model_module": "@jupyter-widgets/base",
      "model_module_version": "1.0.0",
      "model_name": "LayoutModel",
      "state": {}
     },
     "852c469e30b74116aa8b1f233080e697": {
      "model_module": "@jupyter-widgets/controls",
      "model_module_version": "1.2.0",
      "model_name": "SelectMultipleModel",
      "state": {
       "_options_labels": [
        "Bornes_P_Total.pkl",
        "EE. Quito.pkl"
       ],
       "description": "Modelos: ",
       "index": [
        0
       ],
       "layout": "IPY_MODEL_c3b595a41aef4cd68f79f7be2cb896d6",
       "rows": 2,
       "style": "IPY_MODEL_a857ac1c30474caf92cad6dca5c21c83"
      }
     },
     "858440d2c5a84aa8b7f6f2ece24f51e6": {
      "model_module": "@jupyter-widgets/base",
      "model_module_version": "1.0.0",
      "model_name": "LayoutModel",
      "state": {}
     },
     "85d4d89db3ab4be293d01a05421375df": {
      "model_module": "@jupyter-widgets/output",
      "model_module_version": "1.0.0",
      "model_name": "OutputModel",
      "state": {
       "layout": "IPY_MODEL_ce1166f4587046bc9b93ccdf7a6b6ff9"
      }
     },
     "85e7dbe3aead4c0fab3f453f1dffd87e": {
      "model_module": "@jupyter-widgets/controls",
      "model_module_version": "1.2.0",
      "model_name": "IntSliderModel",
      "state": {
       "layout": "IPY_MODEL_daa54a5269a44e2784711d77debf72af",
       "max": 70,
       "min": 40,
       "style": "IPY_MODEL_3cea3b851a9e40fda840d65592dfd91f",
       "value": 70
      }
     },
     "8642cdd0ed524ce4a8f82f079d097d1a": {
      "model_module": "@jupyter-widgets/controls",
      "model_module_version": "1.2.0",
      "model_name": "ButtonStyleModel",
      "state": {}
     },
     "86a0f8bd2cf94d3a88798481d651dddc": {
      "model_module": "@jupyter-widgets/base",
      "model_module_version": "1.0.0",
      "model_name": "LayoutModel",
      "state": {}
     },
     "8725b831850c492cb000cb24fdf0a0dd": {
      "model_module": "@jupyter-widgets/controls",
      "model_module_version": "1.2.0",
      "model_name": "SelectMultipleModel",
      "state": {
       "_options_labels": [
        "Bornes_P_Total.pkl",
        "EE. Quito - copia (2).pkl",
        "EE. Quito - copia (3).pkl",
        "EE. Quito - copia (4).pkl",
        "EE. Quito - copia (5).pkl",
        "EE. Quito - copia.pkl",
        "EE. Quito.pkl"
       ],
       "description": "Modelos: ",
       "index": [
        1,
        2,
        3,
        4,
        5
       ],
       "layout": "IPY_MODEL_12750bbe36f54745b0d8bb363d7e444b",
       "rows": 7,
       "style": "IPY_MODEL_4045250d0ea8426fbb6e0a8cd260037a"
      }
     },
     "87e164b144d1482588133bed57c5f29e": {
      "model_module": "@jupyter-widgets/output",
      "model_module_version": "1.0.0",
      "model_name": "OutputModel",
      "state": {
       "layout": "IPY_MODEL_adb28b16dc22455e967587bdf11286b8",
       "outputs": [
        {
         "name": "stdout",
         "output_type": "stream",
         "text": "Se realizará 3 iteracciones\n"
        }
       ]
      }
     },
     "87e5533d41db4471a3ee63e6089aa3e1": {
      "model_module": "@jupyter-widgets/base",
      "model_module_version": "1.0.0",
      "model_name": "LayoutModel",
      "state": {}
     },
     "88445bb47a024b05a45276625c2aa760": {
      "model_module": "@jupyter-widgets/controls",
      "model_module_version": "1.2.0",
      "model_name": "SliderStyleModel",
      "state": {
       "description_width": ""
      }
     },
     "8866d37e91b44c0eb84b5e22b3dd324d": {
      "model_module": "@jupyter-widgets/controls",
      "model_module_version": "1.2.0",
      "model_name": "SelectMultipleModel",
      "state": {
       "_options_labels": [
        "Bornes_P_Total.pkl",
        "EE. Quito - copia (2).pkl",
        "EE. Quito - copia (3).pkl",
        "EE. Quito - copia (4).pkl",
        "EE. Quito - copia (5).pkl",
        "EE. Quito - copia.pkl",
        "EE. Quito.pkl"
       ],
       "description": "Modelos: ",
       "index": [
        0
       ],
       "layout": "IPY_MODEL_a6ca7c27a7dc43edb19c0d2882a77dbc",
       "rows": 7,
       "style": "IPY_MODEL_fa09d505a4d84b7fa46b183fbe31f871"
      }
     },
     "888ca0b03fbc41228e970b280f794a5b": {
      "model_module": "@jupyter-widgets/controls",
      "model_module_version": "1.2.0",
      "model_name": "IntRangeSliderModel",
      "state": {
       "_model_name": "IntRangeSliderModel",
       "_view_name": "IntRangeSliderView",
       "layout": "IPY_MODEL_4214638d6933405c9b8c987583de747f",
       "max": 70,
       "min": 40,
       "style": "IPY_MODEL_2d41e827ff454824a6d67f98956f163b",
       "value": [
        70,
        70
       ]
      }
     },
     "889756baa97f4d029fa5bbff08fb991a": {
      "model_module": "@jupyter-widgets/controls",
      "model_module_version": "1.2.0",
      "model_name": "ButtonStyleModel",
      "state": {}
     },
     "88c25ac110094b62a569f0aab190492f": {
      "model_module": "@jupyter-widgets/controls",
      "model_module_version": "1.2.0",
      "model_name": "ButtonModel",
      "state": {
       "button_style": "info",
       "description": "Click aquí para empezar entrenamiento",
       "layout": "IPY_MODEL_3174591f93a94cf29abaa10e4c445028",
       "style": "IPY_MODEL_b16b17026967418fa2d8828c416f3cbf",
       "tooltip": "Empieza el entrenamiento de acuerdo a los parámetros seleccionados"
      }
     },
     "88f807348a464dd3836d8804a445bed2": {
      "model_module": "@jupyter-widgets/base",
      "model_module_version": "1.0.0",
      "model_name": "LayoutModel",
      "state": {}
     },
     "890c5a96d32c4c538e40d443d695f918": {
      "model_module": "@jupyter-widgets/output",
      "model_module_version": "1.0.0",
      "model_name": "OutputModel",
      "state": {
       "layout": "IPY_MODEL_a0ce494806fb4a60851196bc50485bc2",
       "outputs": [
        {
         "name": "stdout",
         "output_type": "stream",
         "text": "Se encontrará el mejor modelo con K estados en el rango: [63, 86]\n"
        }
       ]
      }
     },
     "893f6cda02784ae7a735d459bb4d5e57": {
      "model_module": "@jupyter-widgets/output",
      "model_module_version": "1.0.0",
      "model_name": "OutputModel",
      "state": {
       "layout": "IPY_MODEL_51e89c8cc3174321a84b331d1184f724",
       "outputs": [
        {
         "name": "stdout",
         "output_type": "stream",
         "text": "Se realizará 3 iteracciones\n"
        }
       ]
      }
     },
     "89e777f3b34a4ec985c876a34ff9a856": {
      "model_module": "@jupyter-widgets/base",
      "model_module_version": "1.0.0",
      "model_name": "LayoutModel",
      "state": {}
     },
     "89ed5eda173b4babbcf48e8066374c6f": {
      "model_module": "@jupyter-widgets/controls",
      "model_module_version": "1.2.0",
      "model_name": "IntSliderModel",
      "state": {
       "layout": "IPY_MODEL_d8d647de7d7843f494d121623f80b5f1",
       "max": 70,
       "min": 40,
       "style": "IPY_MODEL_708ec192352f4e419527a1a5d8ee9997",
       "value": 70
      }
     },
     "8a1888d7092c43f29558178711cf593f": {
      "model_module": "@jupyter-widgets/base",
      "model_module_version": "1.0.0",
      "model_name": "LayoutModel",
      "state": {}
     },
     "8a4053ff99924919841f5277c70019c3": {
      "model_module": "@jupyter-widgets/controls",
      "model_module_version": "1.2.0",
      "model_name": "SliderStyleModel",
      "state": {
       "description_width": ""
      }
     },
     "8a8b8503e78f4c879ec16d07378dd7cb": {
      "model_module": "@jupyter-widgets/controls",
      "model_module_version": "1.2.0",
      "model_name": "SliderStyleModel",
      "state": {
       "description_width": ""
      }
     },
     "8b5d831ef5984c928e386924fd8a5185": {
      "model_module": "@jupyter-widgets/base",
      "model_module_version": "1.0.0",
      "model_name": "LayoutModel",
      "state": {}
     },
     "8b8d2fcc1ec14ca99ebf36e60af99af0": {
      "model_module": "@jupyter-widgets/controls",
      "model_module_version": "1.2.0",
      "model_name": "IntRangeSliderModel",
      "state": {
       "_model_name": "IntRangeSliderModel",
       "_view_name": "IntRangeSliderView",
       "layout": "IPY_MODEL_b56da5b7bb404823bbc6ab77a2b6d96e",
       "max": 70,
       "min": 40,
       "style": "IPY_MODEL_c476b3fbe3ca48da95faebfe26f024c9",
       "value": [
        47,
        62
       ]
      }
     },
     "8b96f8d7dcf84086a5be443506221893": {
      "model_module": "@jupyter-widgets/base",
      "model_module_version": "1.0.0",
      "model_name": "LayoutModel",
      "state": {}
     },
     "8c0dcec21060479ba03accb3eb567d66": {
      "model_module": "@jupyter-widgets/output",
      "model_module_version": "1.0.0",
      "model_name": "OutputModel",
      "state": {
       "layout": "IPY_MODEL_1ea970a35bfe48bb8113c80662101630",
       "outputs": [
        {
         "name": "stdout",
         "output_type": "stream",
         "text": "   Modelos seleccionados\nID                      \n0          EE. Quito.pkl\n"
        }
       ]
      }
     },
     "8c143f25ce8142c0890b18c732e4b4e5": {
      "model_module": "@jupyter-widgets/base",
      "model_module_version": "1.0.0",
      "model_name": "LayoutModel",
      "state": {}
     },
     "8c426bfeaaf84e29bc153958423f4dae": {
      "model_module": "@jupyter-widgets/controls",
      "model_module_version": "1.2.0",
      "model_name": "HBoxModel",
      "state": {
       "children": [
        "IPY_MODEL_d2a0fb8afd24461b87b46af141a4dc0f"
       ],
       "layout": "IPY_MODEL_350b7af27411477786ada1e63329091b"
      }
     },
     "8d83e1b14e764530a34f47c5bf484bf5": {
      "model_module": "@jupyter-widgets/controls",
      "model_module_version": "1.2.0",
      "model_name": "IntSliderModel",
      "state": {
       "layout": "IPY_MODEL_a4bcb2533b0e4e499fff34951acbe5a1",
       "max": 70,
       "min": 40,
       "style": "IPY_MODEL_8a8b8503e78f4c879ec16d07378dd7cb",
       "value": 70
      }
     },
     "8dd6f832073e40e4ade621c6ce995289": {
      "model_module": "@jupyter-widgets/base",
      "model_module_version": "1.0.0",
      "model_name": "LayoutModel",
      "state": {}
     },
     "8de8dc5c797d44c08b5b2cd8e3996a57": {
      "model_module": "@jupyter-widgets/controls",
      "model_module_version": "1.2.0",
      "model_name": "HBoxModel",
      "state": {
       "children": [
        "IPY_MODEL_e4c4505662514ecfa4e17d09025bcfd7"
       ],
       "layout": "IPY_MODEL_346d0557ae424569931731c623fd0cca"
      }
     },
     "8e39e48f81c94cd796dd7a9950abf05c": {
      "model_module": "@jupyter-widgets/base",
      "model_module_version": "1.0.0",
      "model_name": "LayoutModel",
      "state": {
       "width": "50%"
      }
     },
     "8ebc8e0448474eaabd3c5d270886e4fa": {
      "model_module": "@jupyter-widgets/controls",
      "model_module_version": "1.2.0",
      "model_name": "HBoxModel",
      "state": {
       "children": [
        "IPY_MODEL_09ffe29cd89c4a84a0d7ed358bcf90ff"
       ],
       "layout": "IPY_MODEL_725f5dda5f794673bf54589557c1907a"
      }
     },
     "8f54a6306cc941f7bc97ab9cab9d31a5": {
      "model_module": "@jupyter-widgets/output",
      "model_module_version": "1.0.0",
      "model_name": "OutputModel",
      "state": {
       "layout": "IPY_MODEL_055e7d2ff733472bad5379ee03695ec5",
       "outputs": [
        {
         "data": {
          "text/markdown": "**Modelos a entrenar:**",
          "text/plain": "<IPython.core.display.Markdown object>"
         },
         "metadata": {},
         "output_type": "display_data"
        },
        {
         "name": "stdout",
         "output_type": "stream",
         "text": "   Modelos seleccionados\nID                      \n0          EE. Quito.pkl\n"
        }
       ]
      }
     },
     "8f6dc28ba9a34c7eb5f40793de24cf14": {
      "model_module": "@jupyter-widgets/controls",
      "model_module_version": "1.2.0",
      "model_name": "HBoxModel",
      "state": {
       "children": [
        "IPY_MODEL_a81bf205729f46bc9c6ca43f04752e5e"
       ],
       "layout": "IPY_MODEL_4c1cae286c504163b8f1061e7f76e321"
      }
     },
     "8f7f785986d64cd39bc5b1162cbf94bf": {
      "model_module": "@jupyter-widgets/controls",
      "model_module_version": "1.2.0",
      "model_name": "ButtonStyleModel",
      "state": {}
     },
     "917a174829324bee8a8ac5e58ae2267c": {
      "model_module": "@jupyter-widgets/controls",
      "model_module_version": "1.2.0",
      "model_name": "SelectMultipleModel",
      "state": {
       "_options_labels": [
        "Bornes_P_Total.pkl",
        "EE. Quito - copia (2).pkl",
        "EE. Quito - copia (3).pkl",
        "EE. Quito - copia (4).pkl",
        "EE. Quito - copia (5).pkl",
        "EE. Quito - copia.pkl",
        "EE. Quito.pkl"
       ],
       "description": "Modelos: ",
       "disabled": true,
       "index": [
        0
       ],
       "layout": "IPY_MODEL_b454e68b04674d3eb187749faa04294b",
       "rows": 7,
       "style": "IPY_MODEL_fde622df0d8c4a269ac3121b452ec9b3"
      }
     },
     "91f5b8bb75f94ac39d526d0619396792": {
      "model_module": "@jupyter-widgets/base",
      "model_module_version": "1.0.0",
      "model_name": "LayoutModel",
      "state": {}
     },
     "9256367e359a4157b22975aaf276a532": {
      "model_module": "@jupyter-widgets/base",
      "model_module_version": "1.0.0",
      "model_name": "LayoutModel",
      "state": {}
     },
     "925d2e40c8e84609824fcb64d830171e": {
      "model_module": "@jupyter-widgets/base",
      "model_module_version": "1.0.0",
      "model_name": "LayoutModel",
      "state": {}
     },
     "92ac2fafab3f41a88145b0e98c2925b7": {
      "model_module": "@jupyter-widgets/base",
      "model_module_version": "1.0.0",
      "model_name": "LayoutModel",
      "state": {}
     },
     "932d4481b7ae41e890f70ef777f29c40": {
      "model_module": "@jupyter-widgets/base",
      "model_module_version": "1.0.0",
      "model_name": "LayoutModel",
      "state": {}
     },
     "93be31bff9bf46648cbf70956887ae31": {
      "model_module": "@jupyter-widgets/controls",
      "model_module_version": "1.2.0",
      "model_name": "SelectMultipleModel",
      "state": {
       "_options_labels": [
        "Bornes_P_Total.pkl",
        "EE. Quito.pkl"
       ],
       "description": "Modelos: ",
       "index": [
        1
       ],
       "layout": "IPY_MODEL_db2022a54e81487aa0e1eeb601e5edf4",
       "rows": 2,
       "style": "IPY_MODEL_9d5afc5243e34a62b6919c8f0b6e7749"
      }
     },
     "93c8b44c24df488a9744ff4b3dbafc85": {
      "model_module": "@jupyter-widgets/controls",
      "model_module_version": "1.2.0",
      "model_name": "HBoxModel",
      "state": {
       "children": [
        "IPY_MODEL_04b2ed769be7480d86ab297063598910"
       ],
       "layout": "IPY_MODEL_67ce76e51e7e43f592c9e02f01bd7a35"
      }
     },
     "93e568a821da4195bce2643707a64dfe": {
      "model_module": "@jupyter-widgets/controls",
      "model_module_version": "1.2.0",
      "model_name": "SelectMultipleModel",
      "state": {
       "_options_labels": [
        "Bornes_P_Total.pkl",
        "EE. Quito.pkl"
       ],
       "description": "A entrenar: ",
       "index": [
        0
       ],
       "layout": "IPY_MODEL_121116be3c2040afb1ec8fd1fbf0b085",
       "rows": 5,
       "style": "IPY_MODEL_805a8d3f0fcf4d708c04084d5ea57f71"
      }
     },
     "940b219536034dc3ba3530c23bad4303": {
      "model_module": "@jupyter-widgets/output",
      "model_module_version": "1.0.0",
      "model_name": "OutputModel",
      "state": {
       "layout": "IPY_MODEL_846d88348d574d73894bc57a0090267f",
       "outputs": [
        {
         "data": {
          "text/markdown": "**Modelos seleccionados:**",
          "text/plain": "<IPython.core.display.Markdown object>"
         },
         "metadata": {},
         "output_type": "display_data"
        },
        {
         "name": "stdout",
         "output_type": "stream",
         "text": "Empty DataFrame\nColumns: [Nombre]\nIndex: []\n"
        }
       ]
      }
     },
     "944123af4a954935923da6e3e1c639d1": {
      "model_module": "@jupyter-widgets/controls",
      "model_module_version": "1.2.0",
      "model_name": "SliderStyleModel",
      "state": {
       "description_width": ""
      }
     },
     "948eb734e88949889ded9bc113cecbdc": {
      "model_module": "@jupyter-widgets/base",
      "model_module_version": "1.0.0",
      "model_name": "LayoutModel",
      "state": {}
     },
     "9498765af1b9441bb79659b62a0f7716": {
      "model_module": "@jupyter-widgets/controls",
      "model_module_version": "1.2.0",
      "model_name": "HBoxModel",
      "state": {
       "children": [
        "IPY_MODEL_e95fef124b8f46bf908bd247077bf1f4"
       ],
       "layout": "IPY_MODEL_bbd81311dbee4656b4bba9f942ac3e5a"
      }
     },
     "94c7685328284604be9fa0d9f846020d": {
      "model_module": "@jupyter-widgets/controls",
      "model_module_version": "1.2.0",
      "model_name": "SliderStyleModel",
      "state": {
       "description_width": ""
      }
     },
     "94e46d5dc33e47b8a3cb25e511d0240b": {
      "model_module": "@jupyter-widgets/controls",
      "model_module_version": "1.2.0",
      "model_name": "SliderStyleModel",
      "state": {
       "description_width": ""
      }
     },
     "9529682d646c42d9b09e0690dff6c5f4": {
      "model_module": "@jupyter-widgets/controls",
      "model_module_version": "1.2.0",
      "model_name": "SelectMultipleModel",
      "state": {
       "_options_labels": [
        "Bornes_P_Total.pkl",
        "EE. Quito - copia (2).pkl",
        "EE. Quito - copia (3).pkl",
        "EE. Quito - copia (4).pkl",
        "EE. Quito - copia (5).pkl",
        "EE. Quito - copia.pkl",
        "EE. Quito.pkl"
       ],
       "description": "Modelos: ",
       "index": [
        0
       ],
       "layout": "IPY_MODEL_764e76951a974451bfe4a4d839558148",
       "rows": 10,
       "style": "IPY_MODEL_d53b57bb8845464db7eb3d1defaedd9d"
      }
     },
     "9561f819033f489bb1cd9bab8ff39a78": {
      "model_module": "@jupyter-widgets/controls",
      "model_module_version": "1.2.0",
      "model_name": "HBoxModel",
      "state": {
       "children": [
        "IPY_MODEL_38f80048a4cc40b4a66d79fc93102080"
       ],
       "layout": "IPY_MODEL_964814e6242348829fc9e064dc0fe2d6"
      }
     },
     "9594299a3bbe4e859acb2dd9e8868772": {
      "model_module": "@jupyter-widgets/controls",
      "model_module_version": "1.2.0",
      "model_name": "IntSliderModel",
      "state": {
       "layout": "IPY_MODEL_7d79378e79474a75a3b10bb673252157",
       "max": 120,
       "min": 75,
       "style": "IPY_MODEL_81f4f189518b4d76bf4685f7787d0f34",
       "value": 75
      }
     },
     "964034dead44439a9784e81d00d17de6": {
      "model_module": "@jupyter-widgets/base",
      "model_module_version": "1.0.0",
      "model_name": "LayoutModel",
      "state": {}
     },
     "964814e6242348829fc9e064dc0fe2d6": {
      "model_module": "@jupyter-widgets/base",
      "model_module_version": "1.0.0",
      "model_name": "LayoutModel",
      "state": {}
     },
     "968ff8d6bf244a3683c3a345c9a8ceb1": {
      "model_module": "@jupyter-widgets/controls",
      "model_module_version": "1.2.0",
      "model_name": "HBoxModel",
      "state": {
       "children": [
        "IPY_MODEL_d61a559aa54941179c7bb8694db365b6"
       ],
       "layout": "IPY_MODEL_655b5b5f3d5d4f2bbb8734d757c2e99a"
      }
     },
     "975ab7a90e60404082a8d35f463da135": {
      "model_module": "@jupyter-widgets/output",
      "model_module_version": "1.0.0",
      "model_name": "OutputModel",
      "state": {
       "layout": "IPY_MODEL_6bf2f47ae9be469ea3ae46fdf421b4ff",
       "outputs": [
        {
         "name": "stdout",
         "output_type": "stream",
         "text": "Se realizará 5 iteracciones\n"
        }
       ]
      }
     },
     "9767a8bd1e3f441ead11dffddec4bd99": {
      "model_module": "@jupyter-widgets/controls",
      "model_module_version": "1.2.0",
      "model_name": "HBoxModel",
      "state": {
       "children": [
        "IPY_MODEL_a8de8e88feb14535b6f87218eecd9792"
       ],
       "layout": "IPY_MODEL_86a0f8bd2cf94d3a88798481d651dddc"
      }
     },
     "977038ec9ae6450bb388e6ebe81abe13": {
      "model_module": "@jupyter-widgets/base",
      "model_module_version": "1.0.0",
      "model_name": "LayoutModel",
      "state": {}
     },
     "97a0cc90202746b085cfbdb0fb41a17d": {
      "model_module": "@jupyter-widgets/output",
      "model_module_version": "1.0.0",
      "model_name": "OutputModel",
      "state": {
       "layout": "IPY_MODEL_360143734a4f46e2be97de4bbf1a235e"
      }
     },
     "97cd4b638ca44bd9ad5fa6e7b359950b": {
      "model_module": "@jupyter-widgets/controls",
      "model_module_version": "1.2.0",
      "model_name": "HBoxModel",
      "state": {
       "children": [
        "IPY_MODEL_b0c66c69db8c41beaa3a65325e3453d1"
       ],
       "layout": "IPY_MODEL_5af0b2b4262b43a6939e91113eafecc5"
      }
     },
     "980919ae04854446b3da8d22eaf4f392": {
      "model_module": "@jupyter-widgets/output",
      "model_module_version": "1.0.0",
      "model_name": "OutputModel",
      "state": {
       "layout": "IPY_MODEL_c803b8bb67e64b8580f84f1db82eb1e5",
       "outputs": [
        {
         "name": "stdout",
         "output_type": "stream",
         "text": "Se realizará 4 iteracciones\n"
        }
       ]
      }
     },
     "9848c8ca654840a6a9720547b15a6aa0": {
      "model_module": "@jupyter-widgets/controls",
      "model_module_version": "1.2.0",
      "model_name": "SliderStyleModel",
      "state": {
       "description_width": ""
      }
     },
     "9866c13a5467482996035fcb1471c2a7": {
      "model_module": "@jupyter-widgets/controls",
      "model_module_version": "1.2.0",
      "model_name": "ButtonModel",
      "state": {
       "button_style": "info",
       "description": "Click aquí para empezar entrenamiento",
       "layout": "IPY_MODEL_4dbe1129c96443b9a7aadd60094b9cd6",
       "style": "IPY_MODEL_6a221dcdd8b3435aaec7b0aeae311a93",
       "tooltip": "Empieza el entrenamiento de acuerdo a los parámetros seleccionados"
      }
     },
     "990ee0518d394df599c50e5d25ae81c8": {
      "model_module": "@jupyter-widgets/base",
      "model_module_version": "1.0.0",
      "model_name": "LayoutModel",
      "state": {}
     },
     "998aa307fdeb4563857b28163aa4be1c": {
      "model_module": "@jupyter-widgets/controls",
      "model_module_version": "1.2.0",
      "model_name": "IntRangeSliderModel",
      "state": {
       "_model_name": "IntRangeSliderModel",
       "_view_name": "IntRangeSliderView",
       "layout": "IPY_MODEL_a18426e1d13843339a93da563223bbcf",
       "max": 120,
       "min": 40,
       "style": "IPY_MODEL_7f5d63370206467ab470eca85aa2cee9",
       "value": [
        55,
        110
       ]
      }
     },
     "99e5aa12bdb443e7bd88c851f6223b99": {
      "model_module": "@jupyter-widgets/controls",
      "model_module_version": "1.2.0",
      "model_name": "IntSliderModel",
      "state": {
       "layout": "IPY_MODEL_9c7955db468a42e194a65eb8323fd67c",
       "max": 10,
       "min": 1,
       "style": "IPY_MODEL_1c8685fe6bd54215ae6b7b1152c0dcc6",
       "value": 5
      }
     },
     "99e5bd82d96c4b569096b6ccb96d6fdb": {
      "model_module": "@jupyter-widgets/base",
      "model_module_version": "1.0.0",
      "model_name": "LayoutModel",
      "state": {}
     },
     "9a11a8df1a3d481ab6969cbffbb84785": {
      "model_module": "@jupyter-widgets/controls",
      "model_module_version": "1.2.0",
      "model_name": "SliderStyleModel",
      "state": {
       "description_width": ""
      }
     },
     "9a4ef181f1a440d09040b69f801a4e14": {
      "model_module": "@jupyter-widgets/output",
      "model_module_version": "1.0.0",
      "model_name": "OutputModel",
      "state": {
       "layout": "IPY_MODEL_a4d1cdb0fb2340d8ad9d6691d5c26f92",
       "outputs": [
        {
         "name": "stdout",
         "output_type": "stream",
         "text": "Se encontrará el mejor modelo con K estados en el rango: [62, 90]\n"
        }
       ]
      }
     },
     "9aa5722d61a74196ae2c50edc45c8a61": {
      "model_module": "@jupyter-widgets/base",
      "model_module_version": "1.0.0",
      "model_name": "LayoutModel",
      "state": {}
     },
     "9bae05407e4543089cca8873533ac7e6": {
      "model_module": "@jupyter-widgets/controls",
      "model_module_version": "1.2.0",
      "model_name": "SliderStyleModel",
      "state": {
       "description_width": ""
      }
     },
     "9c768297624f416fb592769632faa398": {
      "model_module": "@jupyter-widgets/controls",
      "model_module_version": "1.2.0",
      "model_name": "HBoxModel",
      "state": {
       "children": [
        "IPY_MODEL_d13a4dc56f984b368deabba824e62731"
       ],
       "layout": "IPY_MODEL_27006ed7465d496b903cb0318e48f40d"
      }
     },
     "9c7955db468a42e194a65eb8323fd67c": {
      "model_module": "@jupyter-widgets/base",
      "model_module_version": "1.0.0",
      "model_name": "LayoutModel",
      "state": {}
     },
     "9cbcc4e2583b41b1b91cc3dd50b114a2": {
      "model_module": "@jupyter-widgets/controls",
      "model_module_version": "1.2.0",
      "model_name": "HBoxModel",
      "state": {
       "children": [
        "IPY_MODEL_20cc0d556ec94ea49171f426a6ae772c"
       ],
       "layout": "IPY_MODEL_5b0d427e5bbf4352a2e939b6551c3dd7"
      }
     },
     "9d4a19c304ce448f9bbe4fa4711b04f3": {
      "model_module": "@jupyter-widgets/controls",
      "model_module_version": "1.2.0",
      "model_name": "ButtonModel",
      "state": {
       "button_style": "warning",
       "description": "Empezar entrenamiento",
       "layout": "IPY_MODEL_a55e60e271da430a8d9a083f0eb05a35",
       "style": "IPY_MODEL_dca431167a34487d91e437bd7e219a9f",
       "tooltip": "Empieza el entrenamiento de acuerdo a los parámetros anteriores"
      }
     },
     "9d5afc5243e34a62b6919c8f0b6e7749": {
      "model_module": "@jupyter-widgets/controls",
      "model_module_version": "1.2.0",
      "model_name": "DescriptionStyleModel",
      "state": {
       "description_width": ""
      }
     },
     "9d5cf75a3c9b41cca2993bdbc0623980": {
      "model_module": "@jupyter-widgets/base",
      "model_module_version": "1.0.0",
      "model_name": "LayoutModel",
      "state": {}
     },
     "9d7f2260fa624325886bbe2ace86f6fc": {
      "model_module": "@jupyter-widgets/output",
      "model_module_version": "1.0.0",
      "model_name": "OutputModel",
      "state": {
       "layout": "IPY_MODEL_7bf0238ba3c54cb2b48d74e8b4c2ba4c",
       "outputs": [
        {
         "data": {
          "text/markdown": "**Modelos a entrenar:**",
          "text/plain": "<IPython.core.display.Markdown object>"
         },
         "metadata": {},
         "output_type": "display_data"
        },
        {
         "name": "stdout",
         "output_type": "stream",
         "text": "   Modelos seleccionados\nID                      \n0          EE. Quito.pkl\n"
        }
       ]
      }
     },
     "9e317cfcf955469583e3d6f196b49e7b": {
      "model_module": "@jupyter-widgets/controls",
      "model_module_version": "1.2.0",
      "model_name": "SelectMultipleModel",
      "state": {
       "_options_labels": [
        "Bornes_P_Total.pkl",
        "EE. Quito.pkl"
       ],
       "description": "Fruits",
       "index": [
        0
       ],
       "layout": "IPY_MODEL_9fc0c2fb70104071a5264e9b42b79b93",
       "rows": 3,
       "style": "IPY_MODEL_e48cd46297414a2ea70120295778f59e"
      }
     },
     "9e7126120865474c86a7f02442d5543e": {
      "model_module": "@jupyter-widgets/controls",
      "model_module_version": "1.2.0",
      "model_name": "SliderStyleModel",
      "state": {
       "description_width": ""
      }
     },
     "9e98a255f01142ca8d68c518122d56e7": {
      "model_module": "@jupyter-widgets/controls",
      "model_module_version": "1.2.0",
      "model_name": "ButtonStyleModel",
      "state": {}
     },
     "9fc0c2fb70104071a5264e9b42b79b93": {
      "model_module": "@jupyter-widgets/base",
      "model_module_version": "1.0.0",
      "model_name": "LayoutModel",
      "state": {}
     },
     "9ffd6e7a2e5d4826899240f37f1adadd": {
      "model_module": "@jupyter-widgets/base",
      "model_module_version": "1.0.0",
      "model_name": "LayoutModel",
      "state": {}
     },
     "a0417e47da7047b6a9b18c62f513ceb2": {
      "model_module": "@jupyter-widgets/controls",
      "model_module_version": "1.2.0",
      "model_name": "SelectMultipleModel",
      "state": {
       "_options_labels": [
        "Bornes_P_Total.pkl",
        "EE. Quito.pkl"
       ],
       "description": "Seleccione",
       "index": [
        1
       ],
       "layout": "IPY_MODEL_a25ad1531e9149edb7ac80dadfe17a2e",
       "rows": 3,
       "style": "IPY_MODEL_00eea4329a244215aabf6dcd1dd31b86"
      }
     },
     "a0b57b4e5fb8406497b5451ba4cdbc99": {
      "model_module": "@jupyter-widgets/controls",
      "model_module_version": "1.2.0",
      "model_name": "SelectMultipleModel",
      "state": {
       "_options_labels": [
        "Bornes_P_Total.pkl",
        "EE. Quito - copia (2).pkl",
        "EE. Quito - copia (3).pkl",
        "EE. Quito - copia (4).pkl",
        "EE. Quito - copia (5).pkl",
        "EE. Quito - copia.pkl",
        "EE. Quito.pkl"
       ],
       "description": "Modelos: ",
       "index": [
        1,
        2,
        3,
        4,
        5
       ],
       "layout": "IPY_MODEL_3d030b2311ac4cca9a5c811c426b05de",
       "rows": 7,
       "style": "IPY_MODEL_3a493a8da41240d9a45addb37569ea04"
      }
     },
     "a0ce494806fb4a60851196bc50485bc2": {
      "model_module": "@jupyter-widgets/base",
      "model_module_version": "1.0.0",
      "model_name": "LayoutModel",
      "state": {}
     },
     "a0d7cd064f5c4b39b86681415402d199": {
      "model_module": "@jupyter-widgets/output",
      "model_module_version": "1.0.0",
      "model_name": "OutputModel",
      "state": {
       "layout": "IPY_MODEL_3697d5409799436ca66226ace9d48fd0",
       "outputs": [
        {
         "name": "stdout",
         "output_type": "stream",
         "text": "Se realizará 3 iteracciones\n"
        }
       ]
      }
     },
     "a0d88574a4b0431db5fcbea801aea666": {
      "model_module": "@jupyter-widgets/base",
      "model_module_version": "1.0.0",
      "model_name": "LayoutModel",
      "state": {}
     },
     "a0e35853223340988112c3b56b4820a7": {
      "model_module": "@jupyter-widgets/base",
      "model_module_version": "1.0.0",
      "model_name": "LayoutModel",
      "state": {}
     },
     "a0e4129a9ff04192bed5893c412033fb": {
      "model_module": "@jupyter-widgets/controls",
      "model_module_version": "1.2.0",
      "model_name": "HBoxModel",
      "state": {
       "children": [
        "IPY_MODEL_2136c8a98efc442489137b1172e7ef81"
       ],
       "layout": "IPY_MODEL_3e8e01131f0245f7abcae6914132d49c"
      }
     },
     "a0e459349a4d424886518f376b559d39": {
      "model_module": "@jupyter-widgets/base",
      "model_module_version": "1.0.0",
      "model_name": "LayoutModel",
      "state": {}
     },
     "a120db0f8fbd41cdb68583c89588a938": {
      "model_module": "@jupyter-widgets/base",
      "model_module_version": "1.0.0",
      "model_name": "LayoutModel",
      "state": {}
     },
     "a18426e1d13843339a93da563223bbcf": {
      "model_module": "@jupyter-widgets/base",
      "model_module_version": "1.0.0",
      "model_name": "LayoutModel",
      "state": {}
     },
     "a1db1c8a1a574cb9814b9e7c6c28486d": {
      "model_module": "@jupyter-widgets/base",
      "model_module_version": "1.0.0",
      "model_name": "LayoutModel",
      "state": {}
     },
     "a1e6b0cacceb4e70ac6c458c0a711f10": {
      "model_module": "@jupyter-widgets/controls",
      "model_module_version": "1.2.0",
      "model_name": "SelectMultipleModel",
      "state": {
       "description": "Modelos: ",
       "index": [],
       "layout": "IPY_MODEL_12b85740736941c695db326be9feb44a",
       "rows": 0,
       "style": "IPY_MODEL_b8c57214a4064a7f9f22e342fc1276af"
      }
     },
     "a1fb5661ef0242b4a0584236261e998f": {
      "model_module": "@jupyter-widgets/controls",
      "model_module_version": "1.2.0",
      "model_name": "SliderStyleModel",
      "state": {
       "description_width": ""
      }
     },
     "a2011f0082ec4e3998a43fdbe12a15fb": {
      "model_module": "@jupyter-widgets/base",
      "model_module_version": "1.0.0",
      "model_name": "LayoutModel",
      "state": {}
     },
     "a25ad1531e9149edb7ac80dadfe17a2e": {
      "model_module": "@jupyter-widgets/base",
      "model_module_version": "1.0.0",
      "model_name": "LayoutModel",
      "state": {}
     },
     "a2612ea22a074810824757e514d32dcf": {
      "model_module": "@jupyter-widgets/base",
      "model_module_version": "1.0.0",
      "model_name": "LayoutModel",
      "state": {}
     },
     "a30ae83127b9403a8799ad91de7ce842": {
      "model_module": "@jupyter-widgets/base",
      "model_module_version": "1.0.0",
      "model_name": "LayoutModel",
      "state": {}
     },
     "a3b44891fab5493294c83c1716f951f6": {
      "model_module": "@jupyter-widgets/controls",
      "model_module_version": "1.2.0",
      "model_name": "SliderStyleModel",
      "state": {
       "description_width": ""
      }
     },
     "a4405537b91b4285b2d74e0a09c5b26a": {
      "model_module": "@jupyter-widgets/base",
      "model_module_version": "1.0.0",
      "model_name": "LayoutModel",
      "state": {}
     },
     "a443ad6e66d24c0bb1a87043f3e4f4af": {
      "model_module": "@jupyter-widgets/controls",
      "model_module_version": "1.2.0",
      "model_name": "HBoxModel",
      "state": {
       "children": [
        "IPY_MODEL_c6c46e31ad354cd0b9f7e92ff7638cb2",
        "IPY_MODEL_72b58945f69146afa766bdf11622dc38"
       ],
       "layout": "IPY_MODEL_977038ec9ae6450bb388e6ebe81abe13"
      }
     },
     "a44514447b8543e498a088059d09cd21": {
      "model_module": "@jupyter-widgets/controls",
      "model_module_version": "1.2.0",
      "model_name": "HBoxModel",
      "state": {
       "children": [
        "IPY_MODEL_8866d37e91b44c0eb84b5e22b3dd324d"
       ],
       "layout": "IPY_MODEL_4c8ad501d0204b7a815143e85f135a1b"
      }
     },
     "a4bcb2533b0e4e499fff34951acbe5a1": {
      "model_module": "@jupyter-widgets/base",
      "model_module_version": "1.0.0",
      "model_name": "LayoutModel",
      "state": {}
     },
     "a4d1cdb0fb2340d8ad9d6691d5c26f92": {
      "model_module": "@jupyter-widgets/base",
      "model_module_version": "1.0.0",
      "model_name": "LayoutModel",
      "state": {}
     },
     "a545b9a79bb34ee68836f21518665200": {
      "model_module": "@jupyter-widgets/output",
      "model_module_version": "1.0.0",
      "model_name": "OutputModel",
      "state": {
       "layout": "IPY_MODEL_265023822199452e8cd929cb4caa5875",
       "outputs": [
        {
         "name": "stdout",
         "output_type": "stream",
         "text": "Se encontrará el mejor modelo con K estados en el rango: [66, 90]\n"
        }
       ]
      }
     },
     "a55e60e271da430a8d9a083f0eb05a35": {
      "model_module": "@jupyter-widgets/base",
      "model_module_version": "1.0.0",
      "model_name": "LayoutModel",
      "state": {
       "flex": "1 1 0%",
       "width": "auto"
      }
     },
     "a5aff036ebcb43ec8ae91c4865fdb97c": {
      "model_module": "@jupyter-widgets/controls",
      "model_module_version": "1.2.0",
      "model_name": "ButtonModel",
      "state": {
       "button_style": "info",
       "description": "Click aquí para empezar entrenamiento",
       "layout": "IPY_MODEL_803b1347347f49b3a3593896890fdc3e",
       "style": "IPY_MODEL_e6656d89cb4a44f58593df7faaf89fda",
       "tooltip": "Empieza el entrenamiento de acuerdo a los parámetros seleccionados"
      }
     },
     "a6945d7c30144ae5aced0e8633d01853": {
      "model_module": "@jupyter-widgets/controls",
      "model_module_version": "1.2.0",
      "model_name": "DescriptionStyleModel",
      "state": {
       "description_width": ""
      }
     },
     "a6ca7c27a7dc43edb19c0d2882a77dbc": {
      "model_module": "@jupyter-widgets/base",
      "model_module_version": "1.0.0",
      "model_name": "LayoutModel",
      "state": {}
     },
     "a6fb19849aa14da6aa2e32117deea724": {
      "model_module": "@jupyter-widgets/base",
      "model_module_version": "1.0.0",
      "model_name": "LayoutModel",
      "state": {}
     },
     "a7536e53268b4e52b04bb8464d78acc3": {
      "model_module": "@jupyter-widgets/controls",
      "model_module_version": "1.2.0",
      "model_name": "SliderStyleModel",
      "state": {
       "description_width": ""
      }
     },
     "a767666103f64acf8aa43f74c41e2734": {
      "model_module": "@jupyter-widgets/controls",
      "model_module_version": "1.2.0",
      "model_name": "SliderStyleModel",
      "state": {
       "description_width": ""
      }
     },
     "a78897c33fdc45cd85b23f352f226a66": {
      "model_module": "@jupyter-widgets/controls",
      "model_module_version": "1.2.0",
      "model_name": "SelectMultipleModel",
      "state": {
       "_options_labels": [
        "Bornes_P_Total.pkl",
        "EE. Quito.pkl"
       ],
       "description": "Seleccione: \n(Presione ctrl + shift para seleccionar más de un item ) ",
       "index": [
        0
       ],
       "layout": "IPY_MODEL_43f6be88fe1247b0bc75ae19956826f1",
       "rows": 5,
       "style": "IPY_MODEL_5e8fcfada1794bb1883fd22c66767f95"
      }
     },
     "a79ebcbf2ea84cc7a0d9ac80853e21d0": {
      "model_module": "@jupyter-widgets/controls",
      "model_module_version": "1.2.0",
      "model_name": "HBoxModel",
      "state": {
       "children": [
        "IPY_MODEL_3b43e37195f14ba384b449db23784ab8"
       ],
       "layout": "IPY_MODEL_2a4ec666277c4db094de33d4f400aad7"
      }
     },
     "a7ee89efb636469782cb904662c86019": {
      "model_module": "@jupyter-widgets/base",
      "model_module_version": "1.0.0",
      "model_name": "LayoutModel",
      "state": {}
     },
     "a81bf205729f46bc9c6ca43f04752e5e": {
      "model_module": "@jupyter-widgets/controls",
      "model_module_version": "1.2.0",
      "model_name": "IntSliderModel",
      "state": {
       "layout": "IPY_MODEL_acf4e23df257473d88e70d553e6af117",
       "max": 10,
       "min": 1,
       "style": "IPY_MODEL_b2197d8dd26044678f34a914a14490df",
       "value": 3
      }
     },
     "a822a7776aea4d5d8524d26aac10ab04": {
      "model_module": "@jupyter-widgets/controls",
      "model_module_version": "1.2.0",
      "model_name": "IntSliderModel",
      "state": {
       "layout": "IPY_MODEL_ca663aa7ef3c481ebb897ad0bdac5134",
       "max": 70,
       "min": 40,
       "style": "IPY_MODEL_4833727bed62476eb4bc64ed5b694b54",
       "value": 70
      }
     },
     "a857ac1c30474caf92cad6dca5c21c83": {
      "model_module": "@jupyter-widgets/controls",
      "model_module_version": "1.2.0",
      "model_name": "DescriptionStyleModel",
      "state": {
       "description_width": ""
      }
     },
     "a8de8e88feb14535b6f87218eecd9792": {
      "model_module": "@jupyter-widgets/controls",
      "model_module_version": "1.2.0",
      "model_name": "SelectMultipleModel",
      "state": {
       "_options_labels": [
        "Bornes_P_Total.pkl",
        "EE. Quito - copia (2).pkl",
        "EE. Quito - copia (3).pkl",
        "EE. Quito - copia (4).pkl",
        "EE. Quito - copia (5).pkl",
        "EE. Quito - copia.pkl",
        "EE. Quito.pkl"
       ],
       "description": "Modelos: ",
       "index": [
        0
       ],
       "layout": "IPY_MODEL_c54ed4b0b81748fd8e5aeaf6dfd3b489",
       "rows": 7,
       "style": "IPY_MODEL_55e20efdc19e411eafe58a009309f917"
      }
     },
     "a90694331d404e7cb8a20ed4c54b7440": {
      "model_module": "@jupyter-widgets/controls",
      "model_module_version": "1.2.0",
      "model_name": "SliderStyleModel",
      "state": {
       "description_width": ""
      }
     },
     "a957662f034342f196c1b1603b3d6433": {
      "model_module": "@jupyter-widgets/base",
      "model_module_version": "1.0.0",
      "model_name": "LayoutModel",
      "state": {}
     },
     "a9b0e2796fae441f863cf725f306e3d6": {
      "model_module": "@jupyter-widgets/base",
      "model_module_version": "1.0.0",
      "model_name": "LayoutModel",
      "state": {}
     },
     "a9f99501c6f543c087a5d0c6e0aa44fc": {
      "model_module": "@jupyter-widgets/controls",
      "model_module_version": "1.2.0",
      "model_name": "SliderStyleModel",
      "state": {
       "description_width": ""
      }
     },
     "aa45ac45101844c0ab14073417581e34": {
      "model_module": "@jupyter-widgets/controls",
      "model_module_version": "1.2.0",
      "model_name": "HBoxModel",
      "state": {
       "children": [
        "IPY_MODEL_301697a465d247bb8f52f2e1c2d1c5f6"
       ],
       "layout": "IPY_MODEL_df07fc6db7cd419ea95e636a50384030"
      }
     },
     "aa4b9bc53ff84718a55226bfdc862bc8": {
      "model_module": "@jupyter-widgets/controls",
      "model_module_version": "1.2.0",
      "model_name": "ButtonStyleModel",
      "state": {}
     },
     "aa854e40ba6746f09b23caed4e098ad0": {
      "model_module": "@jupyter-widgets/base",
      "model_module_version": "1.0.0",
      "model_name": "LayoutModel",
      "state": {
       "width": "50%"
      }
     },
     "aaa574cf560d40e7ad34cf80e04aefbf": {
      "model_module": "@jupyter-widgets/controls",
      "model_module_version": "1.2.0",
      "model_name": "SelectMultipleModel",
      "state": {
       "_options_labels": [
        "Bornes_P_Total.pkl",
        "EE. Quito - copia (2).pkl",
        "EE. Quito - copia (3).pkl",
        "EE. Quito - copia (4).pkl",
        "EE. Quito - copia (5).pkl",
        "EE. Quito - copia.pkl",
        "EE. Quito.pkl"
       ],
       "description": "Modelos: ",
       "index": [
        0
       ],
       "layout": "IPY_MODEL_788aaba1036942ea9a4da40c74ec9191",
       "rows": 7,
       "style": "IPY_MODEL_fdb2b10e80cf48f191fa715abe301b82"
      }
     },
     "aabdc55868a940618466d7e0834d6761": {
      "model_module": "@jupyter-widgets/base",
      "model_module_version": "1.0.0",
      "model_name": "LayoutModel",
      "state": {}
     },
     "aae89ef7a7c94d7aac33707558f8b785": {
      "model_module": "@jupyter-widgets/controls",
      "model_module_version": "1.2.0",
      "model_name": "HBoxModel",
      "state": {
       "children": [
        "IPY_MODEL_852c469e30b74116aa8b1f233080e697"
       ],
       "layout": "IPY_MODEL_87e5533d41db4471a3ee63e6089aa3e1"
      }
     },
     "aaf625a9008643fd8cfa8a405028d2a6": {
      "model_module": "@jupyter-widgets/base",
      "model_module_version": "1.0.0",
      "model_name": "LayoutModel",
      "state": {}
     },
     "ab676e7810bf4d638f934d79ed6e37aa": {
      "model_module": "@jupyter-widgets/base",
      "model_module_version": "1.0.0",
      "model_name": "LayoutModel",
      "state": {}
     },
     "abcc1505781d4f32b0c344b49f6d5c64": {
      "model_module": "@jupyter-widgets/base",
      "model_module_version": "1.0.0",
      "model_name": "LayoutModel",
      "state": {}
     },
     "ac04dfd9b7cc45b5b2ba89d0f7fc422c": {
      "model_module": "@jupyter-widgets/base",
      "model_module_version": "1.0.0",
      "model_name": "LayoutModel",
      "state": {}
     },
     "ac1ce262599f4ef08a82f01419a62dd7": {
      "model_module": "@jupyter-widgets/base",
      "model_module_version": "1.0.0",
      "model_name": "LayoutModel",
      "state": {}
     },
     "ac474aa02bac44d087fba625ba0f4b0d": {
      "model_module": "@jupyter-widgets/controls",
      "model_module_version": "1.2.0",
      "model_name": "SliderStyleModel",
      "state": {
       "description_width": ""
      }
     },
     "ac8011e3a4cf4c2aa48f22522676550e": {
      "model_module": "@jupyter-widgets/base",
      "model_module_version": "1.0.0",
      "model_name": "LayoutModel",
      "state": {}
     },
     "ac810c3fad414e269c7bfc769ebd56c6": {
      "model_module": "@jupyter-widgets/base",
      "model_module_version": "1.0.0",
      "model_name": "LayoutModel",
      "state": {}
     },
     "acbc30f0214e49358aa042532d18ab38": {
      "model_module": "@jupyter-widgets/controls",
      "model_module_version": "1.2.0",
      "model_name": "DescriptionStyleModel",
      "state": {
       "description_width": ""
      }
     },
     "acd150f5aeed423b8ef450d2efad1204": {
      "model_module": "@jupyter-widgets/controls",
      "model_module_version": "1.2.0",
      "model_name": "HBoxModel",
      "state": {
       "children": [
        "IPY_MODEL_01a4355366ed417987fe848ede391c36"
       ],
       "layout": "IPY_MODEL_b6a9e94735624a92b2eadf0c8609e4f3"
      }
     },
     "acf4e23df257473d88e70d553e6af117": {
      "model_module": "@jupyter-widgets/base",
      "model_module_version": "1.0.0",
      "model_name": "LayoutModel",
      "state": {}
     },
     "ad20d5c3007444638c22398e0011e3c3": {
      "model_module": "@jupyter-widgets/controls",
      "model_module_version": "1.2.0",
      "model_name": "IntSliderModel",
      "state": {
       "layout": "IPY_MODEL_a0e35853223340988112c3b56b4820a7",
       "max": 10,
       "min": 1,
       "style": "IPY_MODEL_33282e49ee504fa3a248b8217dbe807d",
       "value": 5
      }
     },
     "adac70c5fccf42c5a45aa479a16a6289": {
      "model_module": "@jupyter-widgets/controls",
      "model_module_version": "1.2.0",
      "model_name": "IntSliderModel",
      "state": {
       "layout": "IPY_MODEL_5ea78ea0ed43408ab5c057f4eab64bc1",
       "max": 70,
       "min": 40,
       "style": "IPY_MODEL_7a7f8408ff9645e395c90dcc0a73009e",
       "value": 70
      }
     },
     "adb28b16dc22455e967587bdf11286b8": {
      "model_module": "@jupyter-widgets/base",
      "model_module_version": "1.0.0",
      "model_name": "LayoutModel",
      "state": {}
     },
     "adcad3858cd541b69e8745a522fb0c47": {
      "model_module": "@jupyter-widgets/controls",
      "model_module_version": "1.2.0",
      "model_name": "ButtonModel",
      "state": {
       "button_style": "info",
       "description": "Click aquí para empezar entrenamiento",
       "layout": "IPY_MODEL_ea8541232d704729850924cf36443a7c",
       "style": "IPY_MODEL_64312acc11894dae922c65f7a415fda2",
       "tooltip": "Empieza el entrenamiento de acuerdo a los parámetros seleccionados"
      }
     },
     "adf4bb7c441d46a68608f4bd03fc9699": {
      "model_module": "@jupyter-widgets/controls",
      "model_module_version": "1.2.0",
      "model_name": "ButtonStyleModel",
      "state": {}
     },
     "ae4dc6dc0420444083c39f6c77c03795": {
      "model_module": "@jupyter-widgets/controls",
      "model_module_version": "1.2.0",
      "model_name": "HBoxModel",
      "state": {
       "children": [
        "IPY_MODEL_706d4265b050422fae154469173601eb"
       ],
       "layout": "IPY_MODEL_4bf56ab8b3dd4bbcb14fd22d3728a5d4"
      }
     },
     "ae99ffb7c8d14b0cbfd2e3e317e7d222": {
      "model_module": "@jupyter-widgets/controls",
      "model_module_version": "1.2.0",
      "model_name": "HBoxModel",
      "state": {
       "children": [
        "IPY_MODEL_cdf5077343e44f08ab853134e34716c1"
       ],
       "layout": "IPY_MODEL_69c48d4315c94ff488557c9ce898db03"
      }
     },
     "af66d140de0645ac93932fe37f052b0f": {
      "model_module": "@jupyter-widgets/controls",
      "model_module_version": "1.2.0",
      "model_name": "HBoxModel",
      "state": {
       "children": [
        "IPY_MODEL_1d3216ec87c949a19ed86bc40c1ed8a4"
       ],
       "layout": "IPY_MODEL_7a43d9cfe5a4479ca4ef80cdd62374f6"
      }
     },
     "af7af8b8bfa44b1fa3287a938e2129f4": {
      "model_module": "@jupyter-widgets/base",
      "model_module_version": "1.0.0",
      "model_name": "LayoutModel",
      "state": {}
     },
     "afb5e3a502be4032af351a5466f87d11": {
      "model_module": "@jupyter-widgets/controls",
      "model_module_version": "1.2.0",
      "model_name": "SelectMultipleModel",
      "state": {
       "_options_labels": [
        "Bornes_P_Total.pkl",
        "EE. Quito - copia (2).pkl",
        "EE. Quito - copia (3).pkl",
        "EE. Quito - copia (4).pkl",
        "EE. Quito - copia (5).pkl",
        "EE. Quito - copia.pkl",
        "EE. Quito.pkl"
       ],
       "description": "Modelos: ",
       "index": [
        0,
        1,
        2,
        3
       ],
       "layout": "IPY_MODEL_7b3781203b084935819830583997ac44",
       "rows": 7,
       "style": "IPY_MODEL_acbc30f0214e49358aa042532d18ab38"
      }
     },
     "b03bcd43222f4c9a94211d74e00118e8": {
      "model_module": "@jupyter-widgets/controls",
      "model_module_version": "1.2.0",
      "model_name": "HBoxModel",
      "state": {
       "children": [
        "IPY_MODEL_82474cd1449c45bb974b01e7a20606f3"
       ],
       "layout": "IPY_MODEL_f2d3796ab5ac4360a2f2a3ac98510853"
      }
     },
     "b0a1341702134c4ead9b1deef43f3f64": {
      "model_module": "@jupyter-widgets/controls",
      "model_module_version": "1.2.0",
      "model_name": "DescriptionStyleModel",
      "state": {
       "description_width": ""
      }
     },
     "b0c66c69db8c41beaa3a65325e3453d1": {
      "model_module": "@jupyter-widgets/controls",
      "model_module_version": "1.2.0",
      "model_name": "IntSliderModel",
      "state": {
       "layout": "IPY_MODEL_db126260749e47e39447ab65b79e5843",
       "max": 10,
       "min": 1,
       "style": "IPY_MODEL_5b5cd5c42b9c4c908f64c0d6f8de69aa",
       "value": 3
      }
     },
     "b16b17026967418fa2d8828c416f3cbf": {
      "model_module": "@jupyter-widgets/controls",
      "model_module_version": "1.2.0",
      "model_name": "ButtonStyleModel",
      "state": {}
     },
     "b2197d8dd26044678f34a914a14490df": {
      "model_module": "@jupyter-widgets/controls",
      "model_module_version": "1.2.0",
      "model_name": "SliderStyleModel",
      "state": {
       "description_width": ""
      }
     },
     "b27ec388514243e4bcb702130a72fa5f": {
      "model_module": "@jupyter-widgets/controls",
      "model_module_version": "1.2.0",
      "model_name": "HBoxModel",
      "state": {
       "children": [
        "IPY_MODEL_8725b831850c492cb000cb24fdf0a0dd"
       ],
       "layout": "IPY_MODEL_e82bddc06b774d2fa6f8fb0bda473e17"
      }
     },
     "b2bc46c86fc94ae89a494fd2afad8a43": {
      "model_module": "@jupyter-widgets/controls",
      "model_module_version": "1.2.0",
      "model_name": "HBoxModel",
      "state": {
       "children": [
        "IPY_MODEL_c1576f16956a431a8c1f9fa9b5e1649f"
       ],
       "layout": "IPY_MODEL_6d7ff740e0944ec5ae686ff18abaab3e"
      }
     },
     "b2c96c97fd164171a88a42c6edaa4392": {
      "model_module": "@jupyter-widgets/base",
      "model_module_version": "1.0.0",
      "model_name": "LayoutModel",
      "state": {}
     },
     "b394ece677c348e4b5937086d5253566": {
      "model_module": "@jupyter-widgets/controls",
      "model_module_version": "1.2.0",
      "model_name": "IntSliderModel",
      "state": {
       "layout": "IPY_MODEL_a2612ea22a074810824757e514d32dcf",
       "max": 120,
       "min": 75,
       "style": "IPY_MODEL_60192cace82a48ea9cc634fdfb9ffbaf",
       "value": 75
      }
     },
     "b3ba73500a5d463986559eb2c6a7e44d": {
      "model_module": "@jupyter-widgets/controls",
      "model_module_version": "1.2.0",
      "model_name": "SliderStyleModel",
      "state": {
       "description_width": ""
      }
     },
     "b3f05defd329444085bf27a635bb91bd": {
      "model_module": "@jupyter-widgets/base",
      "model_module_version": "1.0.0",
      "model_name": "LayoutModel",
      "state": {}
     },
     "b454e68b04674d3eb187749faa04294b": {
      "model_module": "@jupyter-widgets/base",
      "model_module_version": "1.0.0",
      "model_name": "LayoutModel",
      "state": {}
     },
     "b48b38cafd504560ab1e39acfdbb657d": {
      "model_module": "@jupyter-widgets/controls",
      "model_module_version": "1.2.0",
      "model_name": "SliderStyleModel",
      "state": {
       "description_width": ""
      }
     },
     "b4eb7590c6a74021b81f22570eb162f0": {
      "model_module": "@jupyter-widgets/base",
      "model_module_version": "1.0.0",
      "model_name": "LayoutModel",
      "state": {}
     },
     "b512856a73cb4bf0bc30463c4e0b141e": {
      "model_module": "@jupyter-widgets/controls",
      "model_module_version": "1.2.0",
      "model_name": "HBoxModel",
      "state": {
       "children": [
        "IPY_MODEL_0a6b9dc3a7434eeda5ae6fda814b174a"
       ],
       "layout": "IPY_MODEL_bf9da50dfaee4ea38f1858977c0bc912"
      }
     },
     "b54b885a3db941bab98eb422bf21cf65": {
      "model_module": "@jupyter-widgets/base",
      "model_module_version": "1.0.0",
      "model_name": "LayoutModel",
      "state": {}
     },
     "b56da5b7bb404823bbc6ab77a2b6d96e": {
      "model_module": "@jupyter-widgets/base",
      "model_module_version": "1.0.0",
      "model_name": "LayoutModel",
      "state": {}
     },
     "b5bdb7a374d84984994388d734d93019": {
      "model_module": "@jupyter-widgets/controls",
      "model_module_version": "1.2.0",
      "model_name": "HBoxModel",
      "state": {
       "children": [
        "IPY_MODEL_84a4a543768e4a22ac3a868d2e2d76d8"
       ],
       "layout": "IPY_MODEL_925d2e40c8e84609824fcb64d830171e"
      }
     },
     "b69d43197ea141a58b4459a880fa3047": {
      "model_module": "@jupyter-widgets/controls",
      "model_module_version": "1.2.0",
      "model_name": "DescriptionStyleModel",
      "state": {
       "description_width": ""
      }
     },
     "b6a9e94735624a92b2eadf0c8609e4f3": {
      "model_module": "@jupyter-widgets/base",
      "model_module_version": "1.0.0",
      "model_name": "LayoutModel",
      "state": {}
     },
     "b6b8c2fbdd9147599944295a22f575d2": {
      "model_module": "@jupyter-widgets/base",
      "model_module_version": "1.0.0",
      "model_name": "LayoutModel",
      "state": {}
     },
     "b7056c51638a49d08efba727b4dd2f5e": {
      "model_module": "@jupyter-widgets/base",
      "model_module_version": "1.0.0",
      "model_name": "LayoutModel",
      "state": {}
     },
     "b71d0ba00daa4ae8a7351ca9614341fd": {
      "model_module": "@jupyter-widgets/base",
      "model_module_version": "1.0.0",
      "model_name": "LayoutModel",
      "state": {}
     },
     "b756987281814546b09ed621f9ffa160": {
      "model_module": "@jupyter-widgets/controls",
      "model_module_version": "1.2.0",
      "model_name": "SliderStyleModel",
      "state": {
       "description_width": ""
      }
     },
     "b75e9911c66d4c83a2e8236b271ececf": {
      "model_module": "@jupyter-widgets/controls",
      "model_module_version": "1.2.0",
      "model_name": "HBoxModel",
      "state": {
       "children": [
        "IPY_MODEL_e8bacdb63cb34d8d8f8b4de7e86226b9"
       ],
       "layout": "IPY_MODEL_152206b0d6624a3fa7ab6d166ed2a3b3"
      }
     },
     "b7adebed091a454a97dd1fbe951c7e09": {
      "model_module": "@jupyter-widgets/controls",
      "model_module_version": "1.2.0",
      "model_name": "DescriptionStyleModel",
      "state": {
       "description_width": ""
      }
     },
     "b7c7e2d113714894a4b7c6f906d73a5e": {
      "model_module": "@jupyter-widgets/base",
      "model_module_version": "1.0.0",
      "model_name": "LayoutModel",
      "state": {}
     },
     "b83aefeb830b4369ab4c97f5920e07aa": {
      "model_module": "@jupyter-widgets/output",
      "model_module_version": "1.0.0",
      "model_name": "OutputModel",
      "state": {
       "layout": "IPY_MODEL_c2371bb8d09c438aac13dab40261266f",
       "outputs": [
        {
         "name": "stdout",
         "output_type": "stream",
         "text": "Se realizará 4 iteracciones\n"
        }
       ]
      }
     },
     "b8c57214a4064a7f9f22e342fc1276af": {
      "model_module": "@jupyter-widgets/controls",
      "model_module_version": "1.2.0",
      "model_name": "DescriptionStyleModel",
      "state": {
       "description_width": ""
      }
     },
     "b9c7b2b2e54449a8895a33464dc1b71f": {
      "model_module": "@jupyter-widgets/controls",
      "model_module_version": "1.2.0",
      "model_name": "SelectMultipleModel",
      "state": {
       "_options_labels": [
        "Bornes_P_Total.pkl",
        "EE. Quito - copia (2).pkl",
        "EE. Quito - copia (3).pkl",
        "EE. Quito - copia (4).pkl",
        "EE. Quito - copia (5).pkl",
        "EE. Quito - copia.pkl",
        "EE. Quito.pkl"
       ],
       "description": "Modelos: ",
       "index": [
        0
       ],
       "layout": "IPY_MODEL_030ca1569a3f43e480056dccaf0831e3",
       "rows": 7,
       "style": "IPY_MODEL_a6945d7c30144ae5aced0e8633d01853"
      }
     },
     "b9e7e0364f274b3a9e05329b550f8dd9": {
      "model_module": "@jupyter-widgets/controls",
      "model_module_version": "1.2.0",
      "model_name": "SliderStyleModel",
      "state": {
       "description_width": ""
      }
     },
     "ba07a44249dd46e8b7bdd609e28c6c8a": {
      "model_module": "@jupyter-widgets/controls",
      "model_module_version": "1.2.0",
      "model_name": "HBoxModel",
      "state": {
       "children": [
        "IPY_MODEL_58e4cabfd2fe4be4baa1444f1ffe108a"
       ],
       "layout": "IPY_MODEL_296f8a1871e6431a9ed04895546e6036"
      }
     },
     "ba0a77895c8d45fd97615f24a06b4fc8": {
      "model_module": "@jupyter-widgets/controls",
      "model_module_version": "1.2.0",
      "model_name": "ButtonStyleModel",
      "state": {}
     },
     "ba50e66fa6234784b5a4ccf9876bcaed": {
      "model_module": "@jupyter-widgets/base",
      "model_module_version": "1.0.0",
      "model_name": "LayoutModel",
      "state": {}
     },
     "ba63b7f8f55c42ea95335735d3c67ad3": {
      "model_module": "@jupyter-widgets/base",
      "model_module_version": "1.0.0",
      "model_name": "LayoutModel",
      "state": {}
     },
     "ba769896b291427e818ce257f9ef283b": {
      "model_module": "@jupyter-widgets/controls",
      "model_module_version": "1.2.0",
      "model_name": "IntRangeSliderModel",
      "state": {
       "_model_name": "IntRangeSliderModel",
       "_view_name": "IntRangeSliderView",
       "layout": "IPY_MODEL_81b8d630add6461db6fb4cd899384e23",
       "max": 120,
       "min": 40,
       "style": "IPY_MODEL_83fd220f718c4807851de3d0d2cf57be",
       "value": [
        70,
        75
       ]
      }
     },
     "baab04313db54f0288d9aa161a48e456": {
      "model_module": "@jupyter-widgets/controls",
      "model_module_version": "1.2.0",
      "model_name": "HBoxModel",
      "state": {
       "children": [
        "IPY_MODEL_9d4a19c304ce448f9bbe4fa4711b04f3"
       ],
       "layout": "IPY_MODEL_09b8068293c14e9bb721faf68286bf28"
      }
     },
     "bbc688b64d1e43c28fe909c745faec79": {
      "model_module": "@jupyter-widgets/controls",
      "model_module_version": "1.2.0",
      "model_name": "IntRangeSliderModel",
      "state": {
       "_model_name": "IntRangeSliderModel",
       "_view_name": "IntRangeSliderView",
       "layout": "IPY_MODEL_ce0e260f7b884f339e36789948e8d5f8",
       "max": 120,
       "min": 40,
       "style": "IPY_MODEL_3f6cc1f096284d76aea7c48b843cb015",
       "value": [
        55,
        110
       ]
      }
     },
     "bbcc9ab423bc46738e36f7f72a955ce8": {
      "model_module": "@jupyter-widgets/base",
      "model_module_version": "1.0.0",
      "model_name": "LayoutModel",
      "state": {}
     },
     "bbd81311dbee4656b4bba9f942ac3e5a": {
      "model_module": "@jupyter-widgets/base",
      "model_module_version": "1.0.0",
      "model_name": "LayoutModel",
      "state": {}
     },
     "bbe4bddacbe34694abea44784c878caa": {
      "model_module": "@jupyter-widgets/controls",
      "model_module_version": "1.2.0",
      "model_name": "HBoxModel",
      "state": {
       "children": [
        "IPY_MODEL_08fc5a3b037844fb801623dc731c014b"
       ],
       "layout": "IPY_MODEL_e7f3feffaef74a18a4243d1ce5096550"
      }
     },
     "bcfafffc399c48db9b5e65bde79bde05": {
      "model_module": "@jupyter-widgets/controls",
      "model_module_version": "1.2.0",
      "model_name": "SliderStyleModel",
      "state": {
       "description_width": ""
      }
     },
     "bd7e424a2bf240f789d0f6b4a225ec64": {
      "model_module": "@jupyter-widgets/controls",
      "model_module_version": "1.2.0",
      "model_name": "SelectMultipleModel",
      "state": {
       "_options_labels": [
        "Apples",
        "Oranges",
        "Pears"
       ],
       "description": "Fruits",
       "index": [
        1
       ],
       "layout": "IPY_MODEL_cc5fb88416694f4f95275956d223cb9e",
       "rows": 3,
       "style": "IPY_MODEL_421052fd47224d3c8317e335de6625fe"
      }
     },
     "bdc088b38f8d4056bdfdca5d7b2df8db": {
      "model_module": "@jupyter-widgets/base",
      "model_module_version": "1.0.0",
      "model_name": "LayoutModel",
      "state": {}
     },
     "bdc6246e32a9418db94f8db51750975b": {
      "model_module": "@jupyter-widgets/base",
      "model_module_version": "1.0.0",
      "model_name": "LayoutModel",
      "state": {}
     },
     "bdc65b579b204736b7b6a14c14c19841": {
      "model_module": "@jupyter-widgets/controls",
      "model_module_version": "1.2.0",
      "model_name": "SelectMultipleModel",
      "state": {
       "_options_labels": [
        "Bornes_P_Total.pkl",
        "EE. Quito.pkl"
       ],
       "description": "Modelos: ",
       "index": [
        1
       ],
       "layout": "IPY_MODEL_6dc813d082e244df96084887eefc8af9",
       "rows": 2,
       "style": "IPY_MODEL_ec1ef8b7adf04b3aac94281b2cb8ca7e"
      }
     },
     "be099fa21b40463f802f5af5ae71b0af": {
      "model_module": "@jupyter-widgets/controls",
      "model_module_version": "1.2.0",
      "model_name": "HBoxModel",
      "state": {
       "children": [
        "IPY_MODEL_57180842a8d349869512e21be0dc1218"
       ],
       "layout": "IPY_MODEL_cd25553a71124e0da497a36f4a41c0d0"
      }
     },
     "be771375dd914089be4136575206c803": {
      "model_module": "@jupyter-widgets/output",
      "model_module_version": "1.0.0",
      "model_name": "OutputModel",
      "state": {
       "layout": "IPY_MODEL_ff2ac4af837d4ec8a525ef1ab7e5891d",
       "outputs": [
        {
         "name": "stdout",
         "output_type": "stream",
         "text": "Los modelos a entrenar \n"
        }
       ]
      }
     },
     "bf1e16c3fff046ff8e00b31c3416f6f6": {
      "model_module": "@jupyter-widgets/output",
      "model_module_version": "1.0.0",
      "model_name": "OutputModel",
      "state": {
       "layout": "IPY_MODEL_0c436c3abc2c4cfbac37192772c88ce2",
       "outputs": [
        {
         "name": "stdout",
         "output_type": "stream",
         "text": "Los modelos a entrenar:\n                           0\n0  EE. Quito - copia (2).pkl\n1  EE. Quito - copia (3).pkl\n2  EE. Quito - copia (4).pkl\n3  EE. Quito - copia (5).pkl\n4      EE. Quito - copia.pkl\n"
        }
       ]
      }
     },
     "bf92f6aa4db94b9d9364615164c6f59e": {
      "model_module": "@jupyter-widgets/base",
      "model_module_version": "1.0.0",
      "model_name": "LayoutModel",
      "state": {}
     },
     "bf9da50dfaee4ea38f1858977c0bc912": {
      "model_module": "@jupyter-widgets/base",
      "model_module_version": "1.0.0",
      "model_name": "LayoutModel",
      "state": {}
     },
     "c01147ac0220465998495f4cce2a17fc": {
      "model_module": "@jupyter-widgets/controls",
      "model_module_version": "1.2.0",
      "model_name": "SelectMultipleModel",
      "state": {
       "description": "Modelos: ",
       "index": [],
       "layout": "IPY_MODEL_24c9a7d002c54b858b03ebc34ee2df7a",
       "rows": 0,
       "style": "IPY_MODEL_768bed745633436f916eead17306e178"
      }
     },
     "c04bf7a5c07b4097ae4bb95568b288bf": {
      "model_module": "@jupyter-widgets/controls",
      "model_module_version": "1.2.0",
      "model_name": "IntSliderModel",
      "state": {
       "layout": "IPY_MODEL_a2011f0082ec4e3998a43fdbe12a15fb",
       "max": 10,
       "min": 1,
       "style": "IPY_MODEL_45d4ab5fb1e34da6a2c25dd9c8ed2370",
       "value": 3
      }
     },
     "c083e34690c94d1da700e30bb7e3d770": {
      "model_module": "@jupyter-widgets/base",
      "model_module_version": "1.0.0",
      "model_name": "LayoutModel",
      "state": {
       "width": "50%"
      }
     },
     "c0c79777e9b24c9093c082440f3724e4": {
      "model_module": "@jupyter-widgets/controls",
      "model_module_version": "1.2.0",
      "model_name": "IntSliderModel",
      "state": {
       "layout": "IPY_MODEL_858440d2c5a84aa8b7f6f2ece24f51e6",
       "max": 10,
       "min": 1,
       "style": "IPY_MODEL_bcfafffc399c48db9b5e65bde79bde05",
       "value": 5
      }
     },
     "c10d954a3fcd4e7ba1ce8f83a881a60c": {
      "model_module": "@jupyter-widgets/controls",
      "model_module_version": "1.2.0",
      "model_name": "SelectMultipleModel",
      "state": {
       "_options_labels": [
        "Bornes_P_Total.pkl",
        "EE. Quito - copia (2).pkl",
        "EE. Quito - copia (3).pkl",
        "EE. Quito - copia (4).pkl",
        "EE. Quito - copia (5).pkl",
        "EE. Quito - copia.pkl",
        "EE. Quito.pkl"
       ],
       "description": "Modelos: ",
       "index": [
        0
       ],
       "layout": "IPY_MODEL_3795ceb364034da0be3b241ec8a262ad",
       "rows": 7,
       "style": "IPY_MODEL_2fd0fe1e676c41c7bda9b6dd67035382"
      }
     },
     "c1304d46df0c4ef98fc9c5b5c9aaf374": {
      "model_module": "@jupyter-widgets/base",
      "model_module_version": "1.0.0",
      "model_name": "LayoutModel",
      "state": {}
     },
     "c1576f16956a431a8c1f9fa9b5e1649f": {
      "model_module": "@jupyter-widgets/controls",
      "model_module_version": "1.2.0",
      "model_name": "IntSliderModel",
      "state": {
       "layout": "IPY_MODEL_0b0f17d8c3ea4d169e441cbd1e12bd72",
       "max": 10,
       "min": 1,
       "style": "IPY_MODEL_a90694331d404e7cb8a20ed4c54b7440",
       "value": 5
      }
     },
     "c1fde834de9b421798da3e4203089f85": {
      "model_module": "@jupyter-widgets/base",
      "model_module_version": "1.0.0",
      "model_name": "LayoutModel",
      "state": {}
     },
     "c2371bb8d09c438aac13dab40261266f": {
      "model_module": "@jupyter-widgets/base",
      "model_module_version": "1.0.0",
      "model_name": "LayoutModel",
      "state": {}
     },
     "c301691687a54898af32808e95af16cf": {
      "model_module": "@jupyter-widgets/controls",
      "model_module_version": "1.2.0",
      "model_name": "SelectMultipleModel",
      "state": {
       "_options_labels": [
        "Bornes_P_Total.pkl",
        "EE. Quito - copia (2).pkl",
        "EE. Quito - copia (3).pkl",
        "EE. Quito - copia (4).pkl",
        "EE. Quito - copia (5).pkl",
        "EE. Quito - copia.pkl",
        "EE. Quito.pkl"
       ],
       "description": "Modelos: ",
       "index": [
        1,
        2,
        3,
        4,
        5
       ],
       "layout": "IPY_MODEL_ed5118b71f524f84888fab394516d82c",
       "rows": 7,
       "style": "IPY_MODEL_4b40827d5e3d461385c4111389cfadf0"
      }
     },
     "c38c5f9cc7e74e6ba48afe85817af9c8": {
      "model_module": "@jupyter-widgets/controls",
      "model_module_version": "1.2.0",
      "model_name": "IntSliderModel",
      "state": {
       "layout": "IPY_MODEL_4696c321f2fd45c39e8f314d1c53bf21",
       "max": 70,
       "min": 40,
       "style": "IPY_MODEL_e80da0f65d50499880929f93cf2eb741",
       "value": 70
      }
     },
     "c3968ad85d7947498defe0ec4cda88ff": {
      "model_module": "@jupyter-widgets/base",
      "model_module_version": "1.0.0",
      "model_name": "LayoutModel",
      "state": {}
     },
     "c3b595a41aef4cd68f79f7be2cb896d6": {
      "model_module": "@jupyter-widgets/base",
      "model_module_version": "1.0.0",
      "model_name": "LayoutModel",
      "state": {}
     },
     "c404ca0887ab4f8b86fcc417bb72e9fa": {
      "model_module": "@jupyter-widgets/base",
      "model_module_version": "1.0.0",
      "model_name": "LayoutModel",
      "state": {}
     },
     "c4261cab2b7843779d640000c7690242": {
      "model_module": "@jupyter-widgets/controls",
      "model_module_version": "1.2.0",
      "model_name": "HBoxModel",
      "state": {
       "children": [
        "IPY_MODEL_a1e6b0cacceb4e70ac6c458c0a711f10"
       ],
       "layout": "IPY_MODEL_c3968ad85d7947498defe0ec4cda88ff"
      }
     },
     "c476b3fbe3ca48da95faebfe26f024c9": {
      "model_module": "@jupyter-widgets/controls",
      "model_module_version": "1.2.0",
      "model_name": "SliderStyleModel",
      "state": {
       "description_width": ""
      }
     },
     "c4f18d3ae9494d02afeb2598f35626a7": {
      "model_module": "@jupyter-widgets/base",
      "model_module_version": "1.0.0",
      "model_name": "LayoutModel",
      "state": {}
     },
     "c54ed4b0b81748fd8e5aeaf6dfd3b489": {
      "model_module": "@jupyter-widgets/base",
      "model_module_version": "1.0.0",
      "model_name": "LayoutModel",
      "state": {}
     },
     "c5d2df89d2c64f10b1b972a0e1a91c79": {
      "model_module": "@jupyter-widgets/controls",
      "model_module_version": "1.2.0",
      "model_name": "HBoxModel",
      "state": {
       "children": [
        "IPY_MODEL_f705a635d40946b2af80f34c837bc408"
       ],
       "layout": "IPY_MODEL_cf4bdf404c2f403c9b7db404cbced41d"
      }
     },
     "c5ea9c25a8604427a5f760d72c759568": {
      "model_module": "@jupyter-widgets/base",
      "model_module_version": "1.0.0",
      "model_name": "LayoutModel",
      "state": {}
     },
     "c61bf49455ba464b8448714f49d9bdc1": {
      "model_module": "@jupyter-widgets/base",
      "model_module_version": "1.0.0",
      "model_name": "LayoutModel",
      "state": {}
     },
     "c65862da680344058d023f95c4ddbf4d": {
      "model_module": "@jupyter-widgets/base",
      "model_module_version": "1.0.0",
      "model_name": "LayoutModel",
      "state": {}
     },
     "c6c46e31ad354cd0b9f7e92ff7638cb2": {
      "model_module": "@jupyter-widgets/controls",
      "model_module_version": "1.2.0",
      "model_name": "IntSliderModel",
      "state": {
       "layout": "IPY_MODEL_cb977c5dc49942e08ce28928e727916f",
       "max": 70,
       "min": 40,
       "style": "IPY_MODEL_9e7126120865474c86a7f02442d5543e",
       "value": 70
      }
     },
     "c70b06417a844d169cf0a435a057c903": {
      "model_module": "@jupyter-widgets/controls",
      "model_module_version": "1.2.0",
      "model_name": "IntSliderModel",
      "state": {
       "layout": "IPY_MODEL_64199e8819ad408590c1e79b6ba4f554",
       "max": 70,
       "min": 40,
       "style": "IPY_MODEL_94c7685328284604be9fa0d9f846020d",
       "value": 70
      }
     },
     "c758a5cab5284818b3263aaf953529c9": {
      "model_module": "@jupyter-widgets/base",
      "model_module_version": "1.0.0",
      "model_name": "LayoutModel",
      "state": {}
     },
     "c7b059c382d14b5780c818e4d77cc755": {
      "model_module": "@jupyter-widgets/base",
      "model_module_version": "1.0.0",
      "model_name": "LayoutModel",
      "state": {}
     },
     "c803b8bb67e64b8580f84f1db82eb1e5": {
      "model_module": "@jupyter-widgets/base",
      "model_module_version": "1.0.0",
      "model_name": "LayoutModel",
      "state": {}
     },
     "c8611d36d52846c3a465dd3079f190d2": {
      "model_module": "@jupyter-widgets/controls",
      "model_module_version": "1.2.0",
      "model_name": "IntRangeSliderModel",
      "state": {
       "_model_name": "IntRangeSliderModel",
       "_view_name": "IntRangeSliderView",
       "layout": "IPY_MODEL_e61fed393f70494686bb65ee04e4ad13",
       "max": 120,
       "min": 40,
       "style": "IPY_MODEL_9bae05407e4543089cca8873533ac7e6",
       "value": [
        55,
        110
       ]
      }
     },
     "c88cbe16fce2475a8b9c6738a912befc": {
      "model_module": "@jupyter-widgets/base",
      "model_module_version": "1.0.0",
      "model_name": "LayoutModel",
      "state": {}
     },
     "c88eab855f364910895a5e1f1f0b30a0": {
      "model_module": "@jupyter-widgets/base",
      "model_module_version": "1.0.0",
      "model_name": "LayoutModel",
      "state": {}
     },
     "c8e87e3f02d244dbaf1d9f6090a81c76": {
      "model_module": "@jupyter-widgets/controls",
      "model_module_version": "1.2.0",
      "model_name": "ButtonModel",
      "state": {
       "button_style": "info",
       "description": "Click aquí para empezar entrenamiento",
       "layout": "IPY_MODEL_7b78f5d42f114fedba9bc81a8256e5ce",
       "style": "IPY_MODEL_70c9513a571043e3a91f7f85a60dea2f",
       "tooltip": "Empieza el entrenamiento de acuerdo a los parámetros seleccionados"
      }
     },
     "c93267a28ce14b3d8b6460176f9065e8": {
      "model_module": "@jupyter-widgets/base",
      "model_module_version": "1.0.0",
      "model_name": "LayoutModel",
      "state": {}
     },
     "c9bc1fa94cce4c0a9f7af6051e9b5b74": {
      "model_module": "@jupyter-widgets/base",
      "model_module_version": "1.0.0",
      "model_name": "LayoutModel",
      "state": {}
     },
     "ca3e5443f2c2459ca93478fb43a4c9db": {
      "model_module": "@jupyter-widgets/base",
      "model_module_version": "1.0.0",
      "model_name": "LayoutModel",
      "state": {}
     },
     "ca56f2f0c860457a822b9ba87d13d4bd": {
      "model_module": "@jupyter-widgets/base",
      "model_module_version": "1.0.0",
      "model_name": "LayoutModel",
      "state": {}
     },
     "ca61787990fc45988c384d64dba1c322": {
      "model_module": "@jupyter-widgets/controls",
      "model_module_version": "1.2.0",
      "model_name": "IntSliderModel",
      "state": {
       "layout": "IPY_MODEL_c1304d46df0c4ef98fc9c5b5c9aaf374",
       "max": 10,
       "min": 1,
       "style": "IPY_MODEL_62c7826274e741e58a91bef6d5affd93",
       "value": 3
      }
     },
     "ca663aa7ef3c481ebb897ad0bdac5134": {
      "model_module": "@jupyter-widgets/base",
      "model_module_version": "1.0.0",
      "model_name": "LayoutModel",
      "state": {}
     },
     "ca7f9aee0c9b4265aa64132c0e1fd0f5": {
      "model_module": "@jupyter-widgets/controls",
      "model_module_version": "1.2.0",
      "model_name": "SliderStyleModel",
      "state": {
       "description_width": ""
      }
     },
     "cad1982dd2b448e1afde6941a2736bf6": {
      "model_module": "@jupyter-widgets/base",
      "model_module_version": "1.0.0",
      "model_name": "LayoutModel",
      "state": {}
     },
     "cb0ee49ababe4eee9fc95a43668c9174": {
      "model_module": "@jupyter-widgets/controls",
      "model_module_version": "1.2.0",
      "model_name": "HBoxModel",
      "state": {
       "children": [
        "IPY_MODEL_d82ee69255c94d16a753fe93ec1a5e13"
       ],
       "layout": "IPY_MODEL_a1db1c8a1a574cb9814b9e7c6c28486d"
      }
     },
     "cb29149fbda841b0930cb7a05c6e0c7e": {
      "model_module": "@jupyter-widgets/controls",
      "model_module_version": "1.2.0",
      "model_name": "DescriptionStyleModel",
      "state": {
       "description_width": ""
      }
     },
     "cb4b5188a2aa41418f7adc62ebf0ae53": {
      "model_module": "@jupyter-widgets/controls",
      "model_module_version": "1.2.0",
      "model_name": "SelectMultipleModel",
      "state": {
       "_options_labels": [
        "Bornes_P_Total.pkl",
        "EE. Quito - copia (2).pkl",
        "EE. Quito - copia (3).pkl",
        "EE. Quito - copia (4).pkl",
        "EE. Quito - copia (5).pkl",
        "EE. Quito - copia.pkl",
        "EE. Quito.pkl"
       ],
       "description": "Modelos: ",
       "index": [
        0
       ],
       "layout": "IPY_MODEL_e097b6272ed4479aa034f0f11fd48f14",
       "rows": 7,
       "style": "IPY_MODEL_b0a1341702134c4ead9b1deef43f3f64"
      }
     },
     "cb977c5dc49942e08ce28928e727916f": {
      "model_module": "@jupyter-widgets/base",
      "model_module_version": "1.0.0",
      "model_name": "LayoutModel",
      "state": {}
     },
     "cc104cdf04f44d959dccde454d2ed391": {
      "model_module": "@jupyter-widgets/controls",
      "model_module_version": "1.2.0",
      "model_name": "IntSliderModel",
      "state": {
       "layout": "IPY_MODEL_b7c7e2d113714894a4b7c6f906d73a5e",
       "max": 10,
       "min": 1,
       "style": "IPY_MODEL_fb59d483e6854df88ad625793838e62f",
       "value": 5
      }
     },
     "cc1b663dc5d1458294f42d21fdd2aebc": {
      "model_module": "@jupyter-widgets/controls",
      "model_module_version": "1.2.0",
      "model_name": "DescriptionStyleModel",
      "state": {
       "description_width": ""
      }
     },
     "cc5fb88416694f4f95275956d223cb9e": {
      "model_module": "@jupyter-widgets/base",
      "model_module_version": "1.0.0",
      "model_name": "LayoutModel",
      "state": {}
     },
     "cc9ac7c416834d9c80a36dd7fcb59541": {
      "model_module": "@jupyter-widgets/controls",
      "model_module_version": "1.2.0",
      "model_name": "HBoxModel",
      "state": {
       "children": [
        "IPY_MODEL_c8611d36d52846c3a465dd3079f190d2"
       ],
       "layout": "IPY_MODEL_b71d0ba00daa4ae8a7351ca9614341fd"
      }
     },
     "ccfa3905d72c464f9c91dbc6ffaddadb": {
      "model_module": "@jupyter-widgets/controls",
      "model_module_version": "1.2.0",
      "model_name": "HBoxModel",
      "state": {
       "children": [
        "IPY_MODEL_ca61787990fc45988c384d64dba1c322"
       ],
       "layout": "IPY_MODEL_6681868bf96c490d9e143a8a348c0256"
      }
     },
     "cd25553a71124e0da497a36f4a41c0d0": {
      "model_module": "@jupyter-widgets/base",
      "model_module_version": "1.0.0",
      "model_name": "LayoutModel",
      "state": {}
     },
     "cd94674094ac4e8988021ea304f74d9f": {
      "model_module": "@jupyter-widgets/controls",
      "model_module_version": "1.2.0",
      "model_name": "HBoxModel",
      "state": {
       "children": [
        "IPY_MODEL_c8e87e3f02d244dbaf1d9f6090a81c76"
       ],
       "layout": "IPY_MODEL_d63d3158aa5f46bca5ebc356859e7ebc"
      }
     },
     "cde0763968204f5fb958f18c599b1e2c": {
      "model_module": "@jupyter-widgets/controls",
      "model_module_version": "1.2.0",
      "model_name": "SliderStyleModel",
      "state": {
       "description_width": ""
      }
     },
     "cdf5077343e44f08ab853134e34716c1": {
      "model_module": "@jupyter-widgets/controls",
      "model_module_version": "1.2.0",
      "model_name": "IntRangeSliderModel",
      "state": {
       "_model_name": "IntRangeSliderModel",
       "_view_name": "IntRangeSliderView",
       "layout": "IPY_MODEL_84470c167d5346b592408ce4a4b90aad",
       "max": 120,
       "min": 40,
       "style": "IPY_MODEL_b3ba73500a5d463986559eb2c6a7e44d",
       "value": [
        62,
        90
       ]
      }
     },
     "ce0e260f7b884f339e36789948e8d5f8": {
      "model_module": "@jupyter-widgets/base",
      "model_module_version": "1.0.0",
      "model_name": "LayoutModel",
      "state": {}
     },
     "ce1166f4587046bc9b93ccdf7a6b6ff9": {
      "model_module": "@jupyter-widgets/base",
      "model_module_version": "1.0.0",
      "model_name": "LayoutModel",
      "state": {}
     },
     "cede244384014f6a83ee1b94be3a9ea4": {
      "model_module": "@jupyter-widgets/controls",
      "model_module_version": "1.2.0",
      "model_name": "SliderStyleModel",
      "state": {
       "description_width": ""
      }
     },
     "cf4bdf404c2f403c9b7db404cbced41d": {
      "model_module": "@jupyter-widgets/base",
      "model_module_version": "1.0.0",
      "model_name": "LayoutModel",
      "state": {}
     },
     "cfa3216f1edf4f7a8a7d9e2ce17e7306": {
      "model_module": "@jupyter-widgets/controls",
      "model_module_version": "1.2.0",
      "model_name": "ButtonStyleModel",
      "state": {}
     },
     "cfac59edef714dd0bc8ba5b4b579ddbe": {
      "model_module": "@jupyter-widgets/base",
      "model_module_version": "1.0.0",
      "model_name": "LayoutModel",
      "state": {}
     },
     "d0444573eea544cea9fc883cf5805a86": {
      "model_module": "@jupyter-widgets/output",
      "model_module_version": "1.0.0",
      "model_name": "OutputModel",
      "state": {
       "layout": "IPY_MODEL_ea9525ab2ef84f1d887083e5453d5ac8",
       "outputs": [
        {
         "name": "stdout",
         "output_type": "stream",
         "text": "Se realizará 3 iteracciones\n"
        }
       ]
      }
     },
     "d0a3d7fe1bf444c09cd6d5cc3310647a": {
      "model_module": "@jupyter-widgets/output",
      "model_module_version": "1.0.0",
      "model_name": "OutputModel",
      "state": {
       "layout": "IPY_MODEL_abcc1505781d4f32b0c344b49f6d5c64",
       "outputs": [
        {
         "data": {
          "text/markdown": "**Modelos a entrenar:**",
          "text/plain": "<IPython.core.display.Markdown object>"
         },
         "metadata": {},
         "output_type": "display_data"
        },
        {
         "name": "stdout",
         "output_type": "stream",
         "text": "  Modelos seleccionados\n0    Bornes_P_Total.pkl\n"
        }
       ]
      }
     },
     "d0daca9c1757436da1a619cf8950469e": {
      "model_module": "@jupyter-widgets/base",
      "model_module_version": "1.0.0",
      "model_name": "LayoutModel",
      "state": {}
     },
     "d1165424a40f48df9c22d9bcd9713891": {
      "model_module": "@jupyter-widgets/output",
      "model_module_version": "1.0.0",
      "model_name": "OutputModel",
      "state": {
       "layout": "IPY_MODEL_932d4481b7ae41e890f70ef777f29c40"
      }
     },
     "d13a4dc56f984b368deabba824e62731": {
      "model_module": "@jupyter-widgets/controls",
      "model_module_version": "1.2.0",
      "model_name": "SelectMultipleModel",
      "state": {
       "_options_labels": [
        "Bornes_P_Total.pkl",
        "EE. Quito.pkl"
       ],
       "description": "Modelos: ",
       "index": [],
       "layout": "IPY_MODEL_14ddd1c9c006490a86c6af33c2491992",
       "rows": 2,
       "style": "IPY_MODEL_eb7c2a1014684cc9ac5043d88b87a758"
      }
     },
     "d1549550cf90458a9ee6dcbb1699f877": {
      "model_module": "@jupyter-widgets/controls",
      "model_module_version": "1.2.0",
      "model_name": "DescriptionStyleModel",
      "state": {
       "description_width": ""
      }
     },
     "d17315dd3cf044bab1bcabb583b2fc9e": {
      "model_module": "@jupyter-widgets/controls",
      "model_module_version": "1.2.0",
      "model_name": "SelectMultipleModel",
      "state": {
       "_options_labels": [
        "Bornes_P_Total.pkl",
        "EE. Quito.pkl"
       ],
       "description": "Modelos: ",
       "index": [
        0
       ],
       "layout": "IPY_MODEL_1e2e5d63bd484fc490aad951257bea12",
       "rows": 2,
       "style": "IPY_MODEL_4300c85accca4cb0ae41551f3d35e9ed"
      }
     },
     "d1901d52107a4b479e30b3f4de6189c5": {
      "model_module": "@jupyter-widgets/base",
      "model_module_version": "1.0.0",
      "model_name": "LayoutModel",
      "state": {}
     },
     "d1dc8647fa24477f86e5df5495320762": {
      "model_module": "@jupyter-widgets/base",
      "model_module_version": "1.0.0",
      "model_name": "LayoutModel",
      "state": {}
     },
     "d211235a0764403c9717665135a9d24e": {
      "model_module": "@jupyter-widgets/controls",
      "model_module_version": "1.2.0",
      "model_name": "SelectMultipleModel",
      "state": {
       "_options_labels": [
        "Bornes_P_Total.pkl",
        "EE. Quito.pkl"
       ],
       "description": "Modelos: ",
       "index": [
        1
       ],
       "layout": "IPY_MODEL_79404e3a9d9e443cacb52b76d237cb16",
       "rows": 2,
       "style": "IPY_MODEL_5864ca9afab2432a833c13b59d97740d"
      }
     },
     "d23d089ff86244a8beabc189096dfd10": {
      "model_module": "@jupyter-widgets/controls",
      "model_module_version": "1.2.0",
      "model_name": "SelectMultipleModel",
      "state": {
       "_options_labels": [
        "Bornes_P_Total.pkl",
        "EE. Quito - copia (2).pkl",
        "EE. Quito - copia (3).pkl",
        "EE. Quito - copia (4).pkl",
        "EE. Quito - copia (5).pkl",
        "EE. Quito - copia.pkl",
        "EE. Quito.pkl"
       ],
       "description": "Modelos: ",
       "index": [
        0
       ],
       "layout": "IPY_MODEL_f5b8a4c7623044b1a853d090b8a728bd",
       "rows": 7,
       "style": "IPY_MODEL_07d25a26c8e04b68b320e64c774dbc8b"
      }
     },
     "d270456aca6f4aeb925c2cf8b9a48bed": {
      "model_module": "@jupyter-widgets/base",
      "model_module_version": "1.0.0",
      "model_name": "LayoutModel",
      "state": {
       "width": "50%"
      }
     },
     "d29857f6104b42878472e2a4c0888579": {
      "model_module": "@jupyter-widgets/base",
      "model_module_version": "1.0.0",
      "model_name": "LayoutModel",
      "state": {}
     },
     "d2a0fb8afd24461b87b46af141a4dc0f": {
      "model_module": "@jupyter-widgets/controls",
      "model_module_version": "1.2.0",
      "model_name": "ButtonModel",
      "state": {
       "button_style": "info",
       "description": "Click aquí para empezar entrenamiento",
       "layout": "IPY_MODEL_32a03ab163834b37b3d5d9b42978942f",
       "style": "IPY_MODEL_61f0db742af942a9ae8c591e5dde64f8",
       "tooltip": "Empieza el entrenamiento de acuerdo a los parámetros seleccionados"
      }
     },
     "d335b43017fd4579bc4838b5d45bb82d": {
      "model_module": "@jupyter-widgets/controls",
      "model_module_version": "1.2.0",
      "model_name": "ButtonModel",
      "state": {
       "button_style": "info",
       "description": "Click aquí para empezar entrenamiento",
       "layout": "IPY_MODEL_688f71714f704148aed136e40032ccbc",
       "style": "IPY_MODEL_26e954dd9a604ee6abee09665c4d5895",
       "tooltip": "Empieza el entrenamiento de acuerdo a los parámetros anteriores"
      }
     },
     "d49b1cc388a04a5d9a50b52bf23b0989": {
      "model_module": "@jupyter-widgets/controls",
      "model_module_version": "1.2.0",
      "model_name": "SelectMultipleModel",
      "state": {
       "_options_labels": [
        "Bornes_P_Total.pkl",
        "EE. Quito - copia (2).pkl",
        "EE. Quito - copia (3).pkl",
        "EE. Quito - copia (4).pkl",
        "EE. Quito - copia (5).pkl",
        "EE. Quito - copia.pkl",
        "EE. Quito.pkl"
       ],
       "description": "Modelos: ",
       "index": [
        0
       ],
       "layout": "IPY_MODEL_633009ae6ec040b6a6ac85b6d5a4fb15",
       "rows": 7,
       "style": "IPY_MODEL_dac2fecfc3f943c4a8a99fd9a65ee614"
      }
     },
     "d4b5219bc5734b58bd563d6e54369bd0": {
      "model_module": "@jupyter-widgets/controls",
      "model_module_version": "1.2.0",
      "model_name": "SelectMultipleModel",
      "state": {
       "_options_labels": [
        "Bornes_P_Total.pkl",
        "EE. Quito - copia (2).pkl",
        "EE. Quito - copia (3).pkl",
        "EE. Quito - copia (4).pkl",
        "EE. Quito - copia (5).pkl",
        "EE. Quito - copia.pkl",
        "EE. Quito.pkl"
       ],
       "description": "Modelos: ",
       "index": [
        0
       ],
       "layout": "IPY_MODEL_99e5bd82d96c4b569096b6ccb96d6fdb",
       "rows": 7,
       "style": "IPY_MODEL_e7d318254bf84894a5439cad73e4ece3"
      }
     },
     "d513d8e413c0444f8928697077a063d8": {
      "model_module": "@jupyter-widgets/base",
      "model_module_version": "1.0.0",
      "model_name": "LayoutModel",
      "state": {}
     },
     "d53b57bb8845464db7eb3d1defaedd9d": {
      "model_module": "@jupyter-widgets/controls",
      "model_module_version": "1.2.0",
      "model_name": "DescriptionStyleModel",
      "state": {
       "description_width": ""
      }
     },
     "d55f168d2c28453da73086c966dac612": {
      "model_module": "@jupyter-widgets/base",
      "model_module_version": "1.0.0",
      "model_name": "LayoutModel",
      "state": {
       "width": "50%"
      }
     },
     "d5d4cee7ab8a4190806b2853577b373d": {
      "model_module": "@jupyter-widgets/controls",
      "model_module_version": "1.2.0",
      "model_name": "HBoxModel",
      "state": {
       "children": [
        "IPY_MODEL_f32f72a06222472db09f085afa42b3fc"
       ],
       "layout": "IPY_MODEL_54be295b6a2f4da48bb9d792c46040e2"
      }
     },
     "d604e0211996433092e8870bee80217e": {
      "model_module": "@jupyter-widgets/controls",
      "model_module_version": "1.2.0",
      "model_name": "IntSliderModel",
      "state": {
       "layout": "IPY_MODEL_ca56f2f0c860457a822b9ba87d13d4bd",
       "max": 70,
       "min": 40,
       "style": "IPY_MODEL_053090eb3e074105b23013cae4d4831f",
       "value": 70
      }
     },
     "d61a559aa54941179c7bb8694db365b6": {
      "model_module": "@jupyter-widgets/controls",
      "model_module_version": "1.2.0",
      "model_name": "IntSliderModel",
      "state": {
       "layout": "IPY_MODEL_aabdc55868a940618466d7e0834d6761",
       "max": 10,
       "min": 1,
       "style": "IPY_MODEL_405a970c13a647cea5be1acd0a30ff65",
       "value": 3
      }
     },
     "d63d3158aa5f46bca5ebc356859e7ebc": {
      "model_module": "@jupyter-widgets/base",
      "model_module_version": "1.0.0",
      "model_name": "LayoutModel",
      "state": {}
     },
     "d66e46f6e74f4e32b502bfdc68d92343": {
      "model_module": "@jupyter-widgets/controls",
      "model_module_version": "1.2.0",
      "model_name": "IntRangeSliderModel",
      "state": {
       "_model_name": "IntRangeSliderModel",
       "_view_name": "IntRangeSliderView",
       "layout": "IPY_MODEL_e75f003fa6014d0f929f3d10f964a505",
       "max": 120,
       "min": 40,
       "style": "IPY_MODEL_5d18af6fd4514755b8bab5a4dfceaf70",
       "value": [
        62,
        91
       ]
      }
     },
     "d6a12f66b68f4d4a818ce8b29b77789a": {
      "model_module": "@jupyter-widgets/base",
      "model_module_version": "1.0.0",
      "model_name": "LayoutModel",
      "state": {}
     },
     "d6d2f822f8d84eb686db5ebaf288a544": {
      "model_module": "@jupyter-widgets/controls",
      "model_module_version": "1.2.0",
      "model_name": "HBoxModel",
      "state": {
       "children": [
        "IPY_MODEL_88c25ac110094b62a569f0aab190492f"
       ],
       "layout": "IPY_MODEL_d1901d52107a4b479e30b3f4de6189c5"
      }
     },
     "d7d2ad2350ad478a92f330e00ecc790b": {
      "model_module": "@jupyter-widgets/base",
      "model_module_version": "1.0.0",
      "model_name": "LayoutModel",
      "state": {}
     },
     "d82ee69255c94d16a753fe93ec1a5e13": {
      "model_module": "@jupyter-widgets/controls",
      "model_module_version": "1.2.0",
      "model_name": "IntRangeSliderModel",
      "state": {
       "_model_name": "IntRangeSliderModel",
       "_view_name": "IntRangeSliderView",
       "layout": "IPY_MODEL_ac1ce262599f4ef08a82f01419a62dd7",
       "max": 120,
       "min": 40,
       "style": "IPY_MODEL_cede244384014f6a83ee1b94be3a9ea4",
       "value": [
        63,
        86
       ]
      }
     },
     "d8d647de7d7843f494d121623f80b5f1": {
      "model_module": "@jupyter-widgets/base",
      "model_module_version": "1.0.0",
      "model_name": "LayoutModel",
      "state": {}
     },
     "d8febb90d89a4ff7b17c097ff4222e8e": {
      "model_module": "@jupyter-widgets/controls",
      "model_module_version": "1.2.0",
      "model_name": "HBoxModel",
      "state": {
       "children": [
        "IPY_MODEL_53e4af928164456aa46cfe549f26d9ad"
       ],
       "layout": "IPY_MODEL_0c0c07c935744c05b43f4339712e0c35"
      }
     },
     "d9222434248440d7a670095ac0904330": {
      "model_module": "@jupyter-widgets/controls",
      "model_module_version": "1.2.0",
      "model_name": "SliderStyleModel",
      "state": {
       "description_width": ""
      }
     },
     "d975bbad70214571a76ac3d7d0437ca5": {
      "model_module": "@jupyter-widgets/controls",
      "model_module_version": "1.2.0",
      "model_name": "SelectMultipleModel",
      "state": {
       "_options_labels": [
        "Bornes_P_Total.pkl",
        "EE. Quito - copia (2).pkl",
        "EE. Quito - copia (3).pkl",
        "EE. Quito - copia (4).pkl",
        "EE. Quito - copia (5).pkl",
        "EE. Quito - copia.pkl",
        "EE. Quito.pkl"
       ],
       "description": "Modelos: ",
       "index": [
        0
       ],
       "layout": "IPY_MODEL_fc1b90e19b3a44428b94a1a9228189ed",
       "rows": 7,
       "style": "IPY_MODEL_41c7ebcbedb24b0db7bf30d895ad8023"
      }
     },
     "d9791f15f1224d5abb7d0e1d9dc34d38": {
      "model_module": "@jupyter-widgets/base",
      "model_module_version": "1.0.0",
      "model_name": "LayoutModel",
      "state": {}
     },
     "d9ac36a952af4a048875429888b3ba43": {
      "model_module": "@jupyter-widgets/controls",
      "model_module_version": "1.2.0",
      "model_name": "SelectMultipleModel",
      "state": {
       "_options_labels": [
        "Bornes_P_Total.pkl",
        "EE. Quito - copia (2).pkl",
        "EE. Quito - copia (3).pkl",
        "EE. Quito - copia (4).pkl",
        "EE. Quito - copia (5).pkl",
        "EE. Quito - copia.pkl",
        "EE. Quito.pkl"
       ],
       "description": "Modelos: ",
       "index": [
        0
       ],
       "layout": "IPY_MODEL_5db1f3b876be4a478643dfeea6958937",
       "rows": 10,
       "style": "IPY_MODEL_022bee55e4a34275af04e12be4e942d4"
      }
     },
     "daa54a5269a44e2784711d77debf72af": {
      "model_module": "@jupyter-widgets/base",
      "model_module_version": "1.0.0",
      "model_name": "LayoutModel",
      "state": {}
     },
     "dac2fecfc3f943c4a8a99fd9a65ee614": {
      "model_module": "@jupyter-widgets/controls",
      "model_module_version": "1.2.0",
      "model_name": "DescriptionStyleModel",
      "state": {
       "description_width": ""
      }
     },
     "db126260749e47e39447ab65b79e5843": {
      "model_module": "@jupyter-widgets/base",
      "model_module_version": "1.0.0",
      "model_name": "LayoutModel",
      "state": {}
     },
     "db2022a54e81487aa0e1eeb601e5edf4": {
      "model_module": "@jupyter-widgets/base",
      "model_module_version": "1.0.0",
      "model_name": "LayoutModel",
      "state": {}
     },
     "db28049ef5cb43f3861acb8421962bc0": {
      "model_module": "@jupyter-widgets/controls",
      "model_module_version": "1.2.0",
      "model_name": "SelectMultipleModel",
      "state": {
       "_options_labels": [
        "Bornes_P_Total.pkl",
        "EE. Quito - copia (2).pkl",
        "EE. Quito - copia (3).pkl",
        "EE. Quito - copia (4).pkl",
        "EE. Quito - copia (5).pkl",
        "EE. Quito - copia.pkl",
        "EE. Quito.pkl"
       ],
       "description": "Modelos: ",
       "index": [
        0
       ],
       "layout": "IPY_MODEL_035c5404227d47a7bffdca76024af689",
       "rows": 7,
       "style": "IPY_MODEL_cc1b663dc5d1458294f42d21fdd2aebc"
      }
     },
     "db851a17b6cb4197a423a49b74f4f48e": {
      "model_module": "@jupyter-widgets/base",
      "model_module_version": "1.0.0",
      "model_name": "LayoutModel",
      "state": {}
     },
     "dc332f023d0e43c7a3c9287198995614": {
      "model_module": "@jupyter-widgets/controls",
      "model_module_version": "1.2.0",
      "model_name": "SelectMultipleModel",
      "state": {
       "_options_labels": [
        "Bornes_P_Total.pkl",
        "EE. Quito - copia (2).pkl",
        "EE. Quito - copia (3).pkl",
        "EE. Quito - copia (4).pkl",
        "EE. Quito - copia (5).pkl",
        "EE. Quito - copia.pkl",
        "EE. Quito.pkl"
       ],
       "description": "Modelos: ",
       "index": [
        0
       ],
       "layout": "IPY_MODEL_37b033cb1bde4fa6a4d39359f3a83812",
       "rows": 7,
       "style": "IPY_MODEL_7c559193d7bb4b41a7ca1aae4ac0df8f"
      }
     },
     "dc52ef3f8c3a4fc792a4bee773339f0d": {
      "model_module": "@jupyter-widgets/base",
      "model_module_version": "1.0.0",
      "model_name": "LayoutModel",
      "state": {}
     },
     "dc90f1f9873244b9944e256a1e043ea2": {
      "model_module": "@jupyter-widgets/controls",
      "model_module_version": "1.2.0",
      "model_name": "IntSliderModel",
      "state": {
       "layout": "IPY_MODEL_1a686d5eb32f4907b74b0273404a1517",
       "max": 10,
       "min": 1,
       "style": "IPY_MODEL_70ac4b70e2a943ee9022e235c4963503",
       "value": 3
      }
     },
     "dca431167a34487d91e437bd7e219a9f": {
      "model_module": "@jupyter-widgets/controls",
      "model_module_version": "1.2.0",
      "model_name": "ButtonStyleModel",
      "state": {}
     },
     "dcecedc671b04448a011c60befb4af44": {
      "model_module": "@jupyter-widgets/controls",
      "model_module_version": "1.2.0",
      "model_name": "SliderStyleModel",
      "state": {
       "description_width": ""
      }
     },
     "dcf3561951ab4e0b9ce66113805b0230": {
      "model_module": "@jupyter-widgets/base",
      "model_module_version": "1.0.0",
      "model_name": "LayoutModel",
      "state": {}
     },
     "dd3817d4cd59458cba3801ef677f5cf2": {
      "model_module": "@jupyter-widgets/output",
      "model_module_version": "1.0.0",
      "model_name": "OutputModel",
      "state": {
       "layout": "IPY_MODEL_f5fa150fdf7d47e4b94dd833cd2a8db2",
       "outputs": [
        {
         "name": "stdout",
         "output_type": "stream",
         "text": "Se realizará 5 iteracciones\n"
        }
       ]
      }
     },
     "de97017bc66c4d3c937b5f980e058caa": {
      "model_module": "@jupyter-widgets/controls",
      "model_module_version": "1.2.0",
      "model_name": "DescriptionStyleModel",
      "state": {
       "description_width": ""
      }
     },
     "df07fc6db7cd419ea95e636a50384030": {
      "model_module": "@jupyter-widgets/base",
      "model_module_version": "1.0.0",
      "model_name": "LayoutModel",
      "state": {}
     },
     "e01db722e5d54649b466980a66b9a7fe": {
      "model_module": "@jupyter-widgets/controls",
      "model_module_version": "1.2.0",
      "model_name": "DescriptionStyleModel",
      "state": {
       "description_width": ""
      }
     },
     "e0374764520547fca9453f1b16651faf": {
      "model_module": "@jupyter-widgets/output",
      "model_module_version": "1.0.0",
      "model_name": "OutputModel",
      "state": {
       "layout": "IPY_MODEL_6e745a970f2c448cb72e2b4589321f85",
       "outputs": [
        {
         "name": "stdout",
         "output_type": "stream",
         "text": "Se realizará 5 iteracciones\n"
        }
       ]
      }
     },
     "e097b6272ed4479aa034f0f11fd48f14": {
      "model_module": "@jupyter-widgets/base",
      "model_module_version": "1.0.0",
      "model_name": "LayoutModel",
      "state": {}
     },
     "e0aac4fecb904f84b4139056a1c9360a": {
      "model_module": "@jupyter-widgets/controls",
      "model_module_version": "1.2.0",
      "model_name": "DescriptionStyleModel",
      "state": {
       "description_width": ""
      }
     },
     "e0dbaab4f8d040419933531125b334ec": {
      "model_module": "@jupyter-widgets/base",
      "model_module_version": "1.0.0",
      "model_name": "LayoutModel",
      "state": {}
     },
     "e10dc4cbf5b74307adf3f1a49ac15506": {
      "model_module": "@jupyter-widgets/base",
      "model_module_version": "1.0.0",
      "model_name": "LayoutModel",
      "state": {}
     },
     "e15803723cce4bc09d8d128e3989670a": {
      "model_module": "@jupyter-widgets/base",
      "model_module_version": "1.0.0",
      "model_name": "LayoutModel",
      "state": {}
     },
     "e165598f5cdf4cef88f1e3790492d7ab": {
      "model_module": "@jupyter-widgets/base",
      "model_module_version": "1.0.0",
      "model_name": "LayoutModel",
      "state": {}
     },
     "e1d0f2c9385d477783d7f61269858b80": {
      "model_module": "@jupyter-widgets/output",
      "model_module_version": "1.0.0",
      "model_name": "OutputModel",
      "state": {
       "layout": "IPY_MODEL_10374f21548a4a7d8f9e3284677ec37a",
       "outputs": [
        {
         "name": "stdout",
         "output_type": "stream",
         "text": "Se encontrará el mejor modelo con K estados en el rango: [55, 110]\n"
        }
       ]
      }
     },
     "e23da17e6aa84e89a28753147c18bc20": {
      "model_module": "@jupyter-widgets/output",
      "model_module_version": "1.0.0",
      "model_name": "OutputModel",
      "state": {
       "layout": "IPY_MODEL_a30ae83127b9403a8799ad91de7ce842",
       "outputs": [
        {
         "name": "stdout",
         "output_type": "stream",
         "text": "Se realizará 5 iteracciones\n"
        }
       ]
      }
     },
     "e28f55c6f8b04b19905fbab20b534f1a": {
      "model_module": "@jupyter-widgets/controls",
      "model_module_version": "1.2.0",
      "model_name": "ButtonModel",
      "state": {
       "button_style": "warning",
       "description": "Empezar entrenamiento",
       "layout": "IPY_MODEL_fbfe22e5ed4047eeb66b031587abcc3a",
       "style": "IPY_MODEL_732dbc7ddc4c4bb88ba587155ea88d55",
       "tooltip": "Empieza el entrenamiento de acuerdo a los parámetros anteriores"
      }
     },
     "e48cd46297414a2ea70120295778f59e": {
      "model_module": "@jupyter-widgets/controls",
      "model_module_version": "1.2.0",
      "model_name": "DescriptionStyleModel",
      "state": {
       "description_width": ""
      }
     },
     "e4c4505662514ecfa4e17d09025bcfd7": {
      "model_module": "@jupyter-widgets/controls",
      "model_module_version": "1.2.0",
      "model_name": "IntSliderModel",
      "state": {
       "layout": "IPY_MODEL_4cff9b4e61324cab82343fc90c25600f",
       "max": 10,
       "min": 1,
       "style": "IPY_MODEL_63770b5448214b5d9fa9914bd7034781",
       "value": 3
      }
     },
     "e6118db332a44d0cab7591c9148a0f64": {
      "model_module": "@jupyter-widgets/base",
      "model_module_version": "1.0.0",
      "model_name": "LayoutModel",
      "state": {}
     },
     "e61fed393f70494686bb65ee04e4ad13": {
      "model_module": "@jupyter-widgets/base",
      "model_module_version": "1.0.0",
      "model_name": "LayoutModel",
      "state": {}
     },
     "e6656d89cb4a44f58593df7faaf89fda": {
      "model_module": "@jupyter-widgets/controls",
      "model_module_version": "1.2.0",
      "model_name": "ButtonStyleModel",
      "state": {}
     },
     "e6bc269cfd62460295d5ff7b41b9c1d0": {
      "model_module": "@jupyter-widgets/base",
      "model_module_version": "1.0.0",
      "model_name": "LayoutModel",
      "state": {}
     },
     "e713966d3bda4b9683fe43e7310589f2": {
      "model_module": "@jupyter-widgets/controls",
      "model_module_version": "1.2.0",
      "model_name": "SliderStyleModel",
      "state": {
       "description_width": ""
      }
     },
     "e75b65cb44d04ae19d64729f9bc45302": {
      "model_module": "@jupyter-widgets/base",
      "model_module_version": "1.0.0",
      "model_name": "LayoutModel",
      "state": {}
     },
     "e75f003fa6014d0f929f3d10f964a505": {
      "model_module": "@jupyter-widgets/base",
      "model_module_version": "1.0.0",
      "model_name": "LayoutModel",
      "state": {}
     },
     "e7d318254bf84894a5439cad73e4ece3": {
      "model_module": "@jupyter-widgets/controls",
      "model_module_version": "1.2.0",
      "model_name": "DescriptionStyleModel",
      "state": {
       "description_width": ""
      }
     },
     "e7f3feffaef74a18a4243d1ce5096550": {
      "model_module": "@jupyter-widgets/base",
      "model_module_version": "1.0.0",
      "model_name": "LayoutModel",
      "state": {}
     },
     "e80da0f65d50499880929f93cf2eb741": {
      "model_module": "@jupyter-widgets/controls",
      "model_module_version": "1.2.0",
      "model_name": "SliderStyleModel",
      "state": {
       "description_width": ""
      }
     },
     "e82bddc06b774d2fa6f8fb0bda473e17": {
      "model_module": "@jupyter-widgets/base",
      "model_module_version": "1.0.0",
      "model_name": "LayoutModel",
      "state": {}
     },
     "e88d3fe531324d048f35fdfc6389c762": {
      "model_module": "@jupyter-widgets/output",
      "model_module_version": "1.0.0",
      "model_name": "OutputModel",
      "state": {
       "layout": "IPY_MODEL_311e8f86cf7d47aa8a8e980d6eca2ae0",
       "outputs": [
        {
         "name": "stdout",
         "output_type": "stream",
         "text": "Se encontrará el mejor modelo con K estados en el rango: [55, 110]\n"
        }
       ]
      }
     },
     "e88fb1d655a64cbfa7336d03ff69a130": {
      "model_module": "@jupyter-widgets/output",
      "model_module_version": "1.0.0",
      "model_name": "OutputModel",
      "state": {
       "layout": "IPY_MODEL_04e083fe48b64597bc5d3080994f63cb",
       "outputs": [
        {
         "name": "stdout",
         "output_type": "stream",
         "text": "Los modelos a entrenar: ['EE. Quito - copia (2).pkl', 'EE. Quito - copia (3).pkl', 'EE. Quito - copia (4).pkl', 'EE. Quito - copia (5).pkl', 'EE. Quito - copia.pkl']\n"
        }
       ]
      }
     },
     "e8ad7d428d6447519c9575e2fd291dc7": {
      "model_module": "@jupyter-widgets/controls",
      "model_module_version": "1.2.0",
      "model_name": "ButtonStyleModel",
      "state": {}
     },
     "e8bacdb63cb34d8d8f8b4de7e86226b9": {
      "model_module": "@jupyter-widgets/controls",
      "model_module_version": "1.2.0",
      "model_name": "IntRangeSliderModel",
      "state": {
       "_model_name": "IntRangeSliderModel",
       "_view_name": "IntRangeSliderView",
       "layout": "IPY_MODEL_a4405537b91b4285b2d74e0a09c5b26a",
       "max": 120,
       "min": 40,
       "style": "IPY_MODEL_fbf099d676b54fb68ea0e7286d3e5faa",
       "value": [
        55,
        110
       ]
      }
     },
     "e8bbf8978e2f45e29f66f04de4d77dcd": {
      "model_module": "@jupyter-widgets/output",
      "model_module_version": "1.0.0",
      "model_name": "OutputModel",
      "state": {
       "layout": "IPY_MODEL_8a1888d7092c43f29558178711cf593f",
       "outputs": [
        {
         "name": "stdout",
         "output_type": "stream",
         "text": "Se encontrará el mejor modelo con K estados en el rango: [55, 110]\n"
        }
       ]
      }
     },
     "e8e9d13b1d5d405588a93bd874fb10b5": {
      "model_module": "@jupyter-widgets/base",
      "model_module_version": "1.0.0",
      "model_name": "LayoutModel",
      "state": {}
     },
     "e95fef124b8f46bf908bd247077bf1f4": {
      "model_module": "@jupyter-widgets/controls",
      "model_module_version": "1.2.0",
      "model_name": "IntRangeSliderModel",
      "state": {
       "_model_name": "IntRangeSliderModel",
       "_view_name": "IntRangeSliderView",
       "layout": "IPY_MODEL_b3f05defd329444085bf27a635bb91bd",
       "max": 120,
       "min": 40,
       "style": "IPY_MODEL_3d140388e9f6425db8f02a3403524285",
       "value": [
        55,
        110
       ]
      }
     },
     "e96f8c46b9de491c989beb1a1e7f59c3": {
      "model_module": "@jupyter-widgets/controls",
      "model_module_version": "1.2.0",
      "model_name": "IntSliderModel",
      "state": {
       "layout": "IPY_MODEL_313bd84ed6d84006bdb90aacd7f1c111",
       "max": 70,
       "min": 40,
       "style": "IPY_MODEL_b9e7e0364f274b3a9e05329b550f8dd9",
       "value": 70
      }
     },
     "e9a07b8d25ff47baae19d6e6947fcf8e": {
      "model_module": "@jupyter-widgets/base",
      "model_module_version": "1.0.0",
      "model_name": "LayoutModel",
      "state": {}
     },
     "ea47b6c0aeea44c88dbee8e2f5766ab3": {
      "model_module": "@jupyter-widgets/base",
      "model_module_version": "1.0.0",
      "model_name": "LayoutModel",
      "state": {}
     },
     "ea8541232d704729850924cf36443a7c": {
      "model_module": "@jupyter-widgets/base",
      "model_module_version": "1.0.0",
      "model_name": "LayoutModel",
      "state": {
       "width": "50%"
      }
     },
     "ea9525ab2ef84f1d887083e5453d5ac8": {
      "model_module": "@jupyter-widgets/base",
      "model_module_version": "1.0.0",
      "model_name": "LayoutModel",
      "state": {}
     },
     "ea957ae8b2474cad9fb140f91c0a8f01": {
      "model_module": "@jupyter-widgets/base",
      "model_module_version": "1.0.0",
      "model_name": "LayoutModel",
      "state": {}
     },
     "eadbefc9baeb44cfb0e5714202cf249c": {
      "model_module": "@jupyter-widgets/controls",
      "model_module_version": "1.2.0",
      "model_name": "HBoxModel",
      "state": {
       "children": [
        "IPY_MODEL_8215f704f5e046b982dece84b99f39fd"
       ],
       "layout": "IPY_MODEL_9256367e359a4157b22975aaf276a532"
      }
     },
     "eb569536bd4d4f9b820946e78d3c2155": {
      "model_module": "@jupyter-widgets/output",
      "model_module_version": "1.0.0",
      "model_name": "OutputModel",
      "state": {
       "layout": "IPY_MODEL_c65862da680344058d023f95c4ddbf4d",
       "outputs": [
        {
         "data": {
          "text/markdown": "**Modelos seleccionados:**",
          "text/plain": "<IPython.core.display.Markdown object>"
         },
         "metadata": {},
         "output_type": "display_data"
        },
        {
         "name": "stdout",
         "output_type": "stream",
         "text": "Empty DataFrame\nColumns: [Nombre]\nIndex: []\n"
        }
       ]
      }
     },
     "eb7c2a1014684cc9ac5043d88b87a758": {
      "model_module": "@jupyter-widgets/controls",
      "model_module_version": "1.2.0",
      "model_name": "DescriptionStyleModel",
      "state": {
       "description_width": ""
      }
     },
     "eb90d2679214480fab1a4da95b280ce9": {
      "model_module": "@jupyter-widgets/output",
      "model_module_version": "1.0.0",
      "model_name": "OutputModel",
      "state": {
       "layout": "IPY_MODEL_6da23110dba046428a5d3fd85c7b92d6",
       "outputs": [
        {
         "name": "stdout",
         "output_type": "stream",
         "text": "Se realizará 3 iteracciones\n"
        }
       ]
      }
     },
     "ec1ef8b7adf04b3aac94281b2cb8ca7e": {
      "model_module": "@jupyter-widgets/controls",
      "model_module_version": "1.2.0",
      "model_name": "DescriptionStyleModel",
      "state": {
       "description_width": ""
      }
     },
     "ed07b4871ca244ae8117cf758efb9aec": {
      "model_module": "@jupyter-widgets/base",
      "model_module_version": "1.0.0",
      "model_name": "LayoutModel",
      "state": {}
     },
     "ed44537c32fc4b0e8a5bd14c302598c0": {
      "model_module": "@jupyter-widgets/controls",
      "model_module_version": "1.2.0",
      "model_name": "HBoxModel",
      "state": {
       "children": [
        "IPY_MODEL_e96f8c46b9de491c989beb1a1e7f59c3",
        "IPY_MODEL_74e4ecce8b52449a93dd02fb0defe7c2"
       ],
       "layout": "IPY_MODEL_5fd03890b75a44f2aab4370922fc11f8"
      }
     },
     "ed4bada8f85c41f6a94ff6b3db6a91b5": {
      "model_module": "@jupyter-widgets/base",
      "model_module_version": "1.0.0",
      "model_name": "LayoutModel",
      "state": {
       "width": "50%"
      }
     },
     "ed5118b71f524f84888fab394516d82c": {
      "model_module": "@jupyter-widgets/base",
      "model_module_version": "1.0.0",
      "model_name": "LayoutModel",
      "state": {}
     },
     "ede7f58ab7f84f0ab924c10772426d92": {
      "model_module": "@jupyter-widgets/controls",
      "model_module_version": "1.2.0",
      "model_name": "SelectMultipleModel",
      "state": {
       "_options_labels": [
        "Apples",
        "Oranges",
        "Pears"
       ],
       "description": "Fruits",
       "index": [
        1
       ],
       "layout": "IPY_MODEL_ea47b6c0aeea44c88dbee8e2f5766ab3",
       "rows": 5,
       "style": "IPY_MODEL_b7adebed091a454a97dd1fbe951c7e09"
      }
     },
     "edf1a69290f3484ea111e5cd78e9121e": {
      "model_module": "@jupyter-widgets/base",
      "model_module_version": "1.0.0",
      "model_name": "LayoutModel",
      "state": {}
     },
     "edfadbfcdc6043d4b8b4eef6a89e558b": {
      "model_module": "@jupyter-widgets/controls",
      "model_module_version": "1.2.0",
      "model_name": "HBoxModel",
      "state": {
       "children": [
        "IPY_MODEL_7b3297e728914663a85b35639d8e397f"
       ],
       "layout": "IPY_MODEL_8c143f25ce8142c0890b18c732e4b4e5"
      }
     },
     "ee8a13133f8741aa97dbb8921eae74af": {
      "model_module": "@jupyter-widgets/controls",
      "model_module_version": "1.2.0",
      "model_name": "ButtonModel",
      "state": {
       "button_style": "info",
       "description": "Click aquí para empezar entrenamiento",
       "layout": "IPY_MODEL_6679c60e1a85448dbfc80992e9bafb79",
       "style": "IPY_MODEL_aa4b9bc53ff84718a55226bfdc862bc8",
       "tooltip": "Empieza el entrenamiento de acuerdo a los parámetros seleccionados"
      }
     },
     "ee9a34e95c7a4a4980cee2c659bba371": {
      "model_module": "@jupyter-widgets/base",
      "model_module_version": "1.0.0",
      "model_name": "LayoutModel",
      "state": {}
     },
     "f073673faa6f46d8b4ede94d2576bd84": {
      "model_module": "@jupyter-widgets/controls",
      "model_module_version": "1.2.0",
      "model_name": "IntSliderModel",
      "state": {
       "layout": "IPY_MODEL_84c652efdd29462db818c1fa3f83c33e",
       "max": 120,
       "min": 75,
       "style": "IPY_MODEL_4937940bb2e042278bc5c65ab05c92e6",
       "value": 75
      }
     },
     "f090f07f0552471d8d936032a60520f8": {
      "model_module": "@jupyter-widgets/base",
      "model_module_version": "1.0.0",
      "model_name": "LayoutModel",
      "state": {}
     },
     "f098c60ba8084124b879dc822507958b": {
      "model_module": "@jupyter-widgets/controls",
      "model_module_version": "1.2.0",
      "model_name": "HBoxModel",
      "state": {
       "children": [
        "IPY_MODEL_49559180f4ba403a91c7038550b409fc"
       ],
       "layout": "IPY_MODEL_fc3211f5ff904e1bbe798464222365c0"
      }
     },
     "f190c23b21604624bbb622460747bd47": {
      "model_module": "@jupyter-widgets/controls",
      "model_module_version": "1.2.0",
      "model_name": "DescriptionStyleModel",
      "state": {
       "description_width": ""
      }
     },
     "f2027de822a446288bf54fe70e6fd0c5": {
      "model_module": "@jupyter-widgets/base",
      "model_module_version": "1.0.0",
      "model_name": "LayoutModel",
      "state": {}
     },
     "f2497accf9f149059f8c091844ee8b17": {
      "model_module": "@jupyter-widgets/base",
      "model_module_version": "1.0.0",
      "model_name": "LayoutModel",
      "state": {}
     },
     "f2d3796ab5ac4360a2f2a3ac98510853": {
      "model_module": "@jupyter-widgets/base",
      "model_module_version": "1.0.0",
      "model_name": "LayoutModel",
      "state": {}
     },
     "f32f72a06222472db09f085afa42b3fc": {
      "model_module": "@jupyter-widgets/controls",
      "model_module_version": "1.2.0",
      "model_name": "IntSliderModel",
      "state": {
       "layout": "IPY_MODEL_296d881fddcb4485aeba5dde2b161274",
       "max": 10,
       "min": 1,
       "style": "IPY_MODEL_b48b38cafd504560ab1e39acfdbb657d",
       "value": 5
      }
     },
     "f38763da4af94e4eaff90e103084c469": {
      "model_module": "@jupyter-widgets/controls",
      "model_module_version": "1.2.0",
      "model_name": "SelectMultipleModel",
      "state": {
       "_options_labels": [
        "Bornes_P_Total.pkl",
        "EE. Quito - copia (2).pkl",
        "EE. Quito - copia (3).pkl",
        "EE. Quito - copia (4).pkl",
        "EE. Quito - copia (5).pkl",
        "EE. Quito - copia.pkl",
        "EE. Quito.pkl"
       ],
       "description": "Modelos: ",
       "index": [
        0
       ],
       "layout": "IPY_MODEL_08be8c44162945e6b8cd61f7bafd467b",
       "rows": 7,
       "style": "IPY_MODEL_12bf759acb45454f94ce8670dca6042b"
      }
     },
     "f3b7726fee1f455a9a84ef04b0455a86": {
      "model_module": "@jupyter-widgets/output",
      "model_module_version": "1.0.0",
      "model_name": "OutputModel",
      "state": {
       "layout": "IPY_MODEL_f93256f7b40249ddae294877c92621e1",
       "outputs": [
        {
         "data": {
          "text/markdown": "**Modelos seleccionados:**",
          "text/plain": "<IPython.core.display.Markdown object>"
         },
         "metadata": {},
         "output_type": "display_data"
        },
        {
         "name": "stdout",
         "output_type": "stream",
         "text": "Empty DataFrame\nColumns: [Nombre]\nIndex: []\n"
        }
       ]
      }
     },
     "f4d0024213184fac8481e5815c8a133b": {
      "model_module": "@jupyter-widgets/controls",
      "model_module_version": "1.2.0",
      "model_name": "IntRangeSliderModel",
      "state": {
       "_model_name": "IntRangeSliderModel",
       "_view_name": "IntRangeSliderView",
       "layout": "IPY_MODEL_f2027de822a446288bf54fe70e6fd0c5",
       "max": 120,
       "min": 40,
       "style": "IPY_MODEL_3df3a6f06ee646fb8cfac37b4bcc1b94",
       "value": [
        62,
        90
       ]
      }
     },
     "f4d978353d8d4d6fa13c3448583e0a0b": {
      "model_module": "@jupyter-widgets/base",
      "model_module_version": "1.0.0",
      "model_name": "LayoutModel",
      "state": {}
     },
     "f54f1a13f9d24bd3ba9eb8c188cd0b4e": {
      "model_module": "@jupyter-widgets/controls",
      "model_module_version": "1.2.0",
      "model_name": "SliderStyleModel",
      "state": {
       "description_width": ""
      }
     },
     "f5b8a4c7623044b1a853d090b8a728bd": {
      "model_module": "@jupyter-widgets/base",
      "model_module_version": "1.0.0",
      "model_name": "LayoutModel",
      "state": {}
     },
     "f5fa150fdf7d47e4b94dd833cd2a8db2": {
      "model_module": "@jupyter-widgets/base",
      "model_module_version": "1.0.0",
      "model_name": "LayoutModel",
      "state": {}
     },
     "f68dda2082984eeb873cac2761318200": {
      "model_module": "@jupyter-widgets/controls",
      "model_module_version": "1.2.0",
      "model_name": "ButtonModel",
      "state": {
       "button_style": "info",
       "description": "Click aquí para empezar entrenamiento",
       "layout": "IPY_MODEL_aa854e40ba6746f09b23caed4e098ad0",
       "style": "IPY_MODEL_8642cdd0ed524ce4a8f82f079d097d1a",
       "tooltip": "Empieza el entrenamiento de acuerdo a los parámetros seleccionados"
      }
     },
     "f6f4532da11a4b668402f503fd0712bc": {
      "model_module": "@jupyter-widgets/controls",
      "model_module_version": "1.2.0",
      "model_name": "ButtonModel",
      "state": {
       "button_style": "info",
       "description": "Click aquí para empezar entrenamiento",
       "layout": "IPY_MODEL_362ec231acc749609c3ce2c6c4775dc6",
       "style": "IPY_MODEL_adf4bb7c441d46a68608f4bd03fc9699",
       "tooltip": "Empieza el entrenamiento de acuerdo a los parámetros seleccionados"
      }
     },
     "f705a635d40946b2af80f34c837bc408": {
      "model_module": "@jupyter-widgets/controls",
      "model_module_version": "1.2.0",
      "model_name": "ButtonModel",
      "state": {
       "button_style": "warning",
       "description": "Empezar entrenamiento",
       "layout": "IPY_MODEL_00a1f8c7b2a14823a3ea4ce60e9dbe7b",
       "style": "IPY_MODEL_feb7c5d2b92941a0ad97aff71581cc00",
       "tooltip": "Empieza el entrenamiento de acuerdo a los parámetros anteriores"
      }
     },
     "f74b8f8a15314fb5b00bf8a0fe6c72ba": {
      "model_module": "@jupyter-widgets/base",
      "model_module_version": "1.0.0",
      "model_name": "LayoutModel",
      "state": {
       "width": "50%"
      }
     },
     "f86d0908f8924b72af33852e89f699fb": {
      "model_module": "@jupyter-widgets/base",
      "model_module_version": "1.0.0",
      "model_name": "LayoutModel",
      "state": {}
     },
     "f8bc351647fa4e209fc1d9f580a44f3e": {
      "model_module": "@jupyter-widgets/controls",
      "model_module_version": "1.2.0",
      "model_name": "SliderStyleModel",
      "state": {
       "description_width": ""
      }
     },
     "f91d556258384681bcd73f4377c78ee7": {
      "model_module": "@jupyter-widgets/output",
      "model_module_version": "1.0.0",
      "model_name": "OutputModel",
      "state": {
       "layout": "IPY_MODEL_745be7cae8d64c3797dd25c6e528b3ef",
       "outputs": [
        {
         "data": {
          "text/markdown": "**Modelos a entrenar:**",
          "text/plain": "<IPython.core.display.Markdown object>"
         },
         "metadata": {},
         "output_type": "display_data"
        },
        {
         "name": "stdout",
         "output_type": "stream",
         "text": "   Modelos seleccionados\nID                      \n0     Bornes_P_Total.pkl\n"
        }
       ]
      }
     },
     "f93256f7b40249ddae294877c92621e1": {
      "model_module": "@jupyter-widgets/base",
      "model_module_version": "1.0.0",
      "model_name": "LayoutModel",
      "state": {}
     },
     "fa09d505a4d84b7fa46b183fbe31f871": {
      "model_module": "@jupyter-widgets/controls",
      "model_module_version": "1.2.0",
      "model_name": "DescriptionStyleModel",
      "state": {
       "description_width": ""
      }
     },
     "fa267220b3ef4d739121a2109629c623": {
      "model_module": "@jupyter-widgets/controls",
      "model_module_version": "1.2.0",
      "model_name": "HBoxModel",
      "state": {
       "children": [
        "IPY_MODEL_3a7b9e6190384ce48d3ecf4067d6657e"
       ],
       "layout": "IPY_MODEL_771ae7fa177c4650bde3047199617eff"
      }
     },
     "fa46e7714c994037bc4d0ba2902a3b1b": {
      "model_module": "@jupyter-widgets/controls",
      "model_module_version": "1.2.0",
      "model_name": "HBoxModel",
      "state": {
       "children": [
        "IPY_MODEL_ba769896b291427e818ce257f9ef283b"
       ],
       "layout": "IPY_MODEL_ac04dfd9b7cc45b5b2ba89d0f7fc422c"
      }
     },
     "fa63b3cb2d894591a059ed923da2f3f2": {
      "model_module": "@jupyter-widgets/base",
      "model_module_version": "1.0.0",
      "model_name": "LayoutModel",
      "state": {}
     },
     "fa7a63db321e4988a1774cb4659c4699": {
      "model_module": "@jupyter-widgets/base",
      "model_module_version": "1.0.0",
      "model_name": "LayoutModel",
      "state": {}
     },
     "fb59d483e6854df88ad625793838e62f": {
      "model_module": "@jupyter-widgets/controls",
      "model_module_version": "1.2.0",
      "model_name": "SliderStyleModel",
      "state": {
       "description_width": ""
      }
     },
     "fbb22b31bbec4900a5366e990d56cbb0": {
      "model_module": "@jupyter-widgets/base",
      "model_module_version": "1.0.0",
      "model_name": "LayoutModel",
      "state": {}
     },
     "fbc8c6a1f51b4b5fb49e2c11b22f61ae": {
      "model_module": "@jupyter-widgets/base",
      "model_module_version": "1.0.0",
      "model_name": "LayoutModel",
      "state": {}
     },
     "fbf099d676b54fb68ea0e7286d3e5faa": {
      "model_module": "@jupyter-widgets/controls",
      "model_module_version": "1.2.0",
      "model_name": "SliderStyleModel",
      "state": {
       "description_width": ""
      }
     },
     "fbfe22e5ed4047eeb66b031587abcc3a": {
      "model_module": "@jupyter-widgets/base",
      "model_module_version": "1.0.0",
      "model_name": "LayoutModel",
      "state": {
       "flex": "1 1 0%",
       "width": "50%"
      }
     },
     "fc1b90e19b3a44428b94a1a9228189ed": {
      "model_module": "@jupyter-widgets/base",
      "model_module_version": "1.0.0",
      "model_name": "LayoutModel",
      "state": {}
     },
     "fc3211f5ff904e1bbe798464222365c0": {
      "model_module": "@jupyter-widgets/base",
      "model_module_version": "1.0.0",
      "model_name": "LayoutModel",
      "state": {}
     },
     "fca1d465be35482e9b3922393f26c27d": {
      "model_module": "@jupyter-widgets/controls",
      "model_module_version": "1.2.0",
      "model_name": "SliderStyleModel",
      "state": {
       "description_width": ""
      }
     },
     "fcbd9e65e97a431fa197c8a57e0b499c": {
      "model_module": "@jupyter-widgets/base",
      "model_module_version": "1.0.0",
      "model_name": "LayoutModel",
      "state": {}
     },
     "fd071c6c37724e29b4be982676de8e35": {
      "model_module": "@jupyter-widgets/controls",
      "model_module_version": "1.2.0",
      "model_name": "IntSliderModel",
      "state": {
       "layout": "IPY_MODEL_0448d4a7710943efb3ec03965569b498",
       "max": 10,
       "min": 1,
       "style": "IPY_MODEL_76201bb1591d4b8d82e5e69cd8686378",
       "value": 5
      }
     },
     "fd2885a2091e4973ba595ee8c14c75f7": {
      "model_module": "@jupyter-widgets/controls",
      "model_module_version": "1.2.0",
      "model_name": "HBoxModel",
      "state": {
       "children": [
        "IPY_MODEL_06947b2d686f4a92a960d1e82f0be2d7"
       ],
       "layout": "IPY_MODEL_d1dc8647fa24477f86e5df5495320762"
      }
     },
     "fd2fa48eb9d44a4a9cdadd3e784c4130": {
      "model_module": "@jupyter-widgets/controls",
      "model_module_version": "1.2.0",
      "model_name": "DescriptionStyleModel",
      "state": {
       "description_width": ""
      }
     },
     "fdb2b10e80cf48f191fa715abe301b82": {
      "model_module": "@jupyter-widgets/controls",
      "model_module_version": "1.2.0",
      "model_name": "DescriptionStyleModel",
      "state": {
       "description_width": ""
      }
     },
     "fde622df0d8c4a269ac3121b452ec9b3": {
      "model_module": "@jupyter-widgets/controls",
      "model_module_version": "1.2.0",
      "model_name": "DescriptionStyleModel",
      "state": {
       "description_width": ""
      }
     },
     "fdee8c635d654ceda4a534e1d93f5134": {
      "model_module": "@jupyter-widgets/output",
      "model_module_version": "1.0.0",
      "model_name": "OutputModel",
      "state": {
       "layout": "IPY_MODEL_72665df8da724c5c87f81191bccaec4d",
       "outputs": [
        {
         "name": "stdout",
         "output_type": "stream",
         "text": "Se realizará 5 iteracciones\n"
        }
       ]
      }
     },
     "feb7c5d2b92941a0ad97aff71581cc00": {
      "model_module": "@jupyter-widgets/controls",
      "model_module_version": "1.2.0",
      "model_name": "ButtonStyleModel",
      "state": {}
     },
     "feb8c240287547df8c33c9a05492e398": {
      "model_module": "@jupyter-widgets/controls",
      "model_module_version": "1.2.0",
      "model_name": "ButtonStyleModel",
      "state": {}
     },
     "fed870a8bf014a0f841d0dbda12d1117": {
      "model_module": "@jupyter-widgets/controls",
      "model_module_version": "1.2.0",
      "model_name": "HBoxModel",
      "state": {
       "children": [
        "IPY_MODEL_20ed2cad0ac54e6999b7f118a46d16a4"
       ],
       "layout": "IPY_MODEL_76b43f87193546dda9517d5e6273565b"
      }
     },
     "ff2ac4af837d4ec8a525ef1ab7e5891d": {
      "model_module": "@jupyter-widgets/base",
      "model_module_version": "1.0.0",
      "model_name": "LayoutModel",
      "state": {}
     },
     "ff386f4defba477390471003ac4b6d8d": {
      "model_module": "@jupyter-widgets/base",
      "model_module_version": "1.0.0",
      "model_name": "LayoutModel",
      "state": {}
     },
     "ff8abc9359b14713a6b83bfcac6acdd7": {
      "model_module": "@jupyter-widgets/base",
      "model_module_version": "1.0.0",
      "model_name": "LayoutModel",
      "state": {}
     },
     "ffd28d724dbe430c9c31d1634d163e11": {
      "model_module": "@jupyter-widgets/base",
      "model_module_version": "1.0.0",
      "model_name": "LayoutModel",
      "state": {}
     },
     "ffe2a4b206ef4763849adb8ce2937d7c": {
      "model_module": "@jupyter-widgets/controls",
      "model_module_version": "1.2.0",
      "model_name": "IntRangeSliderModel",
      "state": {
       "_model_name": "IntRangeSliderModel",
       "_view_name": "IntRangeSliderView",
       "layout": "IPY_MODEL_309161ac0b4f45dd9f6e69c100ee726e",
       "max": 70,
       "min": 40,
       "style": "IPY_MODEL_0930dbf7da324e7cac41453753b7d46d",
       "value": [
        70,
        70
       ]
      }
     }
    },
    "version_major": 2,
    "version_minor": 0
   }
  }
 },
 "nbformat": 4,
 "nbformat_minor": 2
}
